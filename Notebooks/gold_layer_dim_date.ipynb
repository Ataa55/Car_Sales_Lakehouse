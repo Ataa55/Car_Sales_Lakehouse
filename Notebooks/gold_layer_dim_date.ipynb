{
 "cells": [
  {
   "cell_type": "code",
   "execution_count": 0,
   "metadata": {
    "application/vnd.databricks.v1+cell": {
     "cellMetadata": {
      "byteLimit": 2048000,
      "rowLimit": 10000
     },
     "inputWidgets": {},
     "nuid": "248d460d-cd24-4c04-b77e-2cea2a747c9e",
     "showTitle": false,
     "tableResultSettingsMap": {},
     "title": ""
    }
   },
   "outputs": [],
   "source": [
    "from pyspark.sql import functions as F\n",
    "from pyspark.sql import types as T\n",
    "from delta.tables import DeltaTable\n",
    "\n",
    "# glopal variables\n",
    "storage_account = \"ataacarprojectdatalake\"\n",
    "datalake_key = \"xxxxxxxxx\"\n",
    "inc_flag = True\n",
    "dim_name = \"dim_date\"\n",
    "spark.conf.set(f\"fs.azure.account.key.{storage_account}.dfs.core.windows.net\", \n",
    "               access_key)\n",
    "\n",
    "#extracting the model\n",
    "df_src = spark.sql('''\n",
    "                         select Distinct Date_ID from parquet.`abfss://silver@ataacarprojectdatalake.dfs.core.windows.net/car_sales/`\n",
    "                         ''')\n",
    "\n"
   ]
  },
  {
   "cell_type": "code",
   "execution_count": 0,
   "metadata": {
    "application/vnd.databricks.v1+cell": {
     "cellMetadata": {
      "byteLimit": 2048000,
      "implicitDf": true,
      "rowLimit": 10000
     },
     "inputWidgets": {},
     "nuid": "ffd70b3d-3cfa-4511-b502-26ffee447565",
     "showTitle": false,
     "tableResultSettingsMap": {},
     "title": ""
    }
   },
   "outputs": [],
   "source": [
    "if inc_flag:\n",
    "    # if we have the table - case of incremental run - then get all of the data from the gold layer\n",
    "    df_target = spark.sql('''\n",
    "                        select Date_sk ,Date_ID from delta.`abfss://gold@ataacarprojectdatalake.dfs.core.windows.net/dim_date/` \n",
    "                        ''')\n",
    "    #get the table max value to be added layer to the next new data\n",
    "    max_value = df_target.select(F.max(\"date_sk\")).collect()[0][0]\n",
    "\n",
    "\n",
    "elif not inc_flag:\n",
    "    # if we don't have the table - case of full run - then get only the table schema from the silver layer\n",
    "    df_target = spark.sql('''\n",
    "                          select 1 as Date_sk ,Date_ID from parquet.`abfss://silver@ataacarprojectdatalake.dfs.core.windows.net/car_sales/` \n",
    "                          where 1=0\n",
    "                          ''')\n",
    "    max_value = 1\n",
    "\n",
    "    \n",
    "\n",
    "    "
   ]
  },
  {
   "cell_type": "code",
   "execution_count": 0,
   "metadata": {
    "application/vnd.databricks.v1+cell": {
     "cellMetadata": {
      "byteLimit": 2048000,
      "rowLimit": 10000
     },
     "inputWidgets": {},
     "nuid": "d2626691-797a-4e5a-999d-fb06a2c47d02",
     "showTitle": false,
     "tableResultSettingsMap": {},
     "title": ""
    }
   },
   "outputs": [],
   "source": [
    "df_joined = df_src.join(df_target, df_src[\"Date_ID\"] == df_target[\"Date_ID\"], how='left').select(df_src[\"Date_ID\"], df_target[\"Date_sk\"])\n",
    "df_new_source_data = df_joined.filter(df_joined[\"Date_sk\"].isNull())\n",
    "df_old_source_data = df_joined.filter(df_joined[\"Date_sk\"].isNotNull())\n",
    "\n",
    "df_new_source_data = df_new_source_data.withColumn(\"Date_sk\", F.monotonically_increasing_id()+max_value)\n",
    "\n",
    "df_model_final = df_new_source_data.union(df_old_source_data)\n",
    "    "
   ]
  },
  {
   "cell_type": "code",
   "execution_count": 0,
   "metadata": {
    "application/vnd.databricks.v1+cell": {
     "cellMetadata": {
      "byteLimit": 2048000,
      "rowLimit": 10000
     },
     "inputWidgets": {},
     "nuid": "bba19fd1-427a-4772-9e41-fc0ca88c5760",
     "showTitle": false,
     "tableResultSettingsMap": {},
     "title": ""
    }
   },
   "outputs": [
    {
     "name": "stdout",
     "output_type": "stream",
     "text": [
      "now i completed the merge\n"
     ]
    }
   ],
   "source": [
    "if inc_flag:\n",
    "    delta_table = DeltaTable.forPath(spark, f\"abfss://gold@ataacarprojectdatalake.dfs.core.windows.net/{dim_name}/\")\n",
    "    delta_table.alias(\"trg\").merge(df_model_final.alias(\"src\"), \"trg.Date_ID = src.Date_ID\")\\\n",
    "                .whenMatchedUpdateAll()\\\n",
    "                .whenNotMatchedInsertAll()\\\n",
    "                .execute()\n",
    "    print(\"now i completed the merge\")\n",
    "\n",
    "else:\n",
    "    print(\"i'll load all the data to the gold layer\")\n",
    "    df_model_final.write.format(\"delta\").mode(\"overwrite\").option(\"path\", f\"abfss://gold@ataacarprojectdatalake.dfs.core.windows.net/{dim_name}/\").save()\n",
    "    inc_flag = True"
   ]
  },
  {
   "cell_type": "code",
   "execution_count": 0,
   "metadata": {
    "application/vnd.databricks.v1+cell": {
     "cellMetadata": {
      "byteLimit": 2048000,
      "implicitDf": true,
      "rowLimit": 10000
     },
     "inputWidgets": {},
     "nuid": "471c6a0d-4742-4fea-b67c-4c268ed2fde7",
     "showTitle": false,
     "tableResultSettingsMap": {},
     "title": ""
    }
   },
   "outputs": [
    {
     "data": {
      "text/html": [
       "<style scoped>\n",
       "  .table-result-container {\n",
       "    max-height: 300px;\n",
       "    overflow: auto;\n",
       "  }\n",
       "  table, th, td {\n",
       "    border: 1px solid black;\n",
       "    border-collapse: collapse;\n",
       "  }\n",
       "  th, td {\n",
       "    padding: 5px;\n",
       "  }\n",
       "  th {\n",
       "    text-align: left;\n",
       "  }\n",
       "</style><div class='table-result-container'><table class='table-result'><thead style='background-color: white'><tr><th>Date_ID</th><th>Date_sk</th></tr></thead><tbody><tr><td>DT00029</td><td>1</td></tr><tr><td>DT00140</td><td>2</td></tr><tr><td>DT00192</td><td>3</td></tr><tr><td>DT00444</td><td>4</td></tr><tr><td>DT00475</td><td>5</td></tr><tr><td>DT00947</td><td>6</td></tr><tr><td>DT00976</td><td>7</td></tr><tr><td>DT01028</td><td>8</td></tr><tr><td>DT01099</td><td>9</td></tr><tr><td>DT00657</td><td>10</td></tr><tr><td>DT00874</td><td>11</td></tr><tr><td>DT01044</td><td>12</td></tr><tr><td>DT01208</td><td>13</td></tr><tr><td>DT01234</td><td>14</td></tr><tr><td>DT00412</td><td>15</td></tr><tr><td>DT00984</td><td>16</td></tr><tr><td>DT00056</td><td>17</td></tr><tr><td>DT00091</td><td>18</td></tr><tr><td>DT00321</td><td>19</td></tr><tr><td>DT00478</td><td>20</td></tr><tr><td>DT01033</td><td>21</td></tr><tr><td>DT00098</td><td>22</td></tr><tr><td>DT00454</td><td>23</td></tr><tr><td>DT00485</td><td>24</td></tr><tr><td>DT00935</td><td>25</td></tr><tr><td>DT00437</td><td>26</td></tr><tr><td>DT00524</td><td>27</td></tr><tr><td>DT00543</td><td>28</td></tr><tr><td>DT00667</td><td>29</td></tr><tr><td>DT00686</td><td>30</td></tr><tr><td>DT00742</td><td>31</td></tr><tr><td>DT00985</td><td>32</td></tr><tr><td>DT01026</td><td>33</td></tr><tr><td>DT01107</td><td>34</td></tr><tr><td>DT00138</td><td>35</td></tr><tr><td>DT00479</td><td>36</td></tr><tr><td>DT00613</td><td>37</td></tr><tr><td>DT00750</td><td>38</td></tr><tr><td>DT00804</td><td>39</td></tr><tr><td>DT00862</td><td>40</td></tr><tr><td>DT00900</td><td>41</td></tr><tr><td>DT00914</td><td>42</td></tr><tr><td>DT00921</td><td>43</td></tr><tr><td>DT00464</td><td>44</td></tr><tr><td>DT00591</td><td>45</td></tr><tr><td>DT00811</td><td>46</td></tr><tr><td>DT01207</td><td>47</td></tr><tr><td>DT00176</td><td>48</td></tr><tr><td>DT00236</td><td>49</td></tr><tr><td>DT00325</td><td>50</td></tr><tr><td>DT00457</td><td>51</td></tr><tr><td>DT00614</td><td>52</td></tr><tr><td>DT01102</td><td>53</td></tr><tr><td>DT01224</td><td>54</td></tr><tr><td>DT00037</td><td>55</td></tr><tr><td>DT00064</td><td>56</td></tr><tr><td>DT00534</td><td>57</td></tr><tr><td>DT00632</td><td>58</td></tr><tr><td>DT00851</td><td>59</td></tr><tr><td>DT00925</td><td>60</td></tr><tr><td>DT01020</td><td>61</td></tr><tr><td>DT01153</td><td>62</td></tr><tr><td>DT01185</td><td>63</td></tr><tr><td>DT00103</td><td>64</td></tr><tr><td>DT00108</td><td>65</td></tr><tr><td>DT00155</td><td>66</td></tr><tr><td>DT00272</td><td>67</td></tr><tr><td>DT00396</td><td>68</td></tr><tr><td>DT00829</td><td>69</td></tr><tr><td>DT00909</td><td>70</td></tr><tr><td>DT01213</td><td>71</td></tr><tr><td>DT00102</td><td>72</td></tr><tr><td>DT00603</td><td>73</td></tr><tr><td>DT00736</td><td>74</td></tr><tr><td>DT00885</td><td>75</td></tr><tr><td>DT01001</td><td>76</td></tr><tr><td>DT01112</td><td>77</td></tr><tr><td>DT00111</td><td>78</td></tr><tr><td>DT00127</td><td>79</td></tr><tr><td>DT00402</td><td>80</td></tr><tr><td>DT00428</td><td>81</td></tr><tr><td>DT00496</td><td>82</td></tr><tr><td>DT00680</td><td>83</td></tr><tr><td>DT00819</td><td>84</td></tr><tr><td>DT01144</td><td>85</td></tr><tr><td>DT01222</td><td>86</td></tr><tr><td>DT00456</td><td>87</td></tr><tr><td>DT00500</td><td>88</td></tr><tr><td>DT00693</td><td>89</td></tr><tr><td>DT00835</td><td>90</td></tr><tr><td>DT01058</td><td>91</td></tr><tr><td>DT00223</td><td>92</td></tr><tr><td>DT01067</td><td>93</td></tr><tr><td>DT01086</td><td>94</td></tr><tr><td>DT00604</td><td>95</td></tr><tr><td>DT00650</td><td>96</td></tr><tr><td>DT00678</td><td>97</td></tr><tr><td>DT00774</td><td>98</td></tr><tr><td>DT00823</td><td>99</td></tr><tr><td>DT00962</td><td>100</td></tr><tr><td>DT00164</td><td>101</td></tr><tr><td>DT00235</td><td>102</td></tr><tr><td>DT00298</td><td>103</td></tr><tr><td>DT00425</td><td>104</td></tr><tr><td>DT00837</td><td>105</td></tr><tr><td>DT01015</td><td>106</td></tr><tr><td>DT01216</td><td>107</td></tr><tr><td>DT00119</td><td>108</td></tr><tr><td>DT00477</td><td>109</td></tr><tr><td>DT00520</td><td>110</td></tr><tr><td>DT00754</td><td>111</td></tr><tr><td>DT00973</td><td>112</td></tr><tr><td>DT01114</td><td>113</td></tr><tr><td>DT01129</td><td>114</td></tr><tr><td>DT00031</td><td>115</td></tr><tr><td>DT00468</td><td>116</td></tr><tr><td>DT00845</td><td>117</td></tr><tr><td>DT01085</td><td>118</td></tr><tr><td>DT01091</td><td>119</td></tr><tr><td>DT01134</td><td>120</td></tr><tr><td>DT01178</td><td>121</td></tr><tr><td>DT00026</td><td>122</td></tr><tr><td>DT00059</td><td>123</td></tr><tr><td>DT00290</td><td>124</td></tr><tr><td>DT00364</td><td>125</td></tr><tr><td>DT00375</td><td>126</td></tr><tr><td>DT00455</td><td>127</td></tr><tr><td>DT00873</td><td>128</td></tr><tr><td>DT00990</td><td>129</td></tr><tr><td>DT01007</td><td>130</td></tr><tr><td>DT01019</td><td>131</td></tr><tr><td>DT00285</td><td>132</td></tr><tr><td>DT00683</td><td>133</td></tr><tr><td>DT00765</td><td>134</td></tr><tr><td>DT00838</td><td>135</td></tr><tr><td>DT00995</td><td>136</td></tr><tr><td>DT01009</td><td>137</td></tr><tr><td>DT00212</td><td>138</td></tr><tr><td>DT00733</td><td>139</td></tr><tr><td>DT00950</td><td>140</td></tr><tr><td>DT00959</td><td>141</td></tr><tr><td>DT01018</td><td>142</td></tr><tr><td>DT00461</td><td>143</td></tr><tr><td>DT00734</td><td>144</td></tr><tr><td>DT00071</td><td>145</td></tr><tr><td>DT00203</td><td>146</td></tr><tr><td>DT00307</td><td>147</td></tr><tr><td>DT00450</td><td>148</td></tr><tr><td>DT00567</td><td>149</td></tr><tr><td>DT00570</td><td>150</td></tr><tr><td>DT00612</td><td>151</td></tr><tr><td>DT00628</td><td>152</td></tr><tr><td>DT00663</td><td>153</td></tr><tr><td>DT00762</td><td>154</td></tr><tr><td>DT01065</td><td>155</td></tr><tr><td>DT00118</td><td>156</td></tr><tr><td>DT00243</td><td>157</td></tr><tr><td>DT00718</td><td>158</td></tr><tr><td>DT00625</td><td>159</td></tr><tr><td>DT00756</td><td>160</td></tr><tr><td>DT00766</td><td>161</td></tr><tr><td>DT00841</td><td>162</td></tr><tr><td>DT01093</td><td>163</td></tr><tr><td>DT01176</td><td>164</td></tr><tr><td>DT00297</td><td>165</td></tr><tr><td>DT00397</td><td>166</td></tr><tr><td>DT00767</td><td>167</td></tr><tr><td>DT01097</td><td>168</td></tr><tr><td>DT00013</td><td>169</td></tr><tr><td>DT00198</td><td>170</td></tr><tr><td>DT00476</td><td>171</td></tr><tr><td>DT00481</td><td>172</td></tr><tr><td>DT00791</td><td>173</td></tr><tr><td>DT01133</td><td>174</td></tr><tr><td>DT01244</td><td>175</td></tr><tr><td>DT00087</td><td>176</td></tr><tr><td>DT00161</td><td>177</td></tr><tr><td>DT00163</td><td>178</td></tr><tr><td>DT00352</td><td>179</td></tr><tr><td>DT00463</td><td>180</td></tr><tr><td>DT00575</td><td>181</td></tr><tr><td>DT00639</td><td>182</td></tr><tr><td>DT01241</td><td>183</td></tr><tr><td>DT00360</td><td>184</td></tr><tr><td>DT00709</td><td>185</td></tr><tr><td>DT00719</td><td>186</td></tr><tr><td>DT00009</td><td>187</td></tr><tr><td>DT00257</td><td>188</td></tr><tr><td>DT00388</td><td>189</td></tr><tr><td>DT00792</td><td>190</td></tr><tr><td>DT01083</td><td>191</td></tr><tr><td>DT00099</td><td>192</td></tr><tr><td>DT00196</td><td>193</td></tr><tr><td>DT00385</td><td>194</td></tr><tr><td>DT00607</td><td>195</td></tr><tr><td>DT00615</td><td>196</td></tr><tr><td>DT00930</td><td>197</td></tr><tr><td>DT01017</td><td>198</td></tr><tr><td>DT00076</td><td>199</td></tr><tr><td>DT00174</td><td>200</td></tr><tr><td>DT00260</td><td>201</td></tr><tr><td>DT00319</td><td>202</td></tr><tr><td>DT00730</td><td>203</td></tr><tr><td>DT00846</td><td>204</td></tr><tr><td>DT00312</td><td>205</td></tr><tr><td>DT00417</td><td>206</td></tr><tr><td>DT00579</td><td>207</td></tr><tr><td>DT00634</td><td>208</td></tr><tr><td>DT01116</td><td>209</td></tr><tr><td>DT00217</td><td>210</td></tr><tr><td>DT00083</td><td>211</td></tr><tr><td>DT00159</td><td>212</td></tr><tr><td>DT00208</td><td>213</td></tr><tr><td>DT00268</td><td>214</td></tr><tr><td>DT00857</td><td>215</td></tr><tr><td>DT01003</td><td>216</td></tr><tr><td>DT01154</td><td>217</td></tr><tr><td>DT01179</td><td>218</td></tr><tr><td>DT00147</td><td>219</td></tr><tr><td>DT00441</td><td>220</td></tr><tr><td>DT00043</td><td>221</td></tr><tr><td>DT00051</td><td>222</td></tr><tr><td>DT00720</td><td>223</td></tr><tr><td>DT00776</td><td>224</td></tr><tr><td>DT00943</td><td>225</td></tr><tr><td>DT00955</td><td>226</td></tr><tr><td>DT00027</td><td>227</td></tr><tr><td>DT00089</td><td>228</td></tr><tr><td>DT00170</td><td>229</td></tr><tr><td>DT00452</td><td>230</td></tr><tr><td>DT00684</td><td>231</td></tr><tr><td>DT00833</td><td>232</td></tr><tr><td>DT00883</td><td>233</td></tr><tr><td>DT00046</td><td>234</td></tr><tr><td>DT00060</td><td>235</td></tr><tr><td>DT00136</td><td>236</td></tr><tr><td>DT00393</td><td>237</td></tr><tr><td>DT01115</td><td>238</td></tr><tr><td>DT00526</td><td>239</td></tr><tr><td>DT00675</td><td>240</td></tr><tr><td>DT00850</td><td>241</td></tr><tr><td>DT00940</td><td>242</td></tr><tr><td>DT01056</td><td>243</td></tr><tr><td>DT00080</td><td>244</td></tr><tr><td>DT00363</td><td>245</td></tr><tr><td>DT00366</td><td>246</td></tr><tr><td>DT00411</td><td>247</td></tr><tr><td>DT00749</td><td>248</td></tr><tr><td>DT00908</td><td>249</td></tr><tr><td>DT01048</td><td>250</td></tr><tr><td>DT00012</td><td>251</td></tr><tr><td>DT00020</td><td>252</td></tr><tr><td>DT00038</td><td>253</td></tr><tr><td>DT00331</td><td>254</td></tr><tr><td>DT00516</td><td>255</td></tr><tr><td>DT00698</td><td>256</td></tr><tr><td>DT00813</td><td>257</td></tr><tr><td>DT01182</td><td>258</td></tr><tr><td>DT00057</td><td>259</td></tr><tr><td>DT00442</td><td>260</td></tr><tr><td>DT00714</td><td>261</td></tr><tr><td>DT00954</td><td>262</td></tr><tr><td>DT00062</td><td>263</td></tr><tr><td>DT00688</td><td>264</td></tr><tr><td>DT00832</td><td>265</td></tr><tr><td>DT00262</td><td>266</td></tr><tr><td>DT00685</td><td>267</td></tr><tr><td>DT00726</td><td>268</td></tr><tr><td>DT00294</td><td>269</td></tr><tr><td>DT00326</td><td>270</td></tr><tr><td>DT00351</td><td>271</td></tr><tr><td>DT00587</td><td>272</td></tr><tr><td>DT00759</td><td>273</td></tr><tr><td>DT01140</td><td>274</td></tr><tr><td>DT01198</td><td>275</td></tr><tr><td>DT00278</td><td>276</td></tr><tr><td>DT00349</td><td>277</td></tr><tr><td>DT00373</td><td>278</td></tr><tr><td>DT00815</td><td>279</td></tr><tr><td>DT00072</td><td>280</td></tr><tr><td>DT00194</td><td>281</td></tr><tr><td>DT00581</td><td>282</td></tr><tr><td>DT00662</td><td>283</td></tr><tr><td>DT00892</td><td>284</td></tr><tr><td>DT00931</td><td>285</td></tr><tr><td>DT01195</td><td>286</td></tr><tr><td>DT01243</td><td>287</td></tr><tr><td>DT00284</td><td>288</td></tr><tr><td>DT00327</td><td>289</td></tr><tr><td>DT00415</td><td>290</td></tr><tr><td>DT00782</td><td>291</td></tr><tr><td>DT00986</td><td>292</td></tr><tr><td>DT01034</td><td>293</td></tr><tr><td>DT00082</td><td>294</td></tr><tr><td>DT00173</td><td>295</td></tr><tr><td>DT00517</td><td>296</td></tr><tr><td>DT00691</td><td>297</td></tr><tr><td>DT01060</td><td>298</td></tr><tr><td>DT00232</td><td>299</td></tr><tr><td>DT00292</td><td>300</td></tr><tr><td>DT00436</td><td>301</td></tr><tr><td>DT00562</td><td>302</td></tr><tr><td>DT01004</td><td>303</td></tr><tr><td>DT01035</td><td>304</td></tr><tr><td>DT00063</td><td>305</td></tr><tr><td>DT00247</td><td>306</td></tr><tr><td>DT00398</td><td>307</td></tr><tr><td>DT00635</td><td>308</td></tr><tr><td>DT00796</td><td>309</td></tr><tr><td>DT00186</td><td>310</td></tr><tr><td>DT00263</td><td>311</td></tr><tr><td>DT00316</td><td>312</td></tr><tr><td>DT00323</td><td>313</td></tr><tr><td>DT00440</td><td>314</td></tr><tr><td>DT00827</td><td>315</td></tr><tr><td>DT01159</td><td>316</td></tr><tr><td>DT01202</td><td>317</td></tr><tr><td>DT00023</td><td>318</td></tr><tr><td>DT00094</td><td>319</td></tr><tr><td>DT00132</td><td>320</td></tr><tr><td>DT00274</td><td>321</td></tr><tr><td>DT00480</td><td>322</td></tr><tr><td>DT00548</td><td>323</td></tr><tr><td>DT00712</td><td>324</td></tr><tr><td>DT01210</td><td>325</td></tr><tr><td>DT00434</td><td>326</td></tr><tr><td>DT00572</td><td>327</td></tr><tr><td>DT00659</td><td>328</td></tr><tr><td>DT00713</td><td>329</td></tr><tr><td>DT00880</td><td>330</td></tr><tr><td>DT00022</td><td>331</td></tr><tr><td>DT00267</td><td>332</td></tr><tr><td>DT00651</td><td>333</td></tr><tr><td>DT00795</td><td>334</td></tr><tr><td>DT00799</td><td>335</td></tr><tr><td>DT00844</td><td>336</td></tr><tr><td>DT00891</td><td>337</td></tr><tr><td>DT01046</td><td>338</td></tr><tr><td>DT00843</td><td>339</td></tr><tr><td>DT00872</td><td>340</td></tr><tr><td>DT01145</td><td>341</td></tr><tr><td>DT01173</td><td>342</td></tr><tr><td>DT01217</td><td>343</td></tr><tr><td>DT00191</td><td>344</td></tr><tr><td>DT00308</td><td>345</td></tr><tr><td>DT00381</td><td>346</td></tr><tr><td>DT00551</td><td>347</td></tr><tr><td>DT00938</td><td>348</td></tr><tr><td>DT01225</td><td>349</td></tr><tr><td>DT00182</td><td>350</td></tr><tr><td>DT00550</td><td>351</td></tr><tr><td>DT00552</td><td>352</td></tr><tr><td>DT00926</td><td>353</td></tr><tr><td>DT01100</td><td>354</td></tr><tr><td>DT01151</td><td>355</td></tr><tr><td>DT00088</td><td>356</td></tr><tr><td>DT00134</td><td>357</td></tr><tr><td>DT00153</td><td>358</td></tr><tr><td>DT00256</td><td>359</td></tr><tr><td>DT00258</td><td>360</td></tr><tr><td>DT00322</td><td>361</td></tr><tr><td>DT00413</td><td>362</td></tr><tr><td>DT00777</td><td>363</td></tr><tr><td>DT00920</td><td>364</td></tr><tr><td>DT00410</td><td>365</td></tr><tr><td>DT00426</td><td>366</td></tr><tr><td>DT00609</td><td>367</td></tr><tr><td>DT00768</td><td>368</td></tr><tr><td>DT00775</td><td>369</td></tr><tr><td>DT01069</td><td>370</td></tr><tr><td>DT00040</td><td>371</td></tr><tr><td>DT00329</td><td>372</td></tr><tr><td>DT00800</td><td>373</td></tr><tr><td>DT01186</td><td>374</td></tr><tr><td>DT00289</td><td>375</td></tr><tr><td>DT00344</td><td>376</td></tr><tr><td>DT00616</td><td>377</td></tr><tr><td>DT00849</td><td>378</td></tr><tr><td>DT01002</td><td>379</td></tr><tr><td>DT01119</td><td>380</td></tr><tr><td>DT01164</td><td>381</td></tr><tr><td>DT00181</td><td>382</td></tr><tr><td>DT00273</td><td>383</td></tr><tr><td>DT00315</td><td>384</td></tr><tr><td>DT00404</td><td>385</td></tr><tr><td>DT00407</td><td>386</td></tr><tr><td>DT00882</td><td>387</td></tr><tr><td>DT00905</td><td>388</td></tr><tr><td>DT01162</td><td>389</td></tr><tr><td>DT01193</td><td>390</td></tr><tr><td>DT01197</td><td>391</td></tr><tr><td>DT00180</td><td>392</td></tr><tr><td>DT00630</td><td>393</td></tr><tr><td>DT00334</td><td>394</td></tr><tr><td>DT00918</td><td>395</td></tr><tr><td>DT01073</td><td>396</td></tr><tr><td>DT00332</td><td>397</td></tr><tr><td>DT00546</td><td>398</td></tr><tr><td>DT00564</td><td>399</td></tr><tr><td>DT00868</td><td>400</td></tr><tr><td>DT00917</td><td>401</td></tr><tr><td>DT01011</td><td>402</td></tr><tr><td>DT00199</td><td>403</td></tr><tr><td>DT00214</td><td>404</td></tr><tr><td>DT00504</td><td>405</td></tr><tr><td>DT00514</td><td>406</td></tr><tr><td>DT00596</td><td>407</td></tr><tr><td>DT00739</td><td>408</td></tr><tr><td>DT00801</td><td>409</td></tr><tr><td>DT00826</td><td>410</td></tr><tr><td>DT00828</td><td>411</td></tr><tr><td>DT00983</td><td>412</td></tr><tr><td>DT01042</td><td>413</td></tr><tr><td>DT00146</td><td>414</td></tr><tr><td>DT00241</td><td>415</td></tr><tr><td>DT00350</td><td>416</td></tr><tr><td>DT00486</td><td>417</td></tr><tr><td>DT00535</td><td>418</td></tr><tr><td>DT00558</td><td>419</td></tr><tr><td>DT00583</td><td>420</td></tr><tr><td>DT00729</td><td>421</td></tr><tr><td>DT00852</td><td>422</td></tr><tr><td>DT00969</td><td>423</td></tr><tr><td>DT01008</td><td>424</td></tr><tr><td>DT01072</td><td>425</td></tr><tr><td>DT01139</td><td>426</td></tr><tr><td>DT01204</td><td>427</td></tr><tr><td>DT00239</td><td>428</td></tr><tr><td>DT00498</td><td>429</td></tr><tr><td>DT00528</td><td>430</td></tr><tr><td>DT00531</td><td>431</td></tr><tr><td>DT00665</td><td>432</td></tr><tr><td>DT01218</td><td>433</td></tr><tr><td>DT00368</td><td>434</td></tr><tr><td>DT00484</td><td>435</td></tr><tr><td>DT00554</td><td>436</td></tr><tr><td>DT00741</td><td>437</td></tr><tr><td>DT00805</td><td>438</td></tr><tr><td>DT00913</td><td>439</td></tr><tr><td>DT01014</td><td>440</td></tr><tr><td>DT01098</td><td>441</td></tr><tr><td>DT01191</td><td>442</td></tr><tr><td>DT00339</td><td>443</td></tr><tr><td>DT00418</td><td>444</td></tr><tr><td>DT00519</td><td>445</td></tr><tr><td>DT00586</td><td>446</td></tr><tr><td>DT00878</td><td>447</td></tr><tr><td>DT00117</td><td>448</td></tr><tr><td>DT00646</td><td>449</td></tr><tr><td>DT00928</td><td>450</td></tr><tr><td>DT00337</td><td>451</td></tr><tr><td>DT00369</td><td>452</td></tr><tr><td>DT01155</td><td>453</td></tr><tr><td>DT01184</td><td>454</td></tr><tr><td>DT00058</td><td>455</td></tr><tr><td>DT00086</td><td>456</td></tr><tr><td>DT00171</td><td>457</td></tr><tr><td>DT00270</td><td>458</td></tr><tr><td>DT00310</td><td>459</td></tr><tr><td>DT00431</td><td>460</td></tr><tr><td>DT00495</td><td>461</td></tr><tr><td>DT00727</td><td>462</td></tr><tr><td>DT00024</td><td>463</td></tr><tr><td>DT00303</td><td>464</td></tr><tr><td>DT00376</td><td>465</td></tr><tr><td>DT00997</td><td>466</td></tr><tr><td>DT01075</td><td>467</td></tr><tr><td>DT00510</td><td>468</td></tr><tr><td>DT00549</td><td>469</td></tr><tr><td>DT00744</td><td>470</td></tr><tr><td>DT00854</td><td>471</td></tr><tr><td>DT00875</td><td>472</td></tr><tr><td>DT00902</td><td>473</td></tr><tr><td>DT00078</td><td>474</td></tr><tr><td>DT00757</td><td>475</td></tr><tr><td>DT00764</td><td>476</td></tr><tr><td>DT01041</td><td>477</td></tr><tr><td>DT01047</td><td>478</td></tr><tr><td>DT01066</td><td>479</td></tr><tr><td>DT01120</td><td>480</td></tr><tr><td>DT00202</td><td>481</td></tr><tr><td>DT00220</td><td>482</td></tr><tr><td>DT00576</td><td>483</td></tr><tr><td>DT00589</td><td>484</td></tr><tr><td>DT01238</td><td>485</td></tr><tr><td>DT00152</td><td>486</td></tr><tr><td>DT00178</td><td>487</td></tr><tr><td>DT00679</td><td>488</td></tr><tr><td>DT00814</td><td>489</td></tr><tr><td>DT00963</td><td>490</td></tr><tr><td>DT00168</td><td>491</td></tr><tr><td>DT00244</td><td>492</td></tr><tr><td>DT00527</td><td>493</td></tr><tr><td>DT00629</td><td>494</td></tr><tr><td>DT00784</td><td>495</td></tr><tr><td>DT00901</td><td>496</td></tr><tr><td>DT01189</td><td>497</td></tr><tr><td>DT00383</td><td>498</td></tr><tr><td>DT00420</td><td>499</td></tr><tr><td>DT00469</td><td>500</td></tr><tr><td>DT00035</td><td>501</td></tr><tr><td>DT00125</td><td>502</td></tr><tr><td>DT00166</td><td>503</td></tr><tr><td>DT00167</td><td>504</td></tr><tr><td>DT00291</td><td>505</td></tr><tr><td>DT00353</td><td>506</td></tr><tr><td>DT00438</td><td>507</td></tr><tr><td>DT00447</td><td>508</td></tr><tr><td>DT00751</td><td>509</td></tr><tr><td>DT00789</td><td>510</td></tr><tr><td>DT00898</td><td>511</td></tr><tr><td>DT00958</td><td>512</td></tr><tr><td>DT01052</td><td>513</td></tr><tr><td>DT00430</td><td>514</td></tr><tr><td>DT00503</td><td>515</td></tr><tr><td>DT00622</td><td>516</td></tr><tr><td>DT00674</td><td>517</td></tr><tr><td>DT00916</td><td>518</td></tr><tr><td>DT00944</td><td>519</td></tr><tr><td>DT00999</td><td>520</td></tr><tr><td>DT00335</td><td>521</td></tr><tr><td>DT00493</td><td>522</td></tr><tr><td>DT00633</td><td>523</td></tr><tr><td>DT00807</td><td>524</td></tr><tr><td>DT00937</td><td>525</td></tr><tr><td>DT01183</td><td>526</td></tr><tr><td>DT00017</td><td>527</td></tr><tr><td>DT00126</td><td>528</td></tr><tr><td>DT00215</td><td>529</td></tr><tr><td>DT00649</td><td>530</td></tr><tr><td>DT00655</td><td>531</td></tr><tr><td>DT00802</td><td>532</td></tr><tr><td>DT01227</td><td>533</td></tr><tr><td>DT00432</td><td>534</td></tr><tr><td>DT00817</td><td>535</td></tr><tr><td>DT01079</td><td>536</td></tr><tr><td>DT01110</td><td>537</td></tr><tr><td>DT00016</td><td>538</td></tr><tr><td>DT00416</td><td>539</td></tr><tr><td>DT00482</td><td>540</td></tr><tr><td>DT00903</td><td>541</td></tr><tr><td>DT00960</td><td>542</td></tr><tr><td>DT00131</td><td>543</td></tr><tr><td>DT00165</td><td>544</td></tr><tr><td>DT00348</td><td>545</td></tr><tr><td>DT00539</td><td>546</td></tr><tr><td>DT01053</td><td>547</td></tr><tr><td>DT00032</td><td>548</td></tr><tr><td>DT00081</td><td>549</td></tr><tr><td>DT00474</td><td>550</td></tr><tr><td>DT00488</td><td>551</td></tr><tr><td>DT00661</td><td>552</td></tr><tr><td>DT00748</td><td>553</td></tr><tr><td>DT00860</td><td>554</td></tr><tr><td>DT00135</td><td>555</td></tr><tr><td>DT00287</td><td>556</td></tr><tr><td>DT00494</td><td>557</td></tr><tr><td>DT00624</td><td>558</td></tr><tr><td>DT00701</td><td>559</td></tr><tr><td>DT00705</td><td>560</td></tr><tr><td>DT00722</td><td>561</td></tr><tr><td>DT00859</td><td>562</td></tr><tr><td>DT01130</td><td>563</td></tr><tr><td>DT00427</td><td>564</td></tr><tr><td>DT00097</td><td>565</td></tr><tr><td>DT00597</td><td>566</td></tr><tr><td>DT00994</td><td>567</td></tr><tr><td>DT00084</td><td>568</td></tr><tr><td>DT00449</td><td>569</td></tr><tr><td>DT00544</td><td>570</td></tr><tr><td>DT00670</td><td>571</td></tr><tr><td>DT00897</td><td>572</td></tr><tr><td>DT01157</td><td>573</td></tr><tr><td>DT00525</td><td>574</td></tr><tr><td>DT01051</td><td>575</td></tr><tr><td>DT01233</td><td>576</td></tr><tr><td>DT00226</td><td>577</td></tr><tr><td>DT00347</td><td>578</td></tr><tr><td>DT01025</td><td>579</td></tr><tr><td>DT01242</td><td>580</td></tr><tr><td>DT00095</td><td>581</td></tr><tr><td>DT00328</td><td>582</td></tr><tr><td>DT00382</td><td>583</td></tr><tr><td>DT01125</td><td>584</td></tr><tr><td>DT01214</td><td>585</td></tr><tr><td>DT00079</td><td>586</td></tr><tr><td>DT00162</td><td>587</td></tr><tr><td>DT00318</td><td>588</td></tr><tr><td>DT00439</td><td>589</td></tr><tr><td>DT01084</td><td>590</td></tr><tr><td>DT01104</td><td>591</td></tr><tr><td>DT00221</td><td>592</td></tr><tr><td>DT00280</td><td>593</td></tr><tr><td>DT00778</td><td>594</td></tr><tr><td>DT00317</td><td>595</td></tr><tr><td>DT00515</td><td>596</td></tr><tr><td>DT00553</td><td>597</td></tr><tr><td>DT00573</td><td>598</td></tr><tr><td>DT00620</td><td>599</td></tr><tr><td>DT00654</td><td>600</td></tr><tr><td>DT01170</td><td>601</td></tr><tr><td>DT00044</td><td>602</td></tr><tr><td>DT00296</td><td>603</td></tr><tr><td>DT00419</td><td>604</td></tr><tr><td>DT00711</td><td>605</td></tr><tr><td>DT01062</td><td>606</td></tr><tr><td>DT00115</td><td>607</td></tr><tr><td>DT00377</td><td>608</td></tr><tr><td>DT00592</td><td>609</td></tr><tr><td>DT00863</td><td>610</td></tr><tr><td>DT01121</td><td>611</td></tr><tr><td>DT01203</td><td>612</td></tr><tr><td>DT00096</td><td>613</td></tr><tr><td>DT00422</td><td>614</td></tr><tr><td>DT00864</td><td>615</td></tr><tr><td>DT00932</td><td>616</td></tr><tr><td>DT01169</td><td>617</td></tr><tr><td>DT00042</td><td>618</td></tr><tr><td>DT00048</td><td>619</td></tr><tr><td>DT00492</td><td>620</td></tr><tr><td>DT00521</td><td>621</td></tr><tr><td>DT00787</td><td>622</td></tr><tr><td>DT00793</td><td>623</td></tr><tr><td>DT00848</td><td>624</td></tr><tr><td>DT00865</td><td>625</td></tr><tr><td>DT00975</td><td>626</td></tr><tr><td>DT01174</td><td>627</td></tr><tr><td>DT01181</td><td>628</td></tr><tr><td>DT00211</td><td>629</td></tr><tr><td>DT00293</td><td>630</td></tr><tr><td>DT00877</td><td>631</td></tr><tr><td>DT00092</td><td>632</td></tr><tr><td>DT00286</td><td>633</td></tr><tr><td>DT00414</td><td>634</td></tr><tr><td>DT00653</td><td>635</td></tr><tr><td>DT00769</td><td>636</td></tr><tr><td>DT00952</td><td>637</td></tr><tr><td>DT01124</td><td>638</td></tr><tr><td>DT00124</td><td>639</td></tr><tr><td>DT00345</td><td>640</td></tr><tr><td>DT00489</td><td>641</td></tr><tr><td>DT00660</td><td>642</td></tr><tr><td>DT00676</td><td>643</td></tr><tr><td>DT00694</td><td>644</td></tr><tr><td>DT00812</td><td>645</td></tr><tr><td>DT01087</td><td>646</td></tr><tr><td>DT01192</td><td>647</td></tr><tr><td>DT00008</td><td>648</td></tr><tr><td>DT00110</td><td>649</td></tr><tr><td>DT00207</td><td>650</td></tr><tr><td>DT00370</td><td>651</td></tr><tr><td>DT00541</td><td>652</td></tr><tr><td>DT00656</td><td>653</td></tr><tr><td>DT00781</td><td>654</td></tr><tr><td>DT00647</td><td>655</td></tr><tr><td>DT00747</td><td>656</td></tr><tr><td>DT00970</td><td>657</td></tr><tr><td>DT00471</td><td>658</td></tr><tr><td>DT00621</td><td>659</td></tr><tr><td>DT00723</td><td>660</td></tr><tr><td>DT00855</td><td>661</td></tr><tr><td>DT00899</td><td>662</td></tr><tr><td>DT00941</td><td>663</td></tr><tr><td>DT00066</td><td>664</td></tr><tr><td>DT00617</td><td>665</td></tr><tr><td>DT00745</td><td>666</td></tr><tr><td>DT00840</td><td>667</td></tr><tr><td>DT01082</td><td>668</td></tr><tr><td>DT00179</td><td>669</td></tr><tr><td>DT00343</td><td>670</td></tr><tr><td>DT00405</td><td>671</td></tr><tr><td>DT00971</td><td>672</td></tr><tr><td>DT00988</td><td>673</td></tr><tr><td>DT00028</td><td>674</td></tr><tr><td>DT00033</td><td>675</td></tr><tr><td>DT00219</td><td>676</td></tr><tr><td>DT00409</td><td>677</td></tr><tr><td>DT00533</td><td>678</td></tr><tr><td>DT00582</td><td>679</td></tr><tr><td>DT00641</td><td>680</td></tr><tr><td>DT00803</td><td>681</td></tr><tr><td>DT00895</td><td>682</td></tr><tr><td>DT01167</td><td>683</td></tr><tr><td>DT00053</td><td>684</td></tr><tr><td>DT00249</td><td>685</td></tr><tr><td>DT00306</td><td>686</td></tr><tr><td>DT00459</td><td>687</td></tr><tr><td>DT00511</td><td>688</td></tr><tr><td>DT00808</td><td>689</td></tr><tr><td>DT00907</td><td>690</td></tr><tr><td>DT00069</td><td>691</td></tr><tr><td>DT00150</td><td>692</td></tr><tr><td>DT00200</td><td>693</td></tr><tr><td>DT00644</td><td>694</td></tr><tr><td>DT00858</td><td>695</td></tr><tr><td>DT00509</td><td>696</td></tr><tr><td>DT00529</td><td>697</td></tr><tr><td>DT00648</td><td>698</td></tr><tr><td>DT00752</td><td>699</td></tr><tr><td>DT00234</td><td>700</td></tr><tr><td>DT00939</td><td>701</td></tr><tr><td>DT01054</td><td>702</td></tr><tr><td>DT00224</td><td>703</td></tr><tr><td>DT00340</td><td>704</td></tr><tr><td>DT00611</td><td>705</td></tr><tr><td>DT01209</td><td>706</td></tr><tr><td>DT00356</td><td>707</td></tr><tr><td>DT00664</td><td>708</td></tr><tr><td>DT00702</td><td>709</td></tr><tr><td>DT00956</td><td>710</td></tr><tr><td>DT00144</td><td>711</td></tr><tr><td>DT00266</td><td>712</td></tr><tr><td>DT00700</td><td>713</td></tr><tr><td>DT01010</td><td>714</td></tr><tr><td>DT01220</td><td>715</td></tr><tr><td>DT01232</td><td>716</td></tr><tr><td>DT00123</td><td>717</td></tr><tr><td>DT00129</td><td>718</td></tr><tr><td>DT00141</td><td>719</td></tr><tr><td>DT00157</td><td>720</td></tr><tr><td>DT00330</td><td>721</td></tr><tr><td>DT00825</td><td>722</td></tr><tr><td>DT00924</td><td>723</td></tr><tr><td>DT01146</td><td>724</td></tr><tr><td>DT00342</td><td>725</td></tr><tr><td>DT00408</td><td>726</td></tr><tr><td>DT00643</td><td>727</td></tr><tr><td>DT01105</td><td>728</td></tr><tr><td>DT00011</td><td>729</td></tr><tr><td>DT00148</td><td>730</td></tr><tr><td>DT00594</td><td>731</td></tr><tr><td>DT00847</td><td>732</td></tr><tr><td>DT00869</td><td>733</td></tr><tr><td>DT01029</td><td>734</td></tr><tr><td>DT00137</td><td>735</td></tr><tr><td>DT00204</td><td>736</td></tr><tr><td>DT00255</td><td>737</td></tr><tr><td>DT00443</td><td>738</td></tr><tr><td>DT00697</td><td>739</td></tr><tr><td>DT00934</td><td>740</td></tr><tr><td>DT00977</td><td>741</td></tr><tr><td>DT01030</td><td>742</td></tr><tr><td>DT01049</td><td>743</td></tr><tr><td>DT01131</td><td>744</td></tr><tr><td>DT01147</td><td>745</td></tr><tr><td>DT00151</td><td>746</td></tr><tr><td>DT00205</td><td>747</td></tr><tr><td>DT00324</td><td>748</td></tr><tr><td>DT00839</td><td>749</td></tr><tr><td>DT00879</td><td>750</td></tr><tr><td>DT01226</td><td>751</td></tr><tr><td>DT00002</td><td>752</td></tr><tr><td>DT01040</td><td>753</td></tr><tr><td>DT01161</td><td>754</td></tr><tr><td>DT01172</td><td>755</td></tr><tr><td>DT00054</td><td>756</td></tr><tr><td>DT00156</td><td>757</td></tr><tr><td>DT00184</td><td>758</td></tr><tr><td>DT00193</td><td>759</td></tr><tr><td>DT00225</td><td>760</td></tr><tr><td>DT00358</td><td>761</td></tr><tr><td>DT01050</td><td>762</td></tr><tr><td>DT00065</td><td>763</td></tr><tr><td>DT00230</td><td>764</td></tr><tr><td>DT00346</td><td>765</td></tr><tr><td>DT00682</td><td>766</td></tr><tr><td>DT00758</td><td>767</td></tr><tr><td>DT00790</td><td>768</td></tr><tr><td>DT00831</td><td>769</td></tr><tr><td>DT00912</td><td>770</td></tr><tr><td>DT01012</td><td>771</td></tr><tr><td>DT00281</td><td>772</td></tr><tr><td>DT00429</td><td>773</td></tr><tr><td>DT00696</td><td>774</td></tr><tr><td>DT00724</td><td>775</td></tr><tr><td>DT00725</td><td>776</td></tr><tr><td>DT01108</td><td>777</td></tr><tr><td>DT00378</td><td>778</td></tr><tr><td>DT00433</td><td>779</td></tr><tr><td>DT00523</td><td>780</td></tr><tr><td>DT00537</td><td>781</td></tr><tr><td>DT00568</td><td>782</td></tr><tr><td>DT00821</td><td>783</td></tr><tr><td>DT00894</td><td>784</td></tr><tr><td>DT01032</td><td>785</td></tr><tr><td>DT00403</td><td>786</td></tr><tr><td>DT00542</td><td>787</td></tr><tr><td>DT00578</td><td>788</td></tr><tr><td>DT00590</td><td>789</td></tr><tr><td>DT00743</td><td>790</td></tr><tr><td>DT00175</td><td>791</td></tr><tr><td>DT00314</td><td>792</td></tr><tr><td>DT00333</td><td>793</td></tr><tr><td>DT00716</td><td>794</td></tr><tr><td>DT00788</td><td>795</td></tr><tr><td>DT00936</td><td>796</td></tr><tr><td>DT00996</td><td>797</td></tr><tr><td>DT00070</td><td>798</td></tr><tr><td>DT00206</td><td>799</td></tr><tr><td>DT00435</td><td>800</td></tr><tr><td>DT00636</td><td>801</td></tr><tr><td>DT00910</td><td>802</td></tr><tr><td>DT01150</td><td>803</td></tr><tr><td>DT01180</td><td>804</td></tr><tr><td>DT00143</td><td>805</td></tr><tr><td>DT00288</td><td>806</td></tr><tr><td>DT00390</td><td>807</td></tr><tr><td>DT00470</td><td>808</td></tr><tr><td>DT00974</td><td>809</td></tr><tr><td>DT01221</td><td>810</td></tr><tr><td>DT00233</td><td>811</td></tr><tr><td>DT00304</td><td>812</td></tr><tr><td>DT00424</td><td>813</td></tr><tr><td>DT00602</td><td>814</td></tr><tr><td>DT00623</td><td>815</td></tr><tr><td>DT00763</td><td>816</td></tr><tr><td>DT00786</td><td>817</td></tr><tr><td>DT00818</td><td>818</td></tr><tr><td>DT00820</td><td>819</td></tr><tr><td>DT00949</td><td>820</td></tr><tr><td>DT00953</td><td>821</td></tr><tr><td>DT00968</td><td>822</td></tr><tr><td>DT01200</td><td>823</td></tr><tr><td>DT01228</td><td>824</td></tr><tr><td>DT00001</td><td>825</td></tr><tr><td>DT00006</td><td>826</td></tr><tr><td>DT00007</td><td>827</td></tr><tr><td>DT00169</td><td>828</td></tr><tr><td>DT00717</td><td>829</td></tr><tr><td>DT00045</td><td>830</td></tr><tr><td>DT00195</td><td>831</td></tr><tr><td>DT00467</td><td>832</td></tr><tr><td>DT00608</td><td>833</td></tr><tr><td>DT00824</td><td>834</td></tr><tr><td>DT01237</td><td>835</td></tr><tr><td>DT00238</td><td>836</td></tr><tr><td>DT00387</td><td>837</td></tr><tr><td>DT00991</td><td>838</td></tr><tr><td>DT01118</td><td>839</td></tr><tr><td>DT00154</td><td>840</td></tr><tr><td>DT00172</td><td>841</td></tr><tr><td>DT00703</td><td>842</td></tr><tr><td>DT00834</td><td>843</td></tr><tr><td>DT00866</td><td>844</td></tr><tr><td>DT01070</td><td>845</td></tr><tr><td>DT01175</td><td>846</td></tr><tr><td>DT01245</td><td>847</td></tr><tr><td>DT00301</td><td>848</td></tr><tr><td>DT00445</td><td>849</td></tr><tr><td>DT01236</td><td>850</td></tr><tr><td>DT00052</td><td>851</td></tr><tr><td>DT01219</td><td>852</td></tr><tr><td>DT00061</td><td>853</td></tr><tr><td>DT00374</td><td>854</td></tr><tr><td>DT00638</td><td>855</td></tr><tr><td>DT00645</td><td>856</td></tr><tr><td>DT00785</td><td>857</td></tr><tr><td>DT00871</td><td>858</td></tr><tr><td>DT01187</td><td>859</td></tr><tr><td>DT00451</td><td>860</td></tr><tr><td>DT00652</td><td>861</td></tr><tr><td>DT01092</td><td>862</td></tr><tr><td>DT01122</td><td>863</td></tr><tr><td>DT00216</td><td>864</td></tr><tr><td>DT00246</td><td>865</td></tr><tr><td>DT00355</td><td>866</td></tr><tr><td>DT00380</td><td>867</td></tr><tr><td>DT00806</td><td>868</td></tr><tr><td>DT01199</td><td>869</td></tr><tr><td>DT00229</td><td>870</td></tr><tr><td>DT00271</td><td>871</td></tr><tr><td>DT00305</td><td>872</td></tr><tr><td>DT00772</td><td>873</td></tr><tr><td>DT01163</td><td>874</td></tr><tr><td>DT00120</td><td>875</td></tr><tr><td>DT00231</td><td>876</td></tr><tr><td>DT00577</td><td>877</td></tr><tr><td>DT00595</td><td>878</td></tr><tr><td>DT00601</td><td>879</td></tr><tr><td>DT00993</td><td>880</td></tr><tr><td>DT01149</td><td>881</td></tr><tr><td>DT00003</td><td>882</td></tr><tr><td>DT00673</td><td>883</td></tr><tr><td>DT01101</td><td>884</td></tr><tr><td>DT01223</td><td>885</td></tr><tr><td>DT00706</td><td>886</td></tr><tr><td>DT00721</td><td>887</td></tr><tr><td>DT01113</td><td>888</td></tr><tr><td>DT01230</td><td>889</td></tr><tr><td>DT00019</td><td>890</td></tr><tr><td>DT00400</td><td>891</td></tr><tr><td>DT00746</td><td>892</td></tr><tr><td>DT01045</td><td>893</td></tr><tr><td>DT00107</td><td>894</td></tr><tr><td>DT00183</td><td>895</td></tr><tr><td>DT00574</td><td>896</td></tr><tr><td>DT00580</td><td>897</td></tr><tr><td>DT00732</td><td>898</td></tr><tr><td>DT00359</td><td>899</td></tr><tr><td>DT00460</td><td>900</td></tr><tr><td>DT00483</td><td>901</td></tr><tr><td>DT00490</td><td>902</td></tr><tr><td>DT00618</td><td>903</td></tr><tr><td>DT01142</td><td>904</td></tr><tr><td>DT00105</td><td>905</td></tr><tr><td>DT00338</td><td>906</td></tr><tr><td>DT00640</td><td>907</td></tr><tr><td>DT00687</td><td>908</td></tr><tr><td>DT00213</td><td>909</td></tr><tr><td>DT00299</td><td>910</td></tr><tr><td>DT00399</td><td>911</td></tr><tr><td>DT00557</td><td>912</td></tr><tr><td>DT00681</td><td>913</td></tr><tr><td>DT00904</td><td>914</td></tr><tr><td>DT00906</td><td>915</td></tr><tr><td>DT00923</td><td>916</td></tr><tr><td>DT01036</td><td>917</td></tr><tr><td>DT00218</td><td>918</td></tr><tr><td>DT00242</td><td>919</td></tr><tr><td>DT00245</td><td>920</td></tr><tr><td>DT00569</td><td>921</td></tr><tr><td>DT00090</td><td>922</td></tr><tr><td>DT00122</td><td>923</td></tr><tr><td>DT00222</td><td>924</td></tr><tr><td>DT00384</td><td>925</td></tr><tr><td>DT00605</td><td>926</td></tr><tr><td>DT00619</td><td>927</td></tr><tr><td>DT00830</td><td>928</td></tr><tr><td>DT00998</td><td>929</td></tr><tr><td>DT01089</td><td>930</td></tr><tr><td>DT01127</td><td>931</td></tr><tr><td>DT01138</td><td>932</td></tr><tr><td>DT00130</td><td>933</td></tr><tr><td>DT00188</td><td>934</td></tr><tr><td>DT00197</td><td>935</td></tr><tr><td>DT00237</td><td>936</td></tr><tr><td>DT00530</td><td>937</td></tr><tr><td>DT00627</td><td>938</td></tr><tr><td>DT00761</td><td>939</td></tr><tr><td>DT00822</td><td>940</td></tr><tr><td>DT00881</td><td>941</td></tr><tr><td>DT00942</td><td>942</td></tr><tr><td>DT00075</td><td>943</td></tr><tr><td>DT00282</td><td>944</td></tr><tr><td>DT00401</td><td>945</td></tr><tr><td>DT01109</td><td>946</td></tr><tr><td>DT01206</td><td>947</td></tr><tr><td>DT01231</td><td>948</td></tr><tr><td>DT00446</td><td>949</td></tr><tr><td>DT00699</td><td>950</td></tr><tr><td>DT00773</td><td>951</td></tr><tr><td>DT00780</td><td>952</td></tr><tr><td>DT00896</td><td>953</td></tr><tr><td>DT00240</td><td>954</td></tr><tr><td>DT00269</td><td>955</td></tr><tr><td>DT00887</td><td>956</td></tr><tr><td>DT01090</td><td>957</td></tr><tr><td>DT01196</td><td>958</td></tr><tr><td>DT00068</td><td>959</td></tr><tr><td>DT00093</td><td>960</td></tr><tr><td>DT00133</td><td>961</td></tr><tr><td>DT00210</td><td>962</td></tr><tr><td>DT00391</td><td>963</td></tr><tr><td>DT00760</td><td>964</td></tr><tr><td>DT00981</td><td>965</td></tr><tr><td>DT01095</td><td>966</td></tr><tr><td>DT01137</td><td>967</td></tr><tr><td>DT00039</td><td>968</td></tr><tr><td>DT00708</td><td>969</td></tr><tr><td>DT00945</td><td>970</td></tr><tr><td>DT00965</td><td>971</td></tr><tr><td>DT00018</td><td>972</td></tr><tr><td>DT00113</td><td>973</td></tr><tr><td>DT00406</td><td>974</td></tr><tr><td>DT00559</td><td>975</td></tr><tr><td>DT00626</td><td>976</td></tr><tr><td>DT00642</td><td>977</td></tr><tr><td>DT00248</td><td>978</td></tr><tr><td>DT00731</td><td>979</td></tr><tr><td>DT00853</td><td>980</td></tr><tr><td>DT01078</td><td>981</td></tr><tr><td>DT01106</td><td>982</td></tr><tr><td>DT00259</td><td>983</td></tr><tr><td>DT00453</td><td>984</td></tr><tr><td>DT00465</td><td>985</td></tr><tr><td>DT00566</td><td>986</td></tr><tr><td>DT01168</td><td>987</td></tr><tr><td>DT00004</td><td>988</td></tr><tr><td>DT00737</td><td>989</td></tr><tr><td>DT00842</td><td>990</td></tr><tr><td>DT00886</td><td>991</td></tr><tr><td>DT00989</td><td>992</td></tr><tr><td>DT01080</td><td>993</td></tr><tr><td>DT01211</td><td>994</td></tr><tr><td>DT00277</td><td>995</td></tr><tr><td>DT00357</td><td>996</td></tr><tr><td>DT00588</td><td>997</td></tr><tr><td>DT01103</td><td>998</td></tr><tr><td>DT00034</td><td>999</td></tr><tr><td>DT00187</td><td>1000</td></tr><tr><td>DT00252</td><td>1001</td></tr><tr><td>DT00466</td><td>1002</td></tr><tr><td>DT00987</td><td>1003</td></tr><tr><td>DT00371</td><td>1004</td></tr><tr><td>DT00512</td><td>1005</td></tr><tr><td>DT00710</td><td>1006</td></tr><tr><td>DT01037</td><td>1007</td></tr><tr><td>DT01148</td><td>1008</td></tr><tr><td>DT00658</td><td>1009</td></tr><tr><td>DT01022</td><td>1010</td></tr><tr><td>DT01239</td><td>1011</td></tr><tr><td>DT00010</td><td>1012</td></tr><tr><td>DT00158</td><td>1013</td></tr><tr><td>DT00365</td><td>1014</td></tr><tr><td>DT00513</td><td>1015</td></tr><tr><td>DT00599</td><td>1016</td></tr><tr><td>DT00677</td><td>1017</td></tr><tr><td>DT00771</td><td>1018</td></tr><tr><td>DT00253</td><td>1019</td></tr><tr><td>DT00487</td><td>1020</td></tr><tr><td>DT00536</td><td>1021</td></tr><tr><td>DT00598</td><td>1022</td></tr><tr><td>DT00047</td><td>1023</td></tr><tr><td>DT00251</td><td>1024</td></tr><tr><td>DT00593</td><td>1025</td></tr><tr><td>DT00666</td><td>1026</td></tr><tr><td>DT00946</td><td>1027</td></tr><tr><td>DT00300</td><td>1028</td></tr><tr><td>DT00600</td><td>1029</td></tr><tr><td>DT00978</td><td>1030</td></tr><tr><td>DT01136</td><td>1031</td></tr><tr><td>DT00055</td><td>1032</td></tr><tr><td>DT00283</td><td>1033</td></tr><tr><td>DT01088</td><td>1034</td></tr><tr><td>DT00049</td><td>1035</td></tr><tr><td>DT00073</td><td>1036</td></tr><tr><td>DT00101</td><td>1037</td></tr><tr><td>DT00106</td><td>1038</td></tr><tr><td>DT00112</td><td>1039</td></tr><tr><td>DT00177</td><td>1040</td></tr><tr><td>DT00275</td><td>1041</td></tr><tr><td>DT00606</td><td>1042</td></tr><tr><td>DT00005</td><td>1043</td></tr><tr><td>DT00507</td><td>1044</td></tr><tr><td>DT00668</td><td>1045</td></tr><tr><td>DT00735</td><td>1046</td></tr><tr><td>DT01005</td><td>1047</td></tr><tr><td>DT01081</td><td>1048</td></tr><tr><td>DT01094</td><td>1049</td></tr><tr><td>DT00116</td><td>1050</td></tr><tr><td>DT00228</td><td>1051</td></tr><tr><td>DT00689</td><td>1052</td></tr><tr><td>DT01152</td><td>1053</td></tr><tr><td>DT00189</td><td>1054</td></tr><tr><td>DT00540</td><td>1055</td></tr><tr><td>DT00565</td><td>1056</td></tr><tr><td>DT00783</td><td>1057</td></tr><tr><td>DT00861</td><td>1058</td></tr><tr><td>DT00884</td><td>1059</td></tr><tr><td>DT00927</td><td>1060</td></tr><tr><td>DT00966</td><td>1061</td></tr><tr><td>DT01016</td><td>1062</td></tr><tr><td>DT01055</td><td>1063</td></tr><tr><td>DT01132</td><td>1064</td></tr><tr><td>DT01194</td><td>1065</td></tr><tr><td>DT00392</td><td>1066</td></tr><tr><td>DT00472</td><td>1067</td></tr><tr><td>DT00571</td><td>1068</td></tr><tr><td>DT00707</td><td>1069</td></tr><tr><td>DT01096</td><td>1070</td></tr><tr><td>DT01158</td><td>1071</td></tr><tr><td>DT00050</td><td>1072</td></tr><tr><td>DT00114</td><td>1073</td></tr><tr><td>DT00185</td><td>1074</td></tr><tr><td>DT00395</td><td>1075</td></tr><tr><td>DT00538</td><td>1076</td></tr><tr><td>DT00695</td><td>1077</td></tr><tr><td>DT00893</td><td>1078</td></tr><tr><td>DT00922</td><td>1079</td></tr><tr><td>DT01023</td><td>1080</td></tr><tr><td>DT00265</td><td>1081</td></tr><tr><td>DT00389</td><td>1082</td></tr><tr><td>DT00499</td><td>1083</td></tr><tr><td>DT00547</td><td>1084</td></tr><tr><td>DT00816</td><td>1085</td></tr><tr><td>DT00948</td><td>1086</td></tr><tr><td>DT01160</td><td>1087</td></tr><tr><td>DT01201</td><td>1088</td></tr><tr><td>DT00276</td><td>1089</td></tr><tr><td>DT00311</td><td>1090</td></tr><tr><td>DT00462</td><td>1091</td></tr><tr><td>DT00584</td><td>1092</td></tr><tr><td>DT00961</td><td>1093</td></tr><tr><td>DT00501</td><td>1094</td></tr><tr><td>DT00585</td><td>1095</td></tr><tr><td>DT00794</td><td>1096</td></tr><tr><td>DT01135</td><td>1097</td></tr><tr><td>DT00532</td><td>1098</td></tr><tr><td>DT00770</td><td>1099</td></tr><tr><td>DT00979</td><td>1100</td></tr><tr><td>DT01063</td><td>1101</td></tr><tr><td>DT01141</td><td>1102</td></tr><tr><td>DT01165</td><td>1103</td></tr><tr><td>DT00030</td><td>1104</td></tr><tr><td>DT00423</td><td>1105</td></tr><tr><td>DT00753</td><td>1106</td></tr><tr><td>DT01074</td><td>1107</td></tr><tr><td>DT01117</td><td>1108</td></tr><tr><td>DT01128</td><td>1109</td></tr><tr><td>DT00121</td><td>1110</td></tr><tr><td>DT00502</td><td>1111</td></tr><tr><td>DT00982</td><td>1112</td></tr><tr><td>DT01229</td><td>1113</td></tr><tr><td>DT00957</td><td>1114</td></tr><tr><td>DT00556</td><td>1115</td></tr><tr><td>DT00561</td><td>1116</td></tr><tr><td>DT00992</td><td>1117</td></tr><tr><td>DT01027</td><td>1118</td></tr><tr><td>DT01156</td><td>1119</td></tr><tr><td>DT01190</td><td>1120</td></tr><tr><td>DT00074</td><td>1121</td></tr><tr><td>DT00085</td><td>1122</td></tr><tr><td>DT00386</td><td>1123</td></tr><tr><td>DT00669</td><td>1124</td></tr><tr><td>DT00972</td><td>1125</td></tr><tr><td>DT01021</td><td>1126</td></tr><tr><td>DT01057</td><td>1127</td></tr><tr><td>DT01071</td><td>1128</td></tr><tr><td>DT00036</td><td>1129</td></tr><tr><td>DT00302</td><td>1130</td></tr><tr><td>DT00367</td><td>1131</td></tr><tr><td>DT00929</td><td>1132</td></tr><tr><td>DT00933</td><td>1133</td></tr><tr><td>DT01000</td><td>1134</td></tr><tr><td>DT01038</td><td>1135</td></tr><tr><td>DT01039</td><td>1136</td></tr><tr><td>DT01064</td><td>1137</td></tr><tr><td>DT01205</td><td>1138</td></tr><tr><td>DT00067</td><td>1139</td></tr><tr><td>DT00142</td><td>1140</td></tr><tr><td>DT00362</td><td>1141</td></tr><tr><td>DT00560</td><td>1142</td></tr><tr><td>DT00631</td><td>1143</td></tr><tr><td>DT00980</td><td>1144</td></tr><tr><td>DT01143</td><td>1145</td></tr><tr><td>DT01212</td><td>1146</td></tr><tr><td>DT00025</td><td>1147</td></tr><tr><td>DT00320</td><td>1148</td></tr><tr><td>DT00473</td><td>1149</td></tr><tr><td>DT00505</td><td>1150</td></tr><tr><td>DT00555</td><td>1151</td></tr><tr><td>DT00671</td><td>1152</td></tr><tr><td>DT00738</td><td>1153</td></tr><tr><td>DT00867</td><td>1154</td></tr><tr><td>DT00888</td><td>1155</td></tr><tr><td>DT01006</td><td>1156</td></tr></tbody></table></div>"
      ]
     },
     "metadata": {
      "application/vnd.databricks.v1+output": {
       "addedWidgets": {},
       "aggData": [],
       "aggError": "",
       "aggOverflow": false,
       "aggSchema": [],
       "aggSeriesLimitReached": false,
       "aggType": "",
       "arguments": {},
       "columnCustomDisplayInfos": {},
       "data": [
        [
         "DT00029",
         1
        ],
        [
         "DT00140",
         2
        ],
        [
         "DT00192",
         3
        ],
        [
         "DT00444",
         4
        ],
        [
         "DT00475",
         5
        ],
        [
         "DT00947",
         6
        ],
        [
         "DT00976",
         7
        ],
        [
         "DT01028",
         8
        ],
        [
         "DT01099",
         9
        ],
        [
         "DT00657",
         10
        ],
        [
         "DT00874",
         11
        ],
        [
         "DT01044",
         12
        ],
        [
         "DT01208",
         13
        ],
        [
         "DT01234",
         14
        ],
        [
         "DT00412",
         15
        ],
        [
         "DT00984",
         16
        ],
        [
         "DT00056",
         17
        ],
        [
         "DT00091",
         18
        ],
        [
         "DT00321",
         19
        ],
        [
         "DT00478",
         20
        ],
        [
         "DT01033",
         21
        ],
        [
         "DT00098",
         22
        ],
        [
         "DT00454",
         23
        ],
        [
         "DT00485",
         24
        ],
        [
         "DT00935",
         25
        ],
        [
         "DT00437",
         26
        ],
        [
         "DT00524",
         27
        ],
        [
         "DT00543",
         28
        ],
        [
         "DT00667",
         29
        ],
        [
         "DT00686",
         30
        ],
        [
         "DT00742",
         31
        ],
        [
         "DT00985",
         32
        ],
        [
         "DT01026",
         33
        ],
        [
         "DT01107",
         34
        ],
        [
         "DT00138",
         35
        ],
        [
         "DT00479",
         36
        ],
        [
         "DT00613",
         37
        ],
        [
         "DT00750",
         38
        ],
        [
         "DT00804",
         39
        ],
        [
         "DT00862",
         40
        ],
        [
         "DT00900",
         41
        ],
        [
         "DT00914",
         42
        ],
        [
         "DT00921",
         43
        ],
        [
         "DT00464",
         44
        ],
        [
         "DT00591",
         45
        ],
        [
         "DT00811",
         46
        ],
        [
         "DT01207",
         47
        ],
        [
         "DT00176",
         48
        ],
        [
         "DT00236",
         49
        ],
        [
         "DT00325",
         50
        ],
        [
         "DT00457",
         51
        ],
        [
         "DT00614",
         52
        ],
        [
         "DT01102",
         53
        ],
        [
         "DT01224",
         54
        ],
        [
         "DT00037",
         55
        ],
        [
         "DT00064",
         56
        ],
        [
         "DT00534",
         57
        ],
        [
         "DT00632",
         58
        ],
        [
         "DT00851",
         59
        ],
        [
         "DT00925",
         60
        ],
        [
         "DT01020",
         61
        ],
        [
         "DT01153",
         62
        ],
        [
         "DT01185",
         63
        ],
        [
         "DT00103",
         64
        ],
        [
         "DT00108",
         65
        ],
        [
         "DT00155",
         66
        ],
        [
         "DT00272",
         67
        ],
        [
         "DT00396",
         68
        ],
        [
         "DT00829",
         69
        ],
        [
         "DT00909",
         70
        ],
        [
         "DT01213",
         71
        ],
        [
         "DT00102",
         72
        ],
        [
         "DT00603",
         73
        ],
        [
         "DT00736",
         74
        ],
        [
         "DT00885",
         75
        ],
        [
         "DT01001",
         76
        ],
        [
         "DT01112",
         77
        ],
        [
         "DT00111",
         78
        ],
        [
         "DT00127",
         79
        ],
        [
         "DT00402",
         80
        ],
        [
         "DT00428",
         81
        ],
        [
         "DT00496",
         82
        ],
        [
         "DT00680",
         83
        ],
        [
         "DT00819",
         84
        ],
        [
         "DT01144",
         85
        ],
        [
         "DT01222",
         86
        ],
        [
         "DT00456",
         87
        ],
        [
         "DT00500",
         88
        ],
        [
         "DT00693",
         89
        ],
        [
         "DT00835",
         90
        ],
        [
         "DT01058",
         91
        ],
        [
         "DT00223",
         92
        ],
        [
         "DT01067",
         93
        ],
        [
         "DT01086",
         94
        ],
        [
         "DT00604",
         95
        ],
        [
         "DT00650",
         96
        ],
        [
         "DT00678",
         97
        ],
        [
         "DT00774",
         98
        ],
        [
         "DT00823",
         99
        ],
        [
         "DT00962",
         100
        ],
        [
         "DT00164",
         101
        ],
        [
         "DT00235",
         102
        ],
        [
         "DT00298",
         103
        ],
        [
         "DT00425",
         104
        ],
        [
         "DT00837",
         105
        ],
        [
         "DT01015",
         106
        ],
        [
         "DT01216",
         107
        ],
        [
         "DT00119",
         108
        ],
        [
         "DT00477",
         109
        ],
        [
         "DT00520",
         110
        ],
        [
         "DT00754",
         111
        ],
        [
         "DT00973",
         112
        ],
        [
         "DT01114",
         113
        ],
        [
         "DT01129",
         114
        ],
        [
         "DT00031",
         115
        ],
        [
         "DT00468",
         116
        ],
        [
         "DT00845",
         117
        ],
        [
         "DT01085",
         118
        ],
        [
         "DT01091",
         119
        ],
        [
         "DT01134",
         120
        ],
        [
         "DT01178",
         121
        ],
        [
         "DT00026",
         122
        ],
        [
         "DT00059",
         123
        ],
        [
         "DT00290",
         124
        ],
        [
         "DT00364",
         125
        ],
        [
         "DT00375",
         126
        ],
        [
         "DT00455",
         127
        ],
        [
         "DT00873",
         128
        ],
        [
         "DT00990",
         129
        ],
        [
         "DT01007",
         130
        ],
        [
         "DT01019",
         131
        ],
        [
         "DT00285",
         132
        ],
        [
         "DT00683",
         133
        ],
        [
         "DT00765",
         134
        ],
        [
         "DT00838",
         135
        ],
        [
         "DT00995",
         136
        ],
        [
         "DT01009",
         137
        ],
        [
         "DT00212",
         138
        ],
        [
         "DT00733",
         139
        ],
        [
         "DT00950",
         140
        ],
        [
         "DT00959",
         141
        ],
        [
         "DT01018",
         142
        ],
        [
         "DT00461",
         143
        ],
        [
         "DT00734",
         144
        ],
        [
         "DT00071",
         145
        ],
        [
         "DT00203",
         146
        ],
        [
         "DT00307",
         147
        ],
        [
         "DT00450",
         148
        ],
        [
         "DT00567",
         149
        ],
        [
         "DT00570",
         150
        ],
        [
         "DT00612",
         151
        ],
        [
         "DT00628",
         152
        ],
        [
         "DT00663",
         153
        ],
        [
         "DT00762",
         154
        ],
        [
         "DT01065",
         155
        ],
        [
         "DT00118",
         156
        ],
        [
         "DT00243",
         157
        ],
        [
         "DT00718",
         158
        ],
        [
         "DT00625",
         159
        ],
        [
         "DT00756",
         160
        ],
        [
         "DT00766",
         161
        ],
        [
         "DT00841",
         162
        ],
        [
         "DT01093",
         163
        ],
        [
         "DT01176",
         164
        ],
        [
         "DT00297",
         165
        ],
        [
         "DT00397",
         166
        ],
        [
         "DT00767",
         167
        ],
        [
         "DT01097",
         168
        ],
        [
         "DT00013",
         169
        ],
        [
         "DT00198",
         170
        ],
        [
         "DT00476",
         171
        ],
        [
         "DT00481",
         172
        ],
        [
         "DT00791",
         173
        ],
        [
         "DT01133",
         174
        ],
        [
         "DT01244",
         175
        ],
        [
         "DT00087",
         176
        ],
        [
         "DT00161",
         177
        ],
        [
         "DT00163",
         178
        ],
        [
         "DT00352",
         179
        ],
        [
         "DT00463",
         180
        ],
        [
         "DT00575",
         181
        ],
        [
         "DT00639",
         182
        ],
        [
         "DT01241",
         183
        ],
        [
         "DT00360",
         184
        ],
        [
         "DT00709",
         185
        ],
        [
         "DT00719",
         186
        ],
        [
         "DT00009",
         187
        ],
        [
         "DT00257",
         188
        ],
        [
         "DT00388",
         189
        ],
        [
         "DT00792",
         190
        ],
        [
         "DT01083",
         191
        ],
        [
         "DT00099",
         192
        ],
        [
         "DT00196",
         193
        ],
        [
         "DT00385",
         194
        ],
        [
         "DT00607",
         195
        ],
        [
         "DT00615",
         196
        ],
        [
         "DT00930",
         197
        ],
        [
         "DT01017",
         198
        ],
        [
         "DT00076",
         199
        ],
        [
         "DT00174",
         200
        ],
        [
         "DT00260",
         201
        ],
        [
         "DT00319",
         202
        ],
        [
         "DT00730",
         203
        ],
        [
         "DT00846",
         204
        ],
        [
         "DT00312",
         205
        ],
        [
         "DT00417",
         206
        ],
        [
         "DT00579",
         207
        ],
        [
         "DT00634",
         208
        ],
        [
         "DT01116",
         209
        ],
        [
         "DT00217",
         210
        ],
        [
         "DT00083",
         211
        ],
        [
         "DT00159",
         212
        ],
        [
         "DT00208",
         213
        ],
        [
         "DT00268",
         214
        ],
        [
         "DT00857",
         215
        ],
        [
         "DT01003",
         216
        ],
        [
         "DT01154",
         217
        ],
        [
         "DT01179",
         218
        ],
        [
         "DT00147",
         219
        ],
        [
         "DT00441",
         220
        ],
        [
         "DT00043",
         221
        ],
        [
         "DT00051",
         222
        ],
        [
         "DT00720",
         223
        ],
        [
         "DT00776",
         224
        ],
        [
         "DT00943",
         225
        ],
        [
         "DT00955",
         226
        ],
        [
         "DT00027",
         227
        ],
        [
         "DT00089",
         228
        ],
        [
         "DT00170",
         229
        ],
        [
         "DT00452",
         230
        ],
        [
         "DT00684",
         231
        ],
        [
         "DT00833",
         232
        ],
        [
         "DT00883",
         233
        ],
        [
         "DT00046",
         234
        ],
        [
         "DT00060",
         235
        ],
        [
         "DT00136",
         236
        ],
        [
         "DT00393",
         237
        ],
        [
         "DT01115",
         238
        ],
        [
         "DT00526",
         239
        ],
        [
         "DT00675",
         240
        ],
        [
         "DT00850",
         241
        ],
        [
         "DT00940",
         242
        ],
        [
         "DT01056",
         243
        ],
        [
         "DT00080",
         244
        ],
        [
         "DT00363",
         245
        ],
        [
         "DT00366",
         246
        ],
        [
         "DT00411",
         247
        ],
        [
         "DT00749",
         248
        ],
        [
         "DT00908",
         249
        ],
        [
         "DT01048",
         250
        ],
        [
         "DT00012",
         251
        ],
        [
         "DT00020",
         252
        ],
        [
         "DT00038",
         253
        ],
        [
         "DT00331",
         254
        ],
        [
         "DT00516",
         255
        ],
        [
         "DT00698",
         256
        ],
        [
         "DT00813",
         257
        ],
        [
         "DT01182",
         258
        ],
        [
         "DT00057",
         259
        ],
        [
         "DT00442",
         260
        ],
        [
         "DT00714",
         261
        ],
        [
         "DT00954",
         262
        ],
        [
         "DT00062",
         263
        ],
        [
         "DT00688",
         264
        ],
        [
         "DT00832",
         265
        ],
        [
         "DT00262",
         266
        ],
        [
         "DT00685",
         267
        ],
        [
         "DT00726",
         268
        ],
        [
         "DT00294",
         269
        ],
        [
         "DT00326",
         270
        ],
        [
         "DT00351",
         271
        ],
        [
         "DT00587",
         272
        ],
        [
         "DT00759",
         273
        ],
        [
         "DT01140",
         274
        ],
        [
         "DT01198",
         275
        ],
        [
         "DT00278",
         276
        ],
        [
         "DT00349",
         277
        ],
        [
         "DT00373",
         278
        ],
        [
         "DT00815",
         279
        ],
        [
         "DT00072",
         280
        ],
        [
         "DT00194",
         281
        ],
        [
         "DT00581",
         282
        ],
        [
         "DT00662",
         283
        ],
        [
         "DT00892",
         284
        ],
        [
         "DT00931",
         285
        ],
        [
         "DT01195",
         286
        ],
        [
         "DT01243",
         287
        ],
        [
         "DT00284",
         288
        ],
        [
         "DT00327",
         289
        ],
        [
         "DT00415",
         290
        ],
        [
         "DT00782",
         291
        ],
        [
         "DT00986",
         292
        ],
        [
         "DT01034",
         293
        ],
        [
         "DT00082",
         294
        ],
        [
         "DT00173",
         295
        ],
        [
         "DT00517",
         296
        ],
        [
         "DT00691",
         297
        ],
        [
         "DT01060",
         298
        ],
        [
         "DT00232",
         299
        ],
        [
         "DT00292",
         300
        ],
        [
         "DT00436",
         301
        ],
        [
         "DT00562",
         302
        ],
        [
         "DT01004",
         303
        ],
        [
         "DT01035",
         304
        ],
        [
         "DT00063",
         305
        ],
        [
         "DT00247",
         306
        ],
        [
         "DT00398",
         307
        ],
        [
         "DT00635",
         308
        ],
        [
         "DT00796",
         309
        ],
        [
         "DT00186",
         310
        ],
        [
         "DT00263",
         311
        ],
        [
         "DT00316",
         312
        ],
        [
         "DT00323",
         313
        ],
        [
         "DT00440",
         314
        ],
        [
         "DT00827",
         315
        ],
        [
         "DT01159",
         316
        ],
        [
         "DT01202",
         317
        ],
        [
         "DT00023",
         318
        ],
        [
         "DT00094",
         319
        ],
        [
         "DT00132",
         320
        ],
        [
         "DT00274",
         321
        ],
        [
         "DT00480",
         322
        ],
        [
         "DT00548",
         323
        ],
        [
         "DT00712",
         324
        ],
        [
         "DT01210",
         325
        ],
        [
         "DT00434",
         326
        ],
        [
         "DT00572",
         327
        ],
        [
         "DT00659",
         328
        ],
        [
         "DT00713",
         329
        ],
        [
         "DT00880",
         330
        ],
        [
         "DT00022",
         331
        ],
        [
         "DT00267",
         332
        ],
        [
         "DT00651",
         333
        ],
        [
         "DT00795",
         334
        ],
        [
         "DT00799",
         335
        ],
        [
         "DT00844",
         336
        ],
        [
         "DT00891",
         337
        ],
        [
         "DT01046",
         338
        ],
        [
         "DT00843",
         339
        ],
        [
         "DT00872",
         340
        ],
        [
         "DT01145",
         341
        ],
        [
         "DT01173",
         342
        ],
        [
         "DT01217",
         343
        ],
        [
         "DT00191",
         344
        ],
        [
         "DT00308",
         345
        ],
        [
         "DT00381",
         346
        ],
        [
         "DT00551",
         347
        ],
        [
         "DT00938",
         348
        ],
        [
         "DT01225",
         349
        ],
        [
         "DT00182",
         350
        ],
        [
         "DT00550",
         351
        ],
        [
         "DT00552",
         352
        ],
        [
         "DT00926",
         353
        ],
        [
         "DT01100",
         354
        ],
        [
         "DT01151",
         355
        ],
        [
         "DT00088",
         356
        ],
        [
         "DT00134",
         357
        ],
        [
         "DT00153",
         358
        ],
        [
         "DT00256",
         359
        ],
        [
         "DT00258",
         360
        ],
        [
         "DT00322",
         361
        ],
        [
         "DT00413",
         362
        ],
        [
         "DT00777",
         363
        ],
        [
         "DT00920",
         364
        ],
        [
         "DT00410",
         365
        ],
        [
         "DT00426",
         366
        ],
        [
         "DT00609",
         367
        ],
        [
         "DT00768",
         368
        ],
        [
         "DT00775",
         369
        ],
        [
         "DT01069",
         370
        ],
        [
         "DT00040",
         371
        ],
        [
         "DT00329",
         372
        ],
        [
         "DT00800",
         373
        ],
        [
         "DT01186",
         374
        ],
        [
         "DT00289",
         375
        ],
        [
         "DT00344",
         376
        ],
        [
         "DT00616",
         377
        ],
        [
         "DT00849",
         378
        ],
        [
         "DT01002",
         379
        ],
        [
         "DT01119",
         380
        ],
        [
         "DT01164",
         381
        ],
        [
         "DT00181",
         382
        ],
        [
         "DT00273",
         383
        ],
        [
         "DT00315",
         384
        ],
        [
         "DT00404",
         385
        ],
        [
         "DT00407",
         386
        ],
        [
         "DT00882",
         387
        ],
        [
         "DT00905",
         388
        ],
        [
         "DT01162",
         389
        ],
        [
         "DT01193",
         390
        ],
        [
         "DT01197",
         391
        ],
        [
         "DT00180",
         392
        ],
        [
         "DT00630",
         393
        ],
        [
         "DT00334",
         394
        ],
        [
         "DT00918",
         395
        ],
        [
         "DT01073",
         396
        ],
        [
         "DT00332",
         397
        ],
        [
         "DT00546",
         398
        ],
        [
         "DT00564",
         399
        ],
        [
         "DT00868",
         400
        ],
        [
         "DT00917",
         401
        ],
        [
         "DT01011",
         402
        ],
        [
         "DT00199",
         403
        ],
        [
         "DT00214",
         404
        ],
        [
         "DT00504",
         405
        ],
        [
         "DT00514",
         406
        ],
        [
         "DT00596",
         407
        ],
        [
         "DT00739",
         408
        ],
        [
         "DT00801",
         409
        ],
        [
         "DT00826",
         410
        ],
        [
         "DT00828",
         411
        ],
        [
         "DT00983",
         412
        ],
        [
         "DT01042",
         413
        ],
        [
         "DT00146",
         414
        ],
        [
         "DT00241",
         415
        ],
        [
         "DT00350",
         416
        ],
        [
         "DT00486",
         417
        ],
        [
         "DT00535",
         418
        ],
        [
         "DT00558",
         419
        ],
        [
         "DT00583",
         420
        ],
        [
         "DT00729",
         421
        ],
        [
         "DT00852",
         422
        ],
        [
         "DT00969",
         423
        ],
        [
         "DT01008",
         424
        ],
        [
         "DT01072",
         425
        ],
        [
         "DT01139",
         426
        ],
        [
         "DT01204",
         427
        ],
        [
         "DT00239",
         428
        ],
        [
         "DT00498",
         429
        ],
        [
         "DT00528",
         430
        ],
        [
         "DT00531",
         431
        ],
        [
         "DT00665",
         432
        ],
        [
         "DT01218",
         433
        ],
        [
         "DT00368",
         434
        ],
        [
         "DT00484",
         435
        ],
        [
         "DT00554",
         436
        ],
        [
         "DT00741",
         437
        ],
        [
         "DT00805",
         438
        ],
        [
         "DT00913",
         439
        ],
        [
         "DT01014",
         440
        ],
        [
         "DT01098",
         441
        ],
        [
         "DT01191",
         442
        ],
        [
         "DT00339",
         443
        ],
        [
         "DT00418",
         444
        ],
        [
         "DT00519",
         445
        ],
        [
         "DT00586",
         446
        ],
        [
         "DT00878",
         447
        ],
        [
         "DT00117",
         448
        ],
        [
         "DT00646",
         449
        ],
        [
         "DT00928",
         450
        ],
        [
         "DT00337",
         451
        ],
        [
         "DT00369",
         452
        ],
        [
         "DT01155",
         453
        ],
        [
         "DT01184",
         454
        ],
        [
         "DT00058",
         455
        ],
        [
         "DT00086",
         456
        ],
        [
         "DT00171",
         457
        ],
        [
         "DT00270",
         458
        ],
        [
         "DT00310",
         459
        ],
        [
         "DT00431",
         460
        ],
        [
         "DT00495",
         461
        ],
        [
         "DT00727",
         462
        ],
        [
         "DT00024",
         463
        ],
        [
         "DT00303",
         464
        ],
        [
         "DT00376",
         465
        ],
        [
         "DT00997",
         466
        ],
        [
         "DT01075",
         467
        ],
        [
         "DT00510",
         468
        ],
        [
         "DT00549",
         469
        ],
        [
         "DT00744",
         470
        ],
        [
         "DT00854",
         471
        ],
        [
         "DT00875",
         472
        ],
        [
         "DT00902",
         473
        ],
        [
         "DT00078",
         474
        ],
        [
         "DT00757",
         475
        ],
        [
         "DT00764",
         476
        ],
        [
         "DT01041",
         477
        ],
        [
         "DT01047",
         478
        ],
        [
         "DT01066",
         479
        ],
        [
         "DT01120",
         480
        ],
        [
         "DT00202",
         481
        ],
        [
         "DT00220",
         482
        ],
        [
         "DT00576",
         483
        ],
        [
         "DT00589",
         484
        ],
        [
         "DT01238",
         485
        ],
        [
         "DT00152",
         486
        ],
        [
         "DT00178",
         487
        ],
        [
         "DT00679",
         488
        ],
        [
         "DT00814",
         489
        ],
        [
         "DT00963",
         490
        ],
        [
         "DT00168",
         491
        ],
        [
         "DT00244",
         492
        ],
        [
         "DT00527",
         493
        ],
        [
         "DT00629",
         494
        ],
        [
         "DT00784",
         495
        ],
        [
         "DT00901",
         496
        ],
        [
         "DT01189",
         497
        ],
        [
         "DT00383",
         498
        ],
        [
         "DT00420",
         499
        ],
        [
         "DT00469",
         500
        ],
        [
         "DT00035",
         501
        ],
        [
         "DT00125",
         502
        ],
        [
         "DT00166",
         503
        ],
        [
         "DT00167",
         504
        ],
        [
         "DT00291",
         505
        ],
        [
         "DT00353",
         506
        ],
        [
         "DT00438",
         507
        ],
        [
         "DT00447",
         508
        ],
        [
         "DT00751",
         509
        ],
        [
         "DT00789",
         510
        ],
        [
         "DT00898",
         511
        ],
        [
         "DT00958",
         512
        ],
        [
         "DT01052",
         513
        ],
        [
         "DT00430",
         514
        ],
        [
         "DT00503",
         515
        ],
        [
         "DT00622",
         516
        ],
        [
         "DT00674",
         517
        ],
        [
         "DT00916",
         518
        ],
        [
         "DT00944",
         519
        ],
        [
         "DT00999",
         520
        ],
        [
         "DT00335",
         521
        ],
        [
         "DT00493",
         522
        ],
        [
         "DT00633",
         523
        ],
        [
         "DT00807",
         524
        ],
        [
         "DT00937",
         525
        ],
        [
         "DT01183",
         526
        ],
        [
         "DT00017",
         527
        ],
        [
         "DT00126",
         528
        ],
        [
         "DT00215",
         529
        ],
        [
         "DT00649",
         530
        ],
        [
         "DT00655",
         531
        ],
        [
         "DT00802",
         532
        ],
        [
         "DT01227",
         533
        ],
        [
         "DT00432",
         534
        ],
        [
         "DT00817",
         535
        ],
        [
         "DT01079",
         536
        ],
        [
         "DT01110",
         537
        ],
        [
         "DT00016",
         538
        ],
        [
         "DT00416",
         539
        ],
        [
         "DT00482",
         540
        ],
        [
         "DT00903",
         541
        ],
        [
         "DT00960",
         542
        ],
        [
         "DT00131",
         543
        ],
        [
         "DT00165",
         544
        ],
        [
         "DT00348",
         545
        ],
        [
         "DT00539",
         546
        ],
        [
         "DT01053",
         547
        ],
        [
         "DT00032",
         548
        ],
        [
         "DT00081",
         549
        ],
        [
         "DT00474",
         550
        ],
        [
         "DT00488",
         551
        ],
        [
         "DT00661",
         552
        ],
        [
         "DT00748",
         553
        ],
        [
         "DT00860",
         554
        ],
        [
         "DT00135",
         555
        ],
        [
         "DT00287",
         556
        ],
        [
         "DT00494",
         557
        ],
        [
         "DT00624",
         558
        ],
        [
         "DT00701",
         559
        ],
        [
         "DT00705",
         560
        ],
        [
         "DT00722",
         561
        ],
        [
         "DT00859",
         562
        ],
        [
         "DT01130",
         563
        ],
        [
         "DT00427",
         564
        ],
        [
         "DT00097",
         565
        ],
        [
         "DT00597",
         566
        ],
        [
         "DT00994",
         567
        ],
        [
         "DT00084",
         568
        ],
        [
         "DT00449",
         569
        ],
        [
         "DT00544",
         570
        ],
        [
         "DT00670",
         571
        ],
        [
         "DT00897",
         572
        ],
        [
         "DT01157",
         573
        ],
        [
         "DT00525",
         574
        ],
        [
         "DT01051",
         575
        ],
        [
         "DT01233",
         576
        ],
        [
         "DT00226",
         577
        ],
        [
         "DT00347",
         578
        ],
        [
         "DT01025",
         579
        ],
        [
         "DT01242",
         580
        ],
        [
         "DT00095",
         581
        ],
        [
         "DT00328",
         582
        ],
        [
         "DT00382",
         583
        ],
        [
         "DT01125",
         584
        ],
        [
         "DT01214",
         585
        ],
        [
         "DT00079",
         586
        ],
        [
         "DT00162",
         587
        ],
        [
         "DT00318",
         588
        ],
        [
         "DT00439",
         589
        ],
        [
         "DT01084",
         590
        ],
        [
         "DT01104",
         591
        ],
        [
         "DT00221",
         592
        ],
        [
         "DT00280",
         593
        ],
        [
         "DT00778",
         594
        ],
        [
         "DT00317",
         595
        ],
        [
         "DT00515",
         596
        ],
        [
         "DT00553",
         597
        ],
        [
         "DT00573",
         598
        ],
        [
         "DT00620",
         599
        ],
        [
         "DT00654",
         600
        ],
        [
         "DT01170",
         601
        ],
        [
         "DT00044",
         602
        ],
        [
         "DT00296",
         603
        ],
        [
         "DT00419",
         604
        ],
        [
         "DT00711",
         605
        ],
        [
         "DT01062",
         606
        ],
        [
         "DT00115",
         607
        ],
        [
         "DT00377",
         608
        ],
        [
         "DT00592",
         609
        ],
        [
         "DT00863",
         610
        ],
        [
         "DT01121",
         611
        ],
        [
         "DT01203",
         612
        ],
        [
         "DT00096",
         613
        ],
        [
         "DT00422",
         614
        ],
        [
         "DT00864",
         615
        ],
        [
         "DT00932",
         616
        ],
        [
         "DT01169",
         617
        ],
        [
         "DT00042",
         618
        ],
        [
         "DT00048",
         619
        ],
        [
         "DT00492",
         620
        ],
        [
         "DT00521",
         621
        ],
        [
         "DT00787",
         622
        ],
        [
         "DT00793",
         623
        ],
        [
         "DT00848",
         624
        ],
        [
         "DT00865",
         625
        ],
        [
         "DT00975",
         626
        ],
        [
         "DT01174",
         627
        ],
        [
         "DT01181",
         628
        ],
        [
         "DT00211",
         629
        ],
        [
         "DT00293",
         630
        ],
        [
         "DT00877",
         631
        ],
        [
         "DT00092",
         632
        ],
        [
         "DT00286",
         633
        ],
        [
         "DT00414",
         634
        ],
        [
         "DT00653",
         635
        ],
        [
         "DT00769",
         636
        ],
        [
         "DT00952",
         637
        ],
        [
         "DT01124",
         638
        ],
        [
         "DT00124",
         639
        ],
        [
         "DT00345",
         640
        ],
        [
         "DT00489",
         641
        ],
        [
         "DT00660",
         642
        ],
        [
         "DT00676",
         643
        ],
        [
         "DT00694",
         644
        ],
        [
         "DT00812",
         645
        ],
        [
         "DT01087",
         646
        ],
        [
         "DT01192",
         647
        ],
        [
         "DT00008",
         648
        ],
        [
         "DT00110",
         649
        ],
        [
         "DT00207",
         650
        ],
        [
         "DT00370",
         651
        ],
        [
         "DT00541",
         652
        ],
        [
         "DT00656",
         653
        ],
        [
         "DT00781",
         654
        ],
        [
         "DT00647",
         655
        ],
        [
         "DT00747",
         656
        ],
        [
         "DT00970",
         657
        ],
        [
         "DT00471",
         658
        ],
        [
         "DT00621",
         659
        ],
        [
         "DT00723",
         660
        ],
        [
         "DT00855",
         661
        ],
        [
         "DT00899",
         662
        ],
        [
         "DT00941",
         663
        ],
        [
         "DT00066",
         664
        ],
        [
         "DT00617",
         665
        ],
        [
         "DT00745",
         666
        ],
        [
         "DT00840",
         667
        ],
        [
         "DT01082",
         668
        ],
        [
         "DT00179",
         669
        ],
        [
         "DT00343",
         670
        ],
        [
         "DT00405",
         671
        ],
        [
         "DT00971",
         672
        ],
        [
         "DT00988",
         673
        ],
        [
         "DT00028",
         674
        ],
        [
         "DT00033",
         675
        ],
        [
         "DT00219",
         676
        ],
        [
         "DT00409",
         677
        ],
        [
         "DT00533",
         678
        ],
        [
         "DT00582",
         679
        ],
        [
         "DT00641",
         680
        ],
        [
         "DT00803",
         681
        ],
        [
         "DT00895",
         682
        ],
        [
         "DT01167",
         683
        ],
        [
         "DT00053",
         684
        ],
        [
         "DT00249",
         685
        ],
        [
         "DT00306",
         686
        ],
        [
         "DT00459",
         687
        ],
        [
         "DT00511",
         688
        ],
        [
         "DT00808",
         689
        ],
        [
         "DT00907",
         690
        ],
        [
         "DT00069",
         691
        ],
        [
         "DT00150",
         692
        ],
        [
         "DT00200",
         693
        ],
        [
         "DT00644",
         694
        ],
        [
         "DT00858",
         695
        ],
        [
         "DT00509",
         696
        ],
        [
         "DT00529",
         697
        ],
        [
         "DT00648",
         698
        ],
        [
         "DT00752",
         699
        ],
        [
         "DT00234",
         700
        ],
        [
         "DT00939",
         701
        ],
        [
         "DT01054",
         702
        ],
        [
         "DT00224",
         703
        ],
        [
         "DT00340",
         704
        ],
        [
         "DT00611",
         705
        ],
        [
         "DT01209",
         706
        ],
        [
         "DT00356",
         707
        ],
        [
         "DT00664",
         708
        ],
        [
         "DT00702",
         709
        ],
        [
         "DT00956",
         710
        ],
        [
         "DT00144",
         711
        ],
        [
         "DT00266",
         712
        ],
        [
         "DT00700",
         713
        ],
        [
         "DT01010",
         714
        ],
        [
         "DT01220",
         715
        ],
        [
         "DT01232",
         716
        ],
        [
         "DT00123",
         717
        ],
        [
         "DT00129",
         718
        ],
        [
         "DT00141",
         719
        ],
        [
         "DT00157",
         720
        ],
        [
         "DT00330",
         721
        ],
        [
         "DT00825",
         722
        ],
        [
         "DT00924",
         723
        ],
        [
         "DT01146",
         724
        ],
        [
         "DT00342",
         725
        ],
        [
         "DT00408",
         726
        ],
        [
         "DT00643",
         727
        ],
        [
         "DT01105",
         728
        ],
        [
         "DT00011",
         729
        ],
        [
         "DT00148",
         730
        ],
        [
         "DT00594",
         731
        ],
        [
         "DT00847",
         732
        ],
        [
         "DT00869",
         733
        ],
        [
         "DT01029",
         734
        ],
        [
         "DT00137",
         735
        ],
        [
         "DT00204",
         736
        ],
        [
         "DT00255",
         737
        ],
        [
         "DT00443",
         738
        ],
        [
         "DT00697",
         739
        ],
        [
         "DT00934",
         740
        ],
        [
         "DT00977",
         741
        ],
        [
         "DT01030",
         742
        ],
        [
         "DT01049",
         743
        ],
        [
         "DT01131",
         744
        ],
        [
         "DT01147",
         745
        ],
        [
         "DT00151",
         746
        ],
        [
         "DT00205",
         747
        ],
        [
         "DT00324",
         748
        ],
        [
         "DT00839",
         749
        ],
        [
         "DT00879",
         750
        ],
        [
         "DT01226",
         751
        ],
        [
         "DT00002",
         752
        ],
        [
         "DT01040",
         753
        ],
        [
         "DT01161",
         754
        ],
        [
         "DT01172",
         755
        ],
        [
         "DT00054",
         756
        ],
        [
         "DT00156",
         757
        ],
        [
         "DT00184",
         758
        ],
        [
         "DT00193",
         759
        ],
        [
         "DT00225",
         760
        ],
        [
         "DT00358",
         761
        ],
        [
         "DT01050",
         762
        ],
        [
         "DT00065",
         763
        ],
        [
         "DT00230",
         764
        ],
        [
         "DT00346",
         765
        ],
        [
         "DT00682",
         766
        ],
        [
         "DT00758",
         767
        ],
        [
         "DT00790",
         768
        ],
        [
         "DT00831",
         769
        ],
        [
         "DT00912",
         770
        ],
        [
         "DT01012",
         771
        ],
        [
         "DT00281",
         772
        ],
        [
         "DT00429",
         773
        ],
        [
         "DT00696",
         774
        ],
        [
         "DT00724",
         775
        ],
        [
         "DT00725",
         776
        ],
        [
         "DT01108",
         777
        ],
        [
         "DT00378",
         778
        ],
        [
         "DT00433",
         779
        ],
        [
         "DT00523",
         780
        ],
        [
         "DT00537",
         781
        ],
        [
         "DT00568",
         782
        ],
        [
         "DT00821",
         783
        ],
        [
         "DT00894",
         784
        ],
        [
         "DT01032",
         785
        ],
        [
         "DT00403",
         786
        ],
        [
         "DT00542",
         787
        ],
        [
         "DT00578",
         788
        ],
        [
         "DT00590",
         789
        ],
        [
         "DT00743",
         790
        ],
        [
         "DT00175",
         791
        ],
        [
         "DT00314",
         792
        ],
        [
         "DT00333",
         793
        ],
        [
         "DT00716",
         794
        ],
        [
         "DT00788",
         795
        ],
        [
         "DT00936",
         796
        ],
        [
         "DT00996",
         797
        ],
        [
         "DT00070",
         798
        ],
        [
         "DT00206",
         799
        ],
        [
         "DT00435",
         800
        ],
        [
         "DT00636",
         801
        ],
        [
         "DT00910",
         802
        ],
        [
         "DT01150",
         803
        ],
        [
         "DT01180",
         804
        ],
        [
         "DT00143",
         805
        ],
        [
         "DT00288",
         806
        ],
        [
         "DT00390",
         807
        ],
        [
         "DT00470",
         808
        ],
        [
         "DT00974",
         809
        ],
        [
         "DT01221",
         810
        ],
        [
         "DT00233",
         811
        ],
        [
         "DT00304",
         812
        ],
        [
         "DT00424",
         813
        ],
        [
         "DT00602",
         814
        ],
        [
         "DT00623",
         815
        ],
        [
         "DT00763",
         816
        ],
        [
         "DT00786",
         817
        ],
        [
         "DT00818",
         818
        ],
        [
         "DT00820",
         819
        ],
        [
         "DT00949",
         820
        ],
        [
         "DT00953",
         821
        ],
        [
         "DT00968",
         822
        ],
        [
         "DT01200",
         823
        ],
        [
         "DT01228",
         824
        ],
        [
         "DT00001",
         825
        ],
        [
         "DT00006",
         826
        ],
        [
         "DT00007",
         827
        ],
        [
         "DT00169",
         828
        ],
        [
         "DT00717",
         829
        ],
        [
         "DT00045",
         830
        ],
        [
         "DT00195",
         831
        ],
        [
         "DT00467",
         832
        ],
        [
         "DT00608",
         833
        ],
        [
         "DT00824",
         834
        ],
        [
         "DT01237",
         835
        ],
        [
         "DT00238",
         836
        ],
        [
         "DT00387",
         837
        ],
        [
         "DT00991",
         838
        ],
        [
         "DT01118",
         839
        ],
        [
         "DT00154",
         840
        ],
        [
         "DT00172",
         841
        ],
        [
         "DT00703",
         842
        ],
        [
         "DT00834",
         843
        ],
        [
         "DT00866",
         844
        ],
        [
         "DT01070",
         845
        ],
        [
         "DT01175",
         846
        ],
        [
         "DT01245",
         847
        ],
        [
         "DT00301",
         848
        ],
        [
         "DT00445",
         849
        ],
        [
         "DT01236",
         850
        ],
        [
         "DT00052",
         851
        ],
        [
         "DT01219",
         852
        ],
        [
         "DT00061",
         853
        ],
        [
         "DT00374",
         854
        ],
        [
         "DT00638",
         855
        ],
        [
         "DT00645",
         856
        ],
        [
         "DT00785",
         857
        ],
        [
         "DT00871",
         858
        ],
        [
         "DT01187",
         859
        ],
        [
         "DT00451",
         860
        ],
        [
         "DT00652",
         861
        ],
        [
         "DT01092",
         862
        ],
        [
         "DT01122",
         863
        ],
        [
         "DT00216",
         864
        ],
        [
         "DT00246",
         865
        ],
        [
         "DT00355",
         866
        ],
        [
         "DT00380",
         867
        ],
        [
         "DT00806",
         868
        ],
        [
         "DT01199",
         869
        ],
        [
         "DT00229",
         870
        ],
        [
         "DT00271",
         871
        ],
        [
         "DT00305",
         872
        ],
        [
         "DT00772",
         873
        ],
        [
         "DT01163",
         874
        ],
        [
         "DT00120",
         875
        ],
        [
         "DT00231",
         876
        ],
        [
         "DT00577",
         877
        ],
        [
         "DT00595",
         878
        ],
        [
         "DT00601",
         879
        ],
        [
         "DT00993",
         880
        ],
        [
         "DT01149",
         881
        ],
        [
         "DT00003",
         882
        ],
        [
         "DT00673",
         883
        ],
        [
         "DT01101",
         884
        ],
        [
         "DT01223",
         885
        ],
        [
         "DT00706",
         886
        ],
        [
         "DT00721",
         887
        ],
        [
         "DT01113",
         888
        ],
        [
         "DT01230",
         889
        ],
        [
         "DT00019",
         890
        ],
        [
         "DT00400",
         891
        ],
        [
         "DT00746",
         892
        ],
        [
         "DT01045",
         893
        ],
        [
         "DT00107",
         894
        ],
        [
         "DT00183",
         895
        ],
        [
         "DT00574",
         896
        ],
        [
         "DT00580",
         897
        ],
        [
         "DT00732",
         898
        ],
        [
         "DT00359",
         899
        ],
        [
         "DT00460",
         900
        ],
        [
         "DT00483",
         901
        ],
        [
         "DT00490",
         902
        ],
        [
         "DT00618",
         903
        ],
        [
         "DT01142",
         904
        ],
        [
         "DT00105",
         905
        ],
        [
         "DT00338",
         906
        ],
        [
         "DT00640",
         907
        ],
        [
         "DT00687",
         908
        ],
        [
         "DT00213",
         909
        ],
        [
         "DT00299",
         910
        ],
        [
         "DT00399",
         911
        ],
        [
         "DT00557",
         912
        ],
        [
         "DT00681",
         913
        ],
        [
         "DT00904",
         914
        ],
        [
         "DT00906",
         915
        ],
        [
         "DT00923",
         916
        ],
        [
         "DT01036",
         917
        ],
        [
         "DT00218",
         918
        ],
        [
         "DT00242",
         919
        ],
        [
         "DT00245",
         920
        ],
        [
         "DT00569",
         921
        ],
        [
         "DT00090",
         922
        ],
        [
         "DT00122",
         923
        ],
        [
         "DT00222",
         924
        ],
        [
         "DT00384",
         925
        ],
        [
         "DT00605",
         926
        ],
        [
         "DT00619",
         927
        ],
        [
         "DT00830",
         928
        ],
        [
         "DT00998",
         929
        ],
        [
         "DT01089",
         930
        ],
        [
         "DT01127",
         931
        ],
        [
         "DT01138",
         932
        ],
        [
         "DT00130",
         933
        ],
        [
         "DT00188",
         934
        ],
        [
         "DT00197",
         935
        ],
        [
         "DT00237",
         936
        ],
        [
         "DT00530",
         937
        ],
        [
         "DT00627",
         938
        ],
        [
         "DT00761",
         939
        ],
        [
         "DT00822",
         940
        ],
        [
         "DT00881",
         941
        ],
        [
         "DT00942",
         942
        ],
        [
         "DT00075",
         943
        ],
        [
         "DT00282",
         944
        ],
        [
         "DT00401",
         945
        ],
        [
         "DT01109",
         946
        ],
        [
         "DT01206",
         947
        ],
        [
         "DT01231",
         948
        ],
        [
         "DT00446",
         949
        ],
        [
         "DT00699",
         950
        ],
        [
         "DT00773",
         951
        ],
        [
         "DT00780",
         952
        ],
        [
         "DT00896",
         953
        ],
        [
         "DT00240",
         954
        ],
        [
         "DT00269",
         955
        ],
        [
         "DT00887",
         956
        ],
        [
         "DT01090",
         957
        ],
        [
         "DT01196",
         958
        ],
        [
         "DT00068",
         959
        ],
        [
         "DT00093",
         960
        ],
        [
         "DT00133",
         961
        ],
        [
         "DT00210",
         962
        ],
        [
         "DT00391",
         963
        ],
        [
         "DT00760",
         964
        ],
        [
         "DT00981",
         965
        ],
        [
         "DT01095",
         966
        ],
        [
         "DT01137",
         967
        ],
        [
         "DT00039",
         968
        ],
        [
         "DT00708",
         969
        ],
        [
         "DT00945",
         970
        ],
        [
         "DT00965",
         971
        ],
        [
         "DT00018",
         972
        ],
        [
         "DT00113",
         973
        ],
        [
         "DT00406",
         974
        ],
        [
         "DT00559",
         975
        ],
        [
         "DT00626",
         976
        ],
        [
         "DT00642",
         977
        ],
        [
         "DT00248",
         978
        ],
        [
         "DT00731",
         979
        ],
        [
         "DT00853",
         980
        ],
        [
         "DT01078",
         981
        ],
        [
         "DT01106",
         982
        ],
        [
         "DT00259",
         983
        ],
        [
         "DT00453",
         984
        ],
        [
         "DT00465",
         985
        ],
        [
         "DT00566",
         986
        ],
        [
         "DT01168",
         987
        ],
        [
         "DT00004",
         988
        ],
        [
         "DT00737",
         989
        ],
        [
         "DT00842",
         990
        ],
        [
         "DT00886",
         991
        ],
        [
         "DT00989",
         992
        ],
        [
         "DT01080",
         993
        ],
        [
         "DT01211",
         994
        ],
        [
         "DT00277",
         995
        ],
        [
         "DT00357",
         996
        ],
        [
         "DT00588",
         997
        ],
        [
         "DT01103",
         998
        ],
        [
         "DT00034",
         999
        ],
        [
         "DT00187",
         1000
        ],
        [
         "DT00252",
         1001
        ],
        [
         "DT00466",
         1002
        ],
        [
         "DT00987",
         1003
        ],
        [
         "DT00371",
         1004
        ],
        [
         "DT00512",
         1005
        ],
        [
         "DT00710",
         1006
        ],
        [
         "DT01037",
         1007
        ],
        [
         "DT01148",
         1008
        ],
        [
         "DT00658",
         1009
        ],
        [
         "DT01022",
         1010
        ],
        [
         "DT01239",
         1011
        ],
        [
         "DT00010",
         1012
        ],
        [
         "DT00158",
         1013
        ],
        [
         "DT00365",
         1014
        ],
        [
         "DT00513",
         1015
        ],
        [
         "DT00599",
         1016
        ],
        [
         "DT00677",
         1017
        ],
        [
         "DT00771",
         1018
        ],
        [
         "DT00253",
         1019
        ],
        [
         "DT00487",
         1020
        ],
        [
         "DT00536",
         1021
        ],
        [
         "DT00598",
         1022
        ],
        [
         "DT00047",
         1023
        ],
        [
         "DT00251",
         1024
        ],
        [
         "DT00593",
         1025
        ],
        [
         "DT00666",
         1026
        ],
        [
         "DT00946",
         1027
        ],
        [
         "DT00300",
         1028
        ],
        [
         "DT00600",
         1029
        ],
        [
         "DT00978",
         1030
        ],
        [
         "DT01136",
         1031
        ],
        [
         "DT00055",
         1032
        ],
        [
         "DT00283",
         1033
        ],
        [
         "DT01088",
         1034
        ],
        [
         "DT00049",
         1035
        ],
        [
         "DT00073",
         1036
        ],
        [
         "DT00101",
         1037
        ],
        [
         "DT00106",
         1038
        ],
        [
         "DT00112",
         1039
        ],
        [
         "DT00177",
         1040
        ],
        [
         "DT00275",
         1041
        ],
        [
         "DT00606",
         1042
        ],
        [
         "DT00005",
         1043
        ],
        [
         "DT00507",
         1044
        ],
        [
         "DT00668",
         1045
        ],
        [
         "DT00735",
         1046
        ],
        [
         "DT01005",
         1047
        ],
        [
         "DT01081",
         1048
        ],
        [
         "DT01094",
         1049
        ],
        [
         "DT00116",
         1050
        ],
        [
         "DT00228",
         1051
        ],
        [
         "DT00689",
         1052
        ],
        [
         "DT01152",
         1053
        ],
        [
         "DT00189",
         1054
        ],
        [
         "DT00540",
         1055
        ],
        [
         "DT00565",
         1056
        ],
        [
         "DT00783",
         1057
        ],
        [
         "DT00861",
         1058
        ],
        [
         "DT00884",
         1059
        ],
        [
         "DT00927",
         1060
        ],
        [
         "DT00966",
         1061
        ],
        [
         "DT01016",
         1062
        ],
        [
         "DT01055",
         1063
        ],
        [
         "DT01132",
         1064
        ],
        [
         "DT01194",
         1065
        ],
        [
         "DT00392",
         1066
        ],
        [
         "DT00472",
         1067
        ],
        [
         "DT00571",
         1068
        ],
        [
         "DT00707",
         1069
        ],
        [
         "DT01096",
         1070
        ],
        [
         "DT01158",
         1071
        ],
        [
         "DT00050",
         1072
        ],
        [
         "DT00114",
         1073
        ],
        [
         "DT00185",
         1074
        ],
        [
         "DT00395",
         1075
        ],
        [
         "DT00538",
         1076
        ],
        [
         "DT00695",
         1077
        ],
        [
         "DT00893",
         1078
        ],
        [
         "DT00922",
         1079
        ],
        [
         "DT01023",
         1080
        ],
        [
         "DT00265",
         1081
        ],
        [
         "DT00389",
         1082
        ],
        [
         "DT00499",
         1083
        ],
        [
         "DT00547",
         1084
        ],
        [
         "DT00816",
         1085
        ],
        [
         "DT00948",
         1086
        ],
        [
         "DT01160",
         1087
        ],
        [
         "DT01201",
         1088
        ],
        [
         "DT00276",
         1089
        ],
        [
         "DT00311",
         1090
        ],
        [
         "DT00462",
         1091
        ],
        [
         "DT00584",
         1092
        ],
        [
         "DT00961",
         1093
        ],
        [
         "DT00501",
         1094
        ],
        [
         "DT00585",
         1095
        ],
        [
         "DT00794",
         1096
        ],
        [
         "DT01135",
         1097
        ],
        [
         "DT00532",
         1098
        ],
        [
         "DT00770",
         1099
        ],
        [
         "DT00979",
         1100
        ],
        [
         "DT01063",
         1101
        ],
        [
         "DT01141",
         1102
        ],
        [
         "DT01165",
         1103
        ],
        [
         "DT00030",
         1104
        ],
        [
         "DT00423",
         1105
        ],
        [
         "DT00753",
         1106
        ],
        [
         "DT01074",
         1107
        ],
        [
         "DT01117",
         1108
        ],
        [
         "DT01128",
         1109
        ],
        [
         "DT00121",
         1110
        ],
        [
         "DT00502",
         1111
        ],
        [
         "DT00982",
         1112
        ],
        [
         "DT01229",
         1113
        ],
        [
         "DT00957",
         1114
        ],
        [
         "DT00556",
         1115
        ],
        [
         "DT00561",
         1116
        ],
        [
         "DT00992",
         1117
        ],
        [
         "DT01027",
         1118
        ],
        [
         "DT01156",
         1119
        ],
        [
         "DT01190",
         1120
        ],
        [
         "DT00074",
         1121
        ],
        [
         "DT00085",
         1122
        ],
        [
         "DT00386",
         1123
        ],
        [
         "DT00669",
         1124
        ],
        [
         "DT00972",
         1125
        ],
        [
         "DT01021",
         1126
        ],
        [
         "DT01057",
         1127
        ],
        [
         "DT01071",
         1128
        ],
        [
         "DT00036",
         1129
        ],
        [
         "DT00302",
         1130
        ],
        [
         "DT00367",
         1131
        ],
        [
         "DT00929",
         1132
        ],
        [
         "DT00933",
         1133
        ],
        [
         "DT01000",
         1134
        ],
        [
         "DT01038",
         1135
        ],
        [
         "DT01039",
         1136
        ],
        [
         "DT01064",
         1137
        ],
        [
         "DT01205",
         1138
        ],
        [
         "DT00067",
         1139
        ],
        [
         "DT00142",
         1140
        ],
        [
         "DT00362",
         1141
        ],
        [
         "DT00560",
         1142
        ],
        [
         "DT00631",
         1143
        ],
        [
         "DT00980",
         1144
        ],
        [
         "DT01143",
         1145
        ],
        [
         "DT01212",
         1146
        ],
        [
         "DT00025",
         1147
        ],
        [
         "DT00320",
         1148
        ],
        [
         "DT00473",
         1149
        ],
        [
         "DT00505",
         1150
        ],
        [
         "DT00555",
         1151
        ],
        [
         "DT00671",
         1152
        ],
        [
         "DT00738",
         1153
        ],
        [
         "DT00867",
         1154
        ],
        [
         "DT00888",
         1155
        ],
        [
         "DT01006",
         1156
        ]
       ],
       "datasetInfos": [],
       "dbfsResultPath": null,
       "isJsonSchema": true,
       "metadata": {
        "createTempViewForImplicitDf": true,
        "dataframeName": "_sqldf",
        "executionCount": 14
       },
       "overflow": false,
       "plotOptions": {
        "customPlotOptions": {},
        "displayType": "table",
        "pivotAggregation": null,
        "pivotColumns": null,
        "xColumns": null,
        "yColumns": null
       },
       "removedWidgets": [],
       "schema": [
        {
         "metadata": "{}",
         "name": "Date_ID",
         "type": "\"string\""
        },
        {
         "metadata": "{}",
         "name": "Date_sk",
         "type": "\"long\""
        }
       ],
       "type": "table"
      }
     },
     "output_type": "display_data"
    }
   ],
   "source": [
    "%sql\n",
    "select * from delta.`abfss://gold@ataacarprojectdatalake.dfs.core.windows.net/dim_date/`"
   ]
  },
  {
   "cell_type": "code",
   "execution_count": 0,
   "metadata": {
    "application/vnd.databricks.v1+cell": {
     "cellMetadata": {
      "byteLimit": 2048000,
      "rowLimit": 10000
     },
     "inputWidgets": {},
     "nuid": "b1398be9-c82c-4ebc-ac7b-85c64ab0b13e",
     "showTitle": false,
     "tableResultSettingsMap": {},
     "title": ""
    }
   },
   "outputs": [
    {
     "data": {
      "text/html": [
       "<style scoped>\n",
       "  .table-result-container {\n",
       "    max-height: 300px;\n",
       "    overflow: auto;\n",
       "  }\n",
       "  table, th, td {\n",
       "    border: 1px solid black;\n",
       "    border-collapse: collapse;\n",
       "  }\n",
       "  th, td {\n",
       "    padding: 5px;\n",
       "  }\n",
       "  th {\n",
       "    text-align: left;\n",
       "  }\n",
       "</style><div class='table-result-container'><table class='table-result'><thead style='background-color: white'><tr><th>Branch_ID</th><th>BranchName</th></tr></thead><tbody><tr><td>BR0131</td><td>Audi Motors</td></tr><tr><td>BR0760</td><td>Healey Motors</td></tr><tr><td>BR0789</td><td>Hillman Motors</td></tr><tr><td>BR0938</td><td>Isotta Fraschini Motors</td></tr><tr><td>BR1040</td><td>Lada Motors</td></tr><tr><td>BR1693</td><td>Saleen Motors</td></tr><tr><td>BR1792</td><td>Simca do Brasil Motors</td></tr><tr><td>BR1799</td><td>Simca do Brasil Motors</td></tr><tr><td>BR1955</td><td>Toyota Motors</td></tr><tr><td>BR1978</td><td>Turner Motors</td></tr><tr><td>BR2068</td><td>Westfield Motors</td></tr><tr><td>BR2332</td><td>Bohn Motor Company Automobile Dealership</td></tr><tr><td>BR0151</td><td>Auto-Union Motors</td></tr><tr><td>BR0409</td><td>DAF Motors</td></tr><tr><td>BR0434</td><td>Datsun Motors</td></tr><tr><td>BR0599</td><td>Fisker, Karma Motors</td></tr><tr><td>BR0753</td><td>Healey Motors</td></tr><tr><td>BR1143</td><td>Mahindra Motors</td></tr><tr><td>BR12246</td><td>Volkswagen South Africa Motors</td></tr><tr><td>BR1233</td><td>McLaren Motors</td></tr><tr><td>BR1558</td><td>Plymouth Motors</td></tr><tr><td>BR1795</td><td>Simca do Brasil Motors</td></tr><tr><td>BR1847</td><td>SsangYong Motors</td></tr><tr><td>BR1943</td><td>Tornado Motors</td></tr><tr><td>BR2054</td><td>Volvo Motors</td></tr><tr><td>BR2063</td><td>Westfield Motors</td></tr><tr><td>BR0019</td><td>Acura Motors</td></tr><tr><td>BR0145</td><td>Autobianchi Motors</td></tr><tr><td>BR0913</td><td>Isdera Motors</td></tr><tr><td>BR1340</td><td>Monteverdi Motors</td></tr><tr><td>BR1630</td><td>Ranger Motors</td></tr><tr><td>BR1865</td><td>Studebaker Motors</td></tr><tr><td>BR2139</td><td>Horch Motors</td></tr><tr><td>BR0274</td><td>Buick Motors</td></tr><tr><td>BR0308</td><td>Caterham Motors</td></tr><tr><td>BR0399</td><td>Daewoo, Saehan, Chevrolet Korea Motors</td></tr><tr><td>BR0471</td><td>De Tomaso Motors</td></tr><tr><td>BR0731</td><td>GTA Spano Motors</td></tr><tr><td>BR0759</td><td>Healey Motors</td></tr><tr><td>BR1383</td><td>Nissan Motors</td></tr><tr><td>BR1664</td><td>Rolls-Royce Motors</td></tr><tr><td>BR1769</td><td>Seat Motors</td></tr><tr><td>BR2262</td><td>Ramani Motors</td></tr><tr><td>BR2352</td><td>Cadillac Automobile Company Building</td></tr><tr><td>BR0114</td><td>Asia Motors Motors</td></tr><tr><td>BR0462</td><td>DeSoto Motors</td></tr><tr><td>BR0699</td><td>Gilbern Motors</td></tr><tr><td>BR0793</td><td>Hindustan Motors</td></tr><tr><td>BR1479</td><td>Panhard Motors</td></tr><tr><td>BR2275</td><td>Deccan Motors</td></tr><tr><td>BR0138</td><td>Audi Motors</td></tr><tr><td>BR0202</td><td>Bond Motors</td></tr><tr><td>BR0700</td><td>Gilbern Motors</td></tr><tr><td>BR0988</td><td>Jensen Motors</td></tr><tr><td>BR9246</td><td>Piaggio Motors</td></tr><tr><td>BR0095</td><td>ARO Motors</td></tr><tr><td>BR0351</td><td>Chrysler Europe Motors</td></tr><tr><td>BR0368</td><td>Citroën Motors</td></tr><tr><td>BR0614</td><td>Ford Australia Motors</td></tr><tr><td>BR1248</td><td>Mercedes-Benz (including Maybach) Motors</td></tr><tr><td>BR1884</td><td>Sunbeam Motors</td></tr><tr><td>BR2035</td><td>Volkswagen do Brasil Motors</td></tr><tr><td>BR0070</td><td>AMC, Eagle Motors</td></tr><tr><td>BR0251</td><td>Austin, Rover Motors</td></tr><tr><td>BR0262</td><td>Bugatti Motors</td></tr><tr><td>BR1243</td><td>Mercedes-Benz (including Maybach) Motors</td></tr><tr><td>BR1289</td><td>Mia Motors</td></tr><tr><td>BR1405</td><td>Noble Motors</td></tr><tr><td>BR2033</td><td>Volkswagen do Brasil Motors</td></tr><tr><td>BR2329</td><td>Blankinship Motor Company Building</td></tr><tr><td>BR2385</td><td>Claremore Auto Dealership</td></tr><tr><td>BR0130</td><td>Aston Martin Motors</td></tr><tr><td>BR0891</td><td>Innocenti Motors</td></tr><tr><td>BR1177</td><td>Maruti Motors</td></tr><tr><td>BR1321</td><td>Monica Motors</td></tr><tr><td>BR13626</td><td>Deccan Motors</td></tr><tr><td>BR0064</td><td>AMC, Eagle Motors</td></tr><tr><td>BR0673</td><td>GAZ Motors</td></tr><tr><td>BR0685</td><td>Geo Motors</td></tr><tr><td>BR0718</td><td>Glas Motors</td></tr><tr><td>BR1298</td><td>Micro Motors</td></tr><tr><td>BR1300</td><td>Micro Motors</td></tr><tr><td>BR1347</td><td>Morgan Motors</td></tr><tr><td>BR1373</td><td>Naza Motors</td></tr><tr><td>BR2337</td><td>Bohn Motor Company Automobile Dealership</td></tr><tr><td>BR0231</td><td>British Leyland Motors</td></tr><tr><td>BR0895</td><td>Innocenti Motors</td></tr><tr><td>BR1228</td><td>Mazzanti Motors</td></tr><tr><td>BR1617</td><td>Puma Motors</td></tr><tr><td>BR1637</td><td>Reliant Motors</td></tr><tr><td>BR1680</td><td>Saab Motors</td></tr><tr><td>BR1821</td><td>Smart Motors</td></tr><tr><td>BR1940</td><td>Tesla Motors</td></tr><tr><td>BR2391</td><td>Clemens Automobile Company Building</td></tr><tr><td>BR2467</td><td>Kindel Building</td></tr><tr><td>BR3186</td><td>Elva Motors</td></tr><tr><td>BR5466</td><td>Isdera Motors</td></tr><tr><td>BR9126</td><td>Peugeot Motors</td></tr><tr><td>BR0104</td><td>Artega Motors</td></tr><tr><td>BR0354</td><td>Chrysler Europe Motors</td></tr><tr><td>BR0494</td><td>Donkervoort Motors</td></tr><tr><td>BR0528</td><td>Eicher Polaris Motors</td></tr><tr><td>BR1074</td><td>Lexus Motors</td></tr><tr><td>BR1503</td><td>Peel Motors</td></tr><tr><td>BR1718</td><td>San Motors</td></tr><tr><td>BR1864</td><td>Studebaker Motors</td></tr><tr><td>BR1993</td><td>UAZ Motors</td></tr><tr><td>BR2217</td><td>Riley  Motors</td></tr><tr><td>BR0682</td><td>Geo Motors</td></tr><tr><td>BR0905</td><td>Invicta Motors</td></tr><tr><td>BR10686</td><td>Simca Motors</td></tr><tr><td>BR1325</td><td>Monica Motors</td></tr><tr><td>BR1568</td><td>Polestar Motors</td></tr><tr><td>BR1822</td><td>Smart Motors</td></tr><tr><td>BR2154</td><td>Maybach  Motors</td></tr><tr><td>BR0011</td><td>Acura Motors</td></tr><tr><td>BR0115</td><td>Asia Motors Motors</td></tr><tr><td>BR0223</td><td>Bristol Motors</td></tr><tr><td>BR0490</td><td>Dodge Motors</td></tr><tr><td>BR0625</td><td>Ford do Brasil Motors</td></tr><tr><td>BR1111</td><td>LTI Motors</td></tr><tr><td>BR1829</td><td>Smart Motors</td></tr><tr><td>BR2277</td><td>Deccan Motors</td></tr><tr><td>BR2369</td><td>Casa de cadillac</td></tr><tr><td>BR6066</td><td>Koenigsegg Motors</td></tr><tr><td>BR0512</td><td>e.GO Mobile Motors</td></tr><tr><td>BR0584</td><td>Fiat India Motors</td></tr><tr><td>BR1691</td><td>Saleen Motors</td></tr><tr><td>BR1845</td><td>SsangYong Motors</td></tr><tr><td>BR1932</td><td>Tesla Motors</td></tr><tr><td>BR0360</td><td>Chrysler Europe Motors</td></tr><tr><td>BR0388</td><td>Dacia Motors</td></tr><tr><td>BR0486</td><td>Ariel Motors</td></tr><tr><td>BR0811</td><td>Honda Motors</td></tr><tr><td>BR1105</td><td>Lotus Motors</td></tr><tr><td>BR1762</td><td>Seat Motors</td></tr><tr><td>BR1768</td><td>Seat Motors</td></tr><tr><td>BR1960</td><td>Toyota Motors</td></tr><tr><td>BR2322</td><td>Blankinship Motor Company Building</td></tr><tr><td>BR2412</td><td>H Street Playhouse</td></tr><tr><td>BR2440</td><td>Hupmobile Building</td></tr><tr><td>BR0058</td><td>Alvis Motors</td></tr><tr><td>BR0447</td><td>Delahaye Motors</td></tr><tr><td>BR0479</td><td>De Tomaso Motors</td></tr><tr><td>BR0501</td><td>Edsel Motors</td></tr><tr><td>BR0919</td><td>Isdera Motors</td></tr><tr><td>BR1152</td><td>Marcos Motors</td></tr><tr><td>BR2289</td><td>Herald Motors</td></tr><tr><td>BR9426</td><td>Pontiac, Asüna Motors</td></tr><tr><td>BR0027</td><td>Aixam-Mega (including Arola) Motors</td></tr><tr><td>BR0411</td><td>Daihatsu Motors</td></tr><tr><td>BR1140</td><td>Lynx Motors</td></tr><tr><td>BR2087</td><td>Zastava Motors</td></tr><tr><td>BR2155</td><td>Maybach  Motors</td></tr><tr><td>BR2233</td><td>Standard  Motors</td></tr><tr><td>BR5406</td><td>Invicta Motors</td></tr><tr><td>BR0463</td><td>DeSoto Motors</td></tr><tr><td>BR0606</td><td>Artega Motors</td></tr><tr><td>BR0662</td><td>FSO Motors</td></tr><tr><td>BR1180</td><td>Maruti Motors</td></tr><tr><td>BR1380</td><td>Naza Motors</td></tr><tr><td>BR13986</td><td>Bohn Motor Company Automobile Dealership</td></tr><tr><td>BR1553</td><td>Plymouth Motors</td></tr><tr><td>BR1789</td><td>Simca Motors</td></tr><tr><td>BR1957</td><td>Toyota Motors</td></tr><tr><td>BR2025</td><td>Volkswagen Motors</td></tr><tr><td>BR2100</td><td>ZAZ Motors</td></tr><tr><td>BR2378</td><td>Cass Motor Sales</td></tr><tr><td>BR0089</td><td>Ariel Motors</td></tr><tr><td>BR0608</td><td>Ford America Motors</td></tr><tr><td>BR0941</td><td>Isuzu Motors</td></tr><tr><td>BR1273</td><td>Messerschmitt Motors</td></tr><tr><td>BR1860</td><td>Standard-Triumph Motors</td></tr><tr><td>BR1888</td><td>Sunbeam Motors</td></tr><tr><td>BR2142</td><td>Wanderer Motors</td></tr><tr><td>BR2319</td><td>2008 NRHP-listed</td></tr><tr><td>BR0264</td><td>Bugatti Motors</td></tr><tr><td>BR0498</td><td>Donkervoort Motors</td></tr><tr><td>BR0829</td><td>Honda India Motors</td></tr><tr><td>BR0890</td><td>Infiniti Motors</td></tr><tr><td>BR1044</td><td>Lamborghini Motors</td></tr><tr><td>BR13746</td><td>Zion Automobils</td></tr><tr><td>BR1398</td><td>Nissan India Motors</td></tr><tr><td>BR1877</td><td>Subaru Motors</td></tr><tr><td>BR1927</td><td>Tazzari Motors</td></tr><tr><td>BR2410</td><td>Colman Automotive Building</td></tr><tr><td>BR0534</td><td>Elva Motors</td></tr><tr><td>BR1442</td><td>Opel Motors</td></tr><tr><td>BR1722</td><td>Santa Matilde Motors</td></tr><tr><td>BR1990</td><td>TVR Motors</td></tr><tr><td>BR2070</td><td>Westfield Motors</td></tr><tr><td>BR2204</td><td>Austin  Motors</td></tr><tr><td>BR0204</td><td>Bond Motors</td></tr><tr><td>BR0717</td><td>Glas Motors</td></tr><tr><td>BR0947</td><td>Isuzu Motors</td></tr><tr><td>BR0983</td><td>Jensen Motors</td></tr><tr><td>BR1003</td><td>Kia Motors</td></tr><tr><td>BR11706</td><td>Toyota Motors</td></tr><tr><td>BR1232</td><td>McLaren Motors</td></tr><tr><td>BR1688</td><td>SAIC Motor Motors</td></tr><tr><td>BR1809</td><td>Singer Motors</td></tr><tr><td>BR1968</td><td>Toyota India Motors</td></tr><tr><td>BR2018</td><td>Venturi Motors</td></tr><tr><td>BR2022</td><td>Volkswagen Motors</td></tr><tr><td>BR2226</td><td>Cizeta-Moroder Motors</td></tr><tr><td>BR0235</td><td>British Leyland Motors</td></tr><tr><td>BR0634</td><td>Ford Europe Motors</td></tr><tr><td>BR0889</td><td>Infiniti Motors</td></tr><tr><td>BR1318</td><td>Mitsubishi Motors</td></tr><tr><td>BR1626</td><td>Buick Motors</td></tr><tr><td>BR2267</td><td>Ramani Motors</td></tr><tr><td>BR0591</td><td>Fisker, Karma Motors</td></tr><tr><td>BR0642</td><td>Ford India Motors</td></tr><tr><td>BR0930</td><td>Iso Motors</td></tr><tr><td>BR1027</td><td>KTM Motors</td></tr><tr><td>BR1065</td><td>Land Rover Motors</td></tr><tr><td>BR1382</td><td>Nissan Motors</td></tr><tr><td>BR1749</td><td>Saturn Motors</td></tr><tr><td>BR2433</td><td>Hupmobile Building</td></tr><tr><td>BR8406</td><td>Noble Motors</td></tr><tr><td>BR0040</td><td>Alfa Romeo Motors</td></tr><tr><td>BR0218</td><td>Borgward (including Goliath and Lloyd) Motors</td></tr><tr><td>BR0337</td><td>Chevrolet India Motors</td></tr><tr><td>BR1162</td><td>Marlin Motors</td></tr><tr><td>BR0082</td><td>Ariel Motors</td></tr><tr><td>BR0164</td><td>Auverland Motors</td></tr><tr><td>BR0598</td><td>Fisker, Karma Motors</td></tr><tr><td>BR0735</td><td>GTA Spano Motors</td></tr><tr><td>BR1063</td><td>Land Rover Motors</td></tr><tr><td>BR1579</td><td>Pontiac, Asüna Motors</td></tr><tr><td>BR2149</td><td>Wanderer Motors</td></tr><tr><td>BR2168</td><td>Izh  Motors</td></tr><tr><td>BR0279</td><td>Buick Motors</td></tr><tr><td>BR0884</td><td>Infiniti Motors</td></tr><tr><td>BR1048</td><td>Lamborghini Motors</td></tr><tr><td>BR1094</td><td>Lincoln Motors</td></tr><tr><td>BR1292</td><td>Micro Motors</td></tr><tr><td>BR1323</td><td>Monica Motors</td></tr><tr><td>BR1395</td><td>Nissan India Motors</td></tr><tr><td>BR1424</td><td>Oldsmobile Motors</td></tr><tr><td>BR1477</td><td>Panhard Motors</td></tr><tr><td>BR1670</td><td>Rolls-Royce Motors</td></tr><tr><td>BR1708</td><td>Samsung Motors</td></tr><tr><td>BR2039</td><td>Volkswagen do Brasil Motors</td></tr><tr><td>BR2404</td><td>Colman Automotive Building</td></tr><tr><td>BR0270</td><td>Bugatti Motors</td></tr><tr><td>BR0275</td><td>Buick Motors</td></tr><tr><td>BR0378</td><td>Cizeta-Moroder Motors</td></tr><tr><td>BR0405</td><td>DAF Motors</td></tr><tr><td>BR0592</td><td>Fisker, Karma Motors</td></tr><tr><td>BR0881</td><td>Infiniti Motors</td></tr><tr><td>BR0963</td><td>Jaguar Motors</td></tr><tr><td>BR1320</td><td>Mitsubishi Motors</td></tr><tr><td>BR1531</td><td>PGO Motors</td></tr><tr><td>BR1612</td><td>Puma Motors</td></tr><tr><td>BR1873</td><td>Subaru Motors</td></tr><tr><td>BR2077</td><td>Wiesmann Motors</td></tr><tr><td>BR2143</td><td>Wanderer Motors</td></tr><tr><td>BR2223</td><td>Wolseley  Motors</td></tr><tr><td>BR0509</td><td>Edsel Motors</td></tr><tr><td>BR1267</td><td>Merkur Motors</td></tr><tr><td>BR2225</td><td>Wolseley  Motors</td></tr><tr><td>BR0168</td><td>Auverland Motors</td></tr><tr><td>BR0318</td><td>Checker Motors</td></tr><tr><td>BR0362</td><td>Citroën Motors</td></tr><tr><td>BR0562</td><td>Fiat Motors</td></tr><tr><td>BR0738</td><td>GTA Spano Motors</td></tr><tr><td>BR0805</td><td>Holden Motors</td></tr><tr><td>BR0934</td><td>Isotta Fraschini Motors</td></tr><tr><td>BR1051</td><td>Lancia Motors</td></tr><tr><td>BR11466</td><td>Tatra Motors</td></tr><tr><td>BR1192</td><td>Mastretta Motors</td></tr><tr><td>BR1746</td><td>Cadillac Motors</td></tr><tr><td>BR1830</td><td>Smart Motors</td></tr><tr><td>BR2297</td><td>Zion Automobils</td></tr><tr><td>BR8046</td><td>Morgan Motors</td></tr><tr><td>BR0037</td><td>Alfa Romeo Motors</td></tr><tr><td>BR0268</td><td>Bugatti Motors</td></tr><tr><td>BR0367</td><td>Citroën Motors</td></tr><tr><td>BR1212</td><td>Mazda Motors</td></tr><tr><td>BR13806</td><td>Atlantic Motor Company</td></tr><tr><td>BR1491</td><td>Panther Motors</td></tr><tr><td>BR1750</td><td>Saturn Motors</td></tr><tr><td>BR1820</td><td>Skoda Motors</td></tr><tr><td>BR2037</td><td>Volkswagen do Brasil Motors</td></tr><tr><td>BR2248</td><td>Talbot  Motors</td></tr><tr><td>BR2280</td><td>Deccan Motors</td></tr><tr><td>BR7926</td><td>Monica Motors</td></tr><tr><td>BR1149</td><td>Mahindra Motors</td></tr><tr><td>BR1449</td><td>Opel Motors</td></tr><tr><td>BR6786</td><td>Lynx Motors</td></tr><tr><td>BR0059</td><td>Alvis Motors</td></tr><tr><td>BR0497</td><td>Donkervoort Motors</td></tr><tr><td>BR0561</td><td>Fiat Motors</td></tr><tr><td>BR0933</td><td>Isotta Fraschini Motors</td></tr><tr><td>BR1164</td><td>Marlin Motors</td></tr><tr><td>BR11946</td><td>UAZ Motors</td></tr><tr><td>BR1399</td><td>Nissan India Motors</td></tr><tr><td>BR1414</td><td>NSU Motors</td></tr><tr><td>BR1935</td><td>Tesla Motors</td></tr><tr><td>BR2210</td><td>Austin  Motors</td></tr><tr><td>BR3306</td><td>Ferrari Motors</td></tr><tr><td>BR3546</td><td>Fisker, Karma Motors</td></tr><tr><td>BR0075</td><td>Anadol Motors</td></tr><tr><td>BR0135</td><td>Audi Motors</td></tr><tr><td>BR0163</td><td>Auverland Motors</td></tr><tr><td>BR0491</td><td>Donkervoort Motors</td></tr><tr><td>BR0647</td><td>Ford India Motors</td></tr><tr><td>BR0765</td><td>Heinkel Motors</td></tr><tr><td>BR10206</td><td>Samsung Motors</td></tr><tr><td>BR1353</td><td>Moskwitch Motors</td></tr><tr><td>BR1561</td><td>Polestar Motors</td></tr><tr><td>BR1828</td><td>Smart Motors</td></tr><tr><td>BR2062</td><td>Westfield Motors</td></tr><tr><td>BR2084</td><td>Zastava Motors</td></tr><tr><td>BR2383</td><td>Claremore Auto Dealership</td></tr><tr><td>BR0451</td><td>DeLorean Motors</td></tr><tr><td>BR0701</td><td>Ginetta Motors</td></tr><tr><td>BR0786</td><td>Audi Motors</td></tr><tr><td>BR1293</td><td>Micro Motors</td></tr><tr><td>BR2191</td><td>Morris  Motors</td></tr><tr><td>BR4146</td><td>Gilbern Motors</td></tr><tr><td>BR0285</td><td>Bytom Motors</td></tr><tr><td>BR0525</td><td>Eicher Polaris Motors</td></tr><tr><td>BR0714</td><td>Glas Motors</td></tr><tr><td>BR1452</td><td>Packard Motors</td></tr><tr><td>BR1660</td><td>Rivian Motors</td></tr><tr><td>BR2244</td><td>Talbot  Motors</td></tr><tr><td>BR5646</td><td>Isuzu Motors</td></tr><tr><td>BR0575</td><td>Fiat do Brasil Motors</td></tr><tr><td>BR0803</td><td>Holden Motors</td></tr><tr><td>BR1195</td><td>Mastretta Motors</td></tr><tr><td>BR1279</td><td>Messerschmitt Motors</td></tr><tr><td>BR1844</td><td>SsangYong Motors</td></tr><tr><td>BR2221</td><td>Wolseley  Motors</td></tr><tr><td>BR0553</td><td>Ferrari Motors</td></tr><tr><td>BR0579</td><td>Fiat do Brasil Motors</td></tr><tr><td>BR0841</td><td>Humber Motors</td></tr><tr><td>BR1045</td><td>Lamborghini Motors</td></tr><tr><td>BR1112</td><td>LTI Motors</td></tr><tr><td>BR12186</td><td>Volkswagen do Brasil Motors</td></tr><tr><td>BR12366</td><td>Westfield Motors</td></tr><tr><td>BR1460</td><td>Packard Motors</td></tr><tr><td>BR1597</td><td>Premier Motors</td></tr><tr><td>BR2192</td><td>Morris  Motors</td></tr><tr><td>BR0158</td><td>Auto-Union Motors</td></tr><tr><td>BR0243</td><td>Austin-Healey Motors</td></tr><tr><td>BR0298</td><td>Cadillac Motors</td></tr><tr><td>BR0771</td><td>Hennessey Motors</td></tr><tr><td>BR0857</td><td>Hummer Motors</td></tr><tr><td>BR1155</td><td>Marcos Motors</td></tr><tr><td>BR12786</td><td>Horch Motors</td></tr><tr><td>BR12966</td><td>Izh  Motors</td></tr><tr><td>BR2185</td><td>MG  Motors</td></tr><tr><td>BR7446</td><td>Mercedes-Benz (including Maybach) Motors</td></tr><tr><td>BR0172</td><td>Bentley Motors</td></tr><tr><td>BR0392</td><td>Daewoo, Saehan, Chevrolet Korea Motors</td></tr><tr><td>BR0943</td><td>Isuzu Motors</td></tr><tr><td>BR1047</td><td>Lamborghini Motors</td></tr><tr><td>BR14706</td><td>Jones Motor Company</td></tr><tr><td>BR1598</td><td>Premier Motors</td></tr><tr><td>BR1755</td><td>Scion Motors</td></tr><tr><td>BR2005</td><td>Vauxhall Motors</td></tr><tr><td>BR2188</td><td>MG  Motors</td></tr><tr><td>BR0017</td><td>Acura Motors</td></tr><tr><td>BR0651</td><td>Freightliner Motors</td></tr><tr><td>BR0900</td><td>Innocenti Motors</td></tr><tr><td>BR1288</td><td>Mia Motors</td></tr><tr><td>BR1330</td><td>Monica Motors</td></tr><tr><td>BR1390</td><td>Nissan Motors</td></tr><tr><td>BR1862</td><td>Studebaker Motors</td></tr><tr><td>BR1871</td><td>Subaru Motors</td></tr><tr><td>BR1939</td><td>Tesla Motors</td></tr><tr><td>BR1951</td><td>Toyota Motors</td></tr><tr><td>BR2083</td><td>Zastava Motors</td></tr><tr><td>BR2415</td><td>H Street Playhouse</td></tr><tr><td>BR4086</td><td>Geo Motors</td></tr><tr><td>BR0708</td><td>Ginetta Motors</td></tr><tr><td>BR0801</td><td>Holden Motors</td></tr><tr><td>BR1220</td><td>Mazda Motors</td></tr><tr><td>BR1369</td><td>Nash Motors</td></tr><tr><td>BR1384</td><td>Nissan Motors</td></tr><tr><td>BR1464</td><td>Pagani Motors</td></tr><tr><td>BR1778</td><td>Shelby SuperCars Motors</td></tr><tr><td>BR2097</td><td>ZAZ Motors</td></tr><tr><td>BR1438</td><td>Oltcit Motors</td></tr><tr><td>BR1461</td><td>Pagani Motors</td></tr><tr><td>BR1771</td><td>Shelby SuperCars Motors</td></tr><tr><td>BR2445</td><td>Jennings Ford Automobile Dealership</td></tr><tr><td>BR2449</td><td>Jennings Ford Automobile Dealership</td></tr><tr><td>BR2706</td><td>DeLorean Motors</td></tr><tr><td>BR0347</td><td>Chrysler Motors</td></tr><tr><td>BR0353</td><td>Chrysler Europe Motors</td></tr><tr><td>BR0604</td><td>Ford America Motors</td></tr><tr><td>BR0770</td><td>Heinkel Motors</td></tr><tr><td>BR1632</td><td>Reliant Motors</td></tr><tr><td>BR2420</td><td>H Street Playhouse</td></tr><tr><td>BR4986</td><td>Hudson Motors</td></tr><tr><td>BR0980</td><td>Jeep Motors</td></tr><tr><td>BR1861</td><td>Studebaker Motors</td></tr><tr><td>BR1991</td><td>UAZ Motors</td></tr><tr><td>BR2308</td><td>Atlantic Motor Company</td></tr><tr><td>BR2452</td><td>Jones Motor Company</td></tr><tr><td>BR6486</td><td>Ligier Motors</td></tr><tr><td>BR0225</td><td>Bristol Motors</td></tr><tr><td>BR0269</td><td>Bugatti Motors</td></tr><tr><td>BR0300</td><td>Cadillac Motors</td></tr><tr><td>BR0415</td><td>Daihatsu Motors</td></tr><tr><td>BR0732</td><td>GTA Spano Motors</td></tr><tr><td>BR0927</td><td>Iso Motors</td></tr><tr><td>BR1608</td><td>Proton Motors</td></tr><tr><td>BR1913</td><td>Tatra Motors</td></tr><tr><td>BR1917</td><td>Tatra Motors</td></tr><tr><td>BR2047</td><td>Volkswagen South Africa Motors</td></tr><tr><td>BR2179</td><td>Lagonda  Motors</td></tr><tr><td>BR2237</td><td>Standard  Motors</td></tr><tr><td>BR2946</td><td>Donkervoort Motors</td></tr><tr><td>BR0001</td><td>AC Cars Motors</td></tr><tr><td>BR0018</td><td>Acura Motors</td></tr><tr><td>BR0304</td><td>Caterham Motors</td></tr><tr><td>BR0407</td><td>DAF Motors</td></tr><tr><td>BR0960</td><td>Iveco Motors</td></tr><tr><td>BR0989</td><td>Jensen Motors</td></tr><tr><td>BR10326</td><td>Santa Matilde Motors</td></tr><tr><td>BR1418</td><td>NSU Motors</td></tr><tr><td>BR1600</td><td>Premier Motors</td></tr><tr><td>BR1757</td><td>Scion Motors</td></tr><tr><td>BR1931</td><td>Tesla Motors</td></tr><tr><td>BR2072</td><td>Wiesmann Motors</td></tr><tr><td>BR2117</td><td>Audi Motors</td></tr><tr><td>BR7746</td><td>Micro Motors</td></tr><tr><td>BR0013</td><td>Acura Motors</td></tr><tr><td>BR0182</td><td>Bitter Motors</td></tr><tr><td>BR0219</td><td>Borgward (including Goliath and Lloyd) Motors</td></tr><tr><td>BR0252</td><td>Austin, Rover Motors</td></tr><tr><td>BR0363</td><td>Citroën Motors</td></tr><tr><td>BR0792</td><td>Hindustan Motors</td></tr><tr><td>BR0877</td><td>IFA (including Trabant, Wartburg, Barkas) Motors</td></tr><tr><td>BR0888</td><td>Infiniti Motors</td></tr><tr><td>BR0972</td><td>Jeep Motors</td></tr><tr><td>BR12006</td><td>Vauxhall Motors</td></tr><tr><td>BR1547</td><td>Piaggio Motors</td></tr><tr><td>BR2061</td><td>Westfield Motors</td></tr><tr><td>BR2158</td><td>Maybach  Motors</td></tr><tr><td>BR2252</td><td>Das Motors</td></tr><tr><td>BR2377</td><td>Cass Motor Sales</td></tr><tr><td>BR0505</td><td>Edsel Motors</td></tr><tr><td>BR10986</td><td>Spyker Motors</td></tr><tr><td>BR1351</td><td>Moskwitch Motors</td></tr><tr><td>BR1549</td><td>Piaggio Motors</td></tr><tr><td>BR1604</td><td>Proton Motors</td></tr><tr><td>BR1677</td><td>Saab Motors</td></tr><tr><td>BR1840</td><td>Spyker Motors</td></tr><tr><td>BR1863</td><td>Studebaker Motors</td></tr><tr><td>BR1919</td><td>Tatra Motors</td></tr><tr><td>BR2147</td><td>Wanderer Motors</td></tr><tr><td>BR2160</td><td>Maybach  Motors</td></tr><tr><td>BR2293</td><td>Zion Automobils</td></tr><tr><td>BR2406</td><td>DAF Motors</td></tr><tr><td>BR8106</td><td>Moskwitch Motors</td></tr><tr><td>BR0531</td><td>Elva Motors</td></tr><tr><td>BR0691</td><td>Gilbern Motors</td></tr><tr><td>BR0828</td><td>Honda India Motors</td></tr><tr><td>BR10566</td><td>Seat Motors</td></tr><tr><td>BR1067</td><td>Land Rover Motors</td></tr><tr><td>BR1812</td><td>Skoda Motors</td></tr><tr><td>BR1910</td><td>Tata Motors</td></tr><tr><td>BR2291</td><td>Zion Automobils</td></tr><tr><td>BR7866</td><td>Mitsubishi Motors</td></tr><tr><td>BR1270</td><td>Merkur Motors</td></tr><tr><td>BR13926</td><td>Blankinship Motor Company Building</td></tr><tr><td>BR1984</td><td>TVR Motors</td></tr><tr><td>BR2050</td><td>Volkswagen South Africa Motors</td></tr><tr><td>BR2213</td><td>Riley  Motors</td></tr><tr><td>BR2360</td><td>Cadillac Automobile Company Building</td></tr><tr><td>BR2646</td><td>Delahaye Motors</td></tr><tr><td>BR5046</td><td>Humber Motors</td></tr><tr><td>BR0065</td><td>AMC, Eagle Motors</td></tr><tr><td>BR0313</td><td>Checker Motors</td></tr><tr><td>BR0393</td><td>Daewoo, Saehan, Chevrolet Korea Motors</td></tr><tr><td>BR0802</td><td>Holden Motors</td></tr><tr><td>BR1413</td><td>NSU Motors</td></tr><tr><td>BR1681</td><td>SAIC Motor Motors</td></tr><tr><td>BR1735</td><td>Santana Motors</td></tr><tr><td>BR1752</td><td>Scion Motors</td></tr><tr><td>BR2064</td><td>Westfield Motors</td></tr><tr><td>BR2125</td><td>DKW Motors</td></tr><tr><td>BR0189</td><td>Bitter Motors</td></tr><tr><td>BR0513</td><td>e.GO Mobile Motors</td></tr><tr><td>BR0544</td><td>Facel Vega Motors</td></tr><tr><td>BR0775</td><td>Hennessey Motors</td></tr><tr><td>BR1445</td><td>Opel Motors</td></tr><tr><td>BR1654</td><td>Rivian Motors</td></tr><tr><td>BR1743</td><td>Saturn Motors</td></tr><tr><td>BR2046</td><td>Chrysler Motors</td></tr><tr><td>BR2138</td><td>Horch Motors</td></tr><tr><td>BR0006</td><td>AC Cars Motors</td></tr><tr><td>BR0139</td><td>Audi Motors</td></tr><tr><td>BR0649</td><td>Ford India Motors</td></tr><tr><td>BR1050</td><td>Lamborghini Motors</td></tr><tr><td>BR1071</td><td>Lexus Motors</td></tr><tr><td>BR12486</td><td>Zastava Motors</td></tr><tr><td>BR1307</td><td>Mini Motors</td></tr><tr><td>BR1661</td><td>Rolls-Royce Motors</td></tr><tr><td>BR1832</td><td>Spyker Motors</td></tr><tr><td>BR1934</td><td>Tesla Motors</td></tr><tr><td>BR2065</td><td>Westfield Motors</td></tr><tr><td>BR2129</td><td>DKW Motors</td></tr><tr><td>BR2441</td><td>Jennings Ford Automobile Dealership</td></tr><tr><td>BR0153</td><td>Auto-Union Motors</td></tr><tr><td>BR0968</td><td>Jaguar Motors</td></tr><tr><td>BR11586</td><td>Tesla Motors</td></tr><tr><td>BR1255</td><td>Mercury Motors</td></tr><tr><td>BR1402</td><td>Noble Motors</td></tr><tr><td>BR1965</td><td>Toyota India Motors</td></tr><tr><td>BR1969</td><td>Toyota India Motors</td></tr><tr><td>BR2085</td><td>Zastava Motors</td></tr><tr><td>BR2288</td><td>Herald Motors</td></tr><tr><td>BR5706</td><td>Iveco Motors</td></tr><tr><td>BR0461</td><td>DeSoto Motors</td></tr><tr><td>BR0568</td><td>Fiat Motors</td></tr><tr><td>BR0666</td><td>Asia Motors Motors</td></tr><tr><td>BR0773</td><td>Hennessey Motors</td></tr><tr><td>BR0852</td><td>Hummer Motors</td></tr><tr><td>BR1322</td><td>Monica Motors</td></tr><tr><td>BR0032</td><td>Alfa Romeo Motors</td></tr><tr><td>BR0212</td><td>Borgward (including Goliath and Lloyd) Motors</td></tr><tr><td>BR0728</td><td>GMC Motors</td></tr><tr><td>BR0861</td><td>Hyundai Motors</td></tr><tr><td>BR0868</td><td>Hyundai Motors</td></tr><tr><td>BR0966</td><td>Auverland Motors</td></tr><tr><td>BR1182</td><td>Maserati Motors</td></tr><tr><td>BR0762</td><td>Heinkel Motors</td></tr><tr><td>BR13506</td><td>Das Motors</td></tr><tr><td>BR14586</td><td>Hupmobile Building</td></tr><tr><td>BR1628</td><td>Ranger Motors</td></tr><tr><td>BR1658</td><td>Rivian Motors</td></tr><tr><td>BR1711</td><td>San Motors</td></tr><tr><td>BR1763</td><td>Seat Motors</td></tr><tr><td>BR1989</td><td>TVR Motors</td></tr><tr><td>BR2468</td><td>Kindel Building</td></tr><tr><td>BR0031</td><td>Alfa Romeo Motors</td></tr><tr><td>BR0121</td><td>Aston Martin Motors</td></tr><tr><td>BR0171</td><td>Bentley Motors</td></tr><tr><td>BR0500</td><td>Donkervoort Motors</td></tr><tr><td>BR0638</td><td>Ford Europe Motors</td></tr><tr><td>BR0650</td><td>Ford India Motors</td></tr><tr><td>BR1017</td><td>Koenigsegg Motors</td></tr><tr><td>BR10746</td><td>Simca do Brasil Motors</td></tr><tr><td>BR1263</td><td>Merkur Motors</td></tr><tr><td>BR1403</td><td>Noble Motors</td></tr><tr><td>BR1947</td><td>Tornado Motors</td></tr><tr><td>BR2447</td><td>Jennings Ford Automobile Dealership</td></tr><tr><td>BR3246</td><td>Facel Vega Motors</td></tr><tr><td>BR0169</td><td>Auverland Motors</td></tr><tr><td>BR0517</td><td>e.GO Mobile Motors</td></tr><tr><td>BR0911</td><td>Isdera Motors</td></tr><tr><td>BR1197</td><td>Mastretta Motors</td></tr><tr><td>BR1525</td><td>Peugeot Motors</td></tr><tr><td>BR1529</td><td>Peugeot Motors</td></tr><tr><td>BR1564</td><td>Polestar Motors</td></tr><tr><td>BR1577</td><td>Pontiac, Asüna Motors</td></tr><tr><td>BR1592</td><td>Premier Motors</td></tr><tr><td>BR1855</td><td>Standard-Triumph Motors</td></tr><tr><td>BR2150</td><td>Wanderer Motors</td></tr><tr><td>BR0315</td><td>Checker Motors</td></tr><tr><td>BR0408</td><td>DAF Motors</td></tr><tr><td>BR0502</td><td>Edsel Motors</td></tr><tr><td>BR0504</td><td>Edsel Motors</td></tr><tr><td>BR0572</td><td>Fiat do Brasil Motors</td></tr><tr><td>BR0617</td><td>Ford Australia Motors</td></tr><tr><td>BR0794</td><td>Hindustan Motors</td></tr><tr><td>BR0849</td><td>Humber Motors</td></tr><tr><td>BR0958</td><td>Iveco Motors</td></tr><tr><td>BR0995</td><td>JPX Motors</td></tr><tr><td>BR13026</td><td>Lagonda  Motors</td></tr><tr><td>BR1574</td><td>Pontiac, Asüna Motors</td></tr><tr><td>BR1594</td><td>Premier Motors</td></tr><tr><td>BR1731</td><td>Santana Motors</td></tr><tr><td>BR1944</td><td>Tornado Motors</td></tr><tr><td>BR2115</td><td>Audi Motors</td></tr><tr><td>BR0125</td><td>Aston Martin Motors</td></tr><tr><td>BR0297</td><td>Cadillac Motors</td></tr><tr><td>BR0372</td><td>Cizeta-Moroder Motors</td></tr><tr><td>BR0798</td><td>Hindustan Motors</td></tr><tr><td>BR0939</td><td>Isotta Fraschini Motors</td></tr><tr><td>BR1302</td><td>Mini Motors</td></tr><tr><td>BR1377</td><td>Naza Motors</td></tr><tr><td>BR14226</td><td>Cass Motor Sales</td></tr><tr><td>BR14526</td><td>Howard Motor Company Building</td></tr><tr><td>BR1463</td><td>Pagani Motors</td></tr><tr><td>BR1473</td><td>Panhard Motors</td></tr><tr><td>BR1952</td><td>Toyota Motors</td></tr><tr><td>BR2021</td><td>Volkswagen Motors</td></tr><tr><td>BR5886</td><td>Jensen Motors</td></tr><tr><td>BR0053</td><td>Alvis Motors</td></tr><tr><td>BR0054</td><td>Alvis Motors</td></tr><tr><td>BR0514</td><td>e.GO Mobile Motors</td></tr><tr><td>BR0744</td><td>Gumpert Motors</td></tr><tr><td>BR1012</td><td>Koenigsegg Motors</td></tr><tr><td>BR1159</td><td>Marcos Motors</td></tr><tr><td>BR1444</td><td>Opel Motors</td></tr><tr><td>BR1721</td><td>Santa Matilde Motors</td></tr><tr><td>BR1753</td><td>Scion Motors</td></tr><tr><td>BR2090</td><td>Zastava Motors</td></tr><tr><td>BR2399</td><td>Clemens Automobile Company Building</td></tr><tr><td>BR0140</td><td>Audi Motors</td></tr><tr><td>BR0690</td><td>Geo Motors</td></tr><tr><td>BR0922</td><td>Iso Motors</td></tr><tr><td>BR1349</td><td>Morgan Motors</td></tr><tr><td>BR1737</td><td>Santana Motors</td></tr><tr><td>BR1949</td><td>Tornado Motors</td></tr><tr><td>BR4806</td><td>Holden Motors</td></tr><tr><td>BR5826</td><td>Jeep Motors</td></tr><tr><td>BR8646</td><td>Opel Motors</td></tr><tr><td>BR0352</td><td>Chrysler Europe Motors</td></tr><tr><td>BR0458</td><td>DeLorean Motors</td></tr><tr><td>BR0784</td><td>Hillman Motors</td></tr><tr><td>BR1230</td><td>Mazzanti Motors</td></tr><tr><td>BR1425</td><td>Oldsmobile Motors</td></tr><tr><td>BR1967</td><td>Toyota India Motors</td></tr><tr><td>BR2091</td><td>ZAZ Motors</td></tr><tr><td>BR2429</td><td>Howard Motor Company Building</td></tr><tr><td>BR5346</td><td>Innocenti Motors</td></tr><tr><td>BR0144</td><td>Autobianchi Motors</td></tr><tr><td>BR1098</td><td>Lincoln Motors</td></tr><tr><td>BR1239</td><td>McLaren Motors</td></tr><tr><td>BR1747</td><td>Saturn Motors</td></tr><tr><td>BR1849</td><td>SsangYong Motors</td></tr><tr><td>BR2464</td><td>Kindel Building</td></tr><tr><td>BR9186</td><td>PGO Motors</td></tr><tr><td>BR0068</td><td>AMC, Eagle Motors</td></tr><tr><td>BR0291</td><td>Cadillac Motors</td></tr><tr><td>BR0452</td><td>DeLorean Motors</td></tr><tr><td>BR0672</td><td>GAZ Motors</td></tr><tr><td>BR0688</td><td>Geo Motors</td></tr><tr><td>BR0778</td><td>Hennessey Motors</td></tr><tr><td>BR10506</td><td>Scion Motors</td></tr><tr><td>BR1208</td><td>Matra (including Deutsch-Bonnet, René Bonnet) Motors</td></tr><tr><td>BR1290</td><td>Mia Motors</td></tr><tr><td>BR1343</td><td>Morgan Motors</td></tr><tr><td>BR1541</td><td>Piaggio Motors</td></tr><tr><td>BR1915</td><td>Tatra Motors</td></tr><tr><td>BR2048</td><td>Volkswagen South Africa Motors</td></tr><tr><td>BR2455</td><td>Jones Motor Company</td></tr><tr><td>BR2470</td><td>Kindel Building</td></tr><tr><td>BR0092</td><td>ARO Motors</td></tr><tr><td>BR0111</td><td>Asia Motors Motors</td></tr><tr><td>BR0383</td><td>Dacia Motors</td></tr><tr><td>BR0423</td><td>Daimler Motors</td></tr><tr><td>BR0713</td><td>Glas Motors</td></tr><tr><td>BR0817</td><td>Honda Motors</td></tr><tr><td>BR0928</td><td>Iso Motors</td></tr><tr><td>BR0993</td><td>JPX Motors</td></tr><tr><td>BR1061</td><td>Land Rover Motors</td></tr><tr><td>BR1301</td><td>Mini Motors</td></tr><tr><td>BR1605</td><td>Proton Motors</td></tr><tr><td>BR2075</td><td>Wiesmann Motors</td></tr><tr><td>BR2161</td><td>Izh  Motors</td></tr><tr><td>BR2178</td><td>Lagonda  Motors</td></tr><tr><td>BR0014</td><td>Acura Motors</td></tr><tr><td>BR0232</td><td>British Leyland Motors</td></tr><tr><td>BR0271</td><td>Buick Motors</td></tr><tr><td>BR0559</td><td>Ferrari Motors</td></tr><tr><td>BR0707</td><td>Ginetta Motors</td></tr><tr><td>BR0722</td><td>GMC Motors</td></tr><tr><td>BR0918</td><td>Isdera Motors</td></tr><tr><td>BR1163</td><td>Marlin Motors</td></tr><tr><td>BR1615</td><td>Puma Motors</td></tr><tr><td>BR2123</td><td>DKW Motors</td></tr><tr><td>BR2437</td><td>Hupmobile Building</td></tr><tr><td>BR2443</td><td>Jennings Ford Automobile Dealership</td></tr><tr><td>BR0101</td><td>Artega Motors</td></tr><tr><td>BR0112</td><td>Asia Motors Motors</td></tr><tr><td>BR0222</td><td>Bristol Motors</td></tr><tr><td>BR0230</td><td>Bristol Motors</td></tr><tr><td>BR1015</td><td>Koenigsegg Motors</td></tr><tr><td>BR1141</td><td>Mahindra Motors</td></tr><tr><td>BR1358</td><td>Moskwitch Motors</td></tr><tr><td>BR1922</td><td>Tazzari Motors</td></tr><tr><td>BR2402</td><td>Colman Automotive Building</td></tr><tr><td>BR0552</td><td>Ferrari Motors</td></tr><tr><td>BR0658</td><td>Freightliner Motors</td></tr><tr><td>BR0859</td><td>Hummer Motors</td></tr><tr><td>BR1310</td><td>Mini Motors</td></tr><tr><td>BR1391</td><td>Nissan India Motors</td></tr><tr><td>BR1714</td><td>San Motors</td></tr><tr><td>BR1945</td><td>Tornado Motors</td></tr><tr><td>BR2263</td><td>Ramani Motors</td></tr><tr><td>BR0069</td><td>AMC, Eagle Motors</td></tr><tr><td>BR0198</td><td>BMW Motors</td></tr><tr><td>BR0621</td><td>Ford do Brasil Motors</td></tr><tr><td>BR0997</td><td>JPX Motors</td></tr><tr><td>BR1215</td><td>Mazda Motors</td></tr><tr><td>BR1407</td><td>Noble Motors</td></tr><tr><td>BR2024</td><td>Volkswagen Motors</td></tr><tr><td>BR0863</td><td>Hyundai Motors</td></tr><tr><td>BR0967</td><td>Jaguar Motors</td></tr><tr><td>BR1412</td><td>NSU Motors</td></tr><tr><td>BR1435</td><td>Oltcit Motors</td></tr><tr><td>BR1710</td><td>Samsung Motors</td></tr><tr><td>BR1929</td><td>Tazzari Motors</td></tr><tr><td>BR2134</td><td>Horch Motors</td></tr><tr><td>BR2230</td><td>Wolseley  Motors</td></tr><tr><td>BR2295</td><td>Zion Automobils</td></tr><tr><td>BR4446</td><td>Gumpert Motors</td></tr><tr><td>BR0519</td><td>e.GO Mobile Motors</td></tr><tr><td>BR0660</td><td>Freightliner Motors</td></tr><tr><td>BR11106</td><td>Standard-Triumph Motors</td></tr><tr><td>BR1404</td><td>Noble Motors</td></tr><tr><td>BR1869</td><td>Studebaker Motors</td></tr><tr><td>BR1880</td><td>Subaru Motors</td></tr><tr><td>BR2071</td><td>Wiesmann Motors</td></tr><tr><td>BR2232</td><td>Standard  Motors</td></tr><tr><td>BR2427</td><td>Howard Motor Company Building</td></tr><tr><td>BR4746</td><td>Hindustan Motors</td></tr><tr><td>BR0044</td><td>Alpine Motors</td></tr><tr><td>BR0539</td><td>Elva Motors</td></tr><tr><td>BR1093</td><td>Lincoln Motors</td></tr><tr><td>BR1241</td><td>Mercedes-Benz (including Maybach) Motors</td></tr><tr><td>BR1408</td><td>Noble Motors</td></tr><tr><td>BR14766</td><td>Kindel Building</td></tr><tr><td>BR1689</td><td>SAIC Motor Motors</td></tr><tr><td>BR1700</td><td>Saleen Motors</td></tr><tr><td>BR2372</td><td>Cass Motor Sales</td></tr><tr><td>BR0129</td><td>Aston Martin Motors</td></tr><tr><td>BR0211</td><td>Borgward (including Goliath and Lloyd) Motors</td></tr><tr><td>BR0321</td><td>Chevrolet Motors</td></tr><tr><td>BR0433</td><td>Datsun Motors</td></tr><tr><td>BR0607</td><td>Ford America Motors</td></tr><tr><td>BR0764</td><td>Heinkel Motors</td></tr><tr><td>BR0984</td><td>Jensen Motors</td></tr><tr><td>BR2159</td><td>Maybach  Motors</td></tr><tr><td>BR0009</td><td>AC Cars Motors</td></tr><tr><td>BR0783</td><td>Hillman Motors</td></tr><tr><td>BR0878</td><td>IFA (including Trabant, Wartburg, Barkas) Motors</td></tr><tr><td>BR1483</td><td>Panoz Motors</td></tr><tr><td>BR2171</td><td>Lagonda  Motors</td></tr><tr><td>BR2323</td><td>Blankinship Motor Company Building</td></tr><tr><td>BR2362</td><td>Casa de cadillac</td></tr><tr><td>BR0254</td><td>Austin, Rover Motors</td></tr><tr><td>BR0823</td><td>Honda India Motors</td></tr><tr><td>BR14166</td><td>Casa de cadillac</td></tr><tr><td>BR1540</td><td>PGO Motors</td></tr><tr><td>BR1613</td><td>Puma Motors</td></tr><tr><td>BR1892</td><td>Suzuki Motors</td></tr><tr><td>BR1948</td><td>Tornado Motors</td></tr><tr><td>BR1959</td><td>Toyota Motors</td></tr><tr><td>BR2106</td><td>Chrysler Europe Motors</td></tr><tr><td>BR7386</td><td>McLaren Motors</td></tr><tr><td>BR0021</td><td>Aixam-Mega (including Arola) Motors</td></tr><tr><td>BR0385</td><td>Dacia Motors</td></tr><tr><td>BR1083</td><td>Ligier Motors</td></tr><tr><td>BR1179</td><td>Maruti Motors</td></tr><tr><td>BR1240</td><td>McLaren Motors</td></tr><tr><td>BR14406</td><td>Colman Automotive Building</td></tr><tr><td>BR2017</td><td>Venturi Motors</td></tr><tr><td>BR2428</td><td>Howard Motor Company Building</td></tr><tr><td>BR0195</td><td>BMW Motors</td></tr><tr><td>BR0247</td><td>Austin-Healey Motors</td></tr><tr><td>BR0709</td><td>Ginetta Motors</td></tr><tr><td>BR0710</td><td>Ginetta Motors</td></tr><tr><td>BR1671</td><td>Saab Motors</td></tr><tr><td>BR2407</td><td>Colman Automotive Building</td></tr><tr><td>BR0328</td><td>Chevrolet Motors</td></tr><tr><td>BR0350</td><td>Chrysler Motors</td></tr><tr><td>BR0395</td><td>Daewoo, Saehan, Chevrolet Korea Motors</td></tr><tr><td>BR0581</td><td>Fiat India Motors</td></tr><tr><td>BR0627</td><td>Ford do Brasil Motors</td></tr><tr><td>BR0755</td><td>Healey Motors</td></tr><tr><td>BR1117</td><td>LTI Motors</td></tr><tr><td>BR1305</td><td>Mini Motors</td></tr><tr><td>BR1332</td><td>Monteverdi Motors</td></tr><tr><td>BR1378</td><td>Naza Motors</td></tr><tr><td>BR2285</td><td>Herald Motors</td></tr><tr><td>BR2353</td><td>Cadillac Automobile Company Building</td></tr><tr><td>BR7686</td><td>Mia Motors</td></tr><tr><td>BR0048</td><td>Alpine Motors</td></tr><tr><td>BR0293</td><td>Cadillac Motors</td></tr><tr><td>BR0301</td><td>Caterham Motors</td></tr><tr><td>BR0429</td><td>Daimler Motors</td></tr><tr><td>BR0585</td><td>Fiat India Motors</td></tr><tr><td>BR0720</td><td>Glas Motors</td></tr><tr><td>BR0787</td><td>Hillman Motors</td></tr><tr><td>BR0871</td><td>IFA (including Trabant, Wartburg, Barkas) Motors</td></tr><tr><td>BR1025</td><td>KTM Motors</td></tr><tr><td>BR2095</td><td>ZAZ Motors</td></tr><tr><td>BR2133</td><td>Horch Motors</td></tr><tr><td>BR0005</td><td>AC Cars Motors</td></tr><tr><td>BR0791</td><td>Hindustan Motors</td></tr><tr><td>BR0846</td><td>Autobianchi Motors</td></tr><tr><td>BR0883</td><td>Infiniti Motors</td></tr><tr><td>BR1088</td><td>Ligier Motors</td></tr><tr><td>BR1181</td><td>Maserati Motors</td></tr><tr><td>BR1565</td><td>Polestar Motors</td></tr><tr><td>BR2367</td><td>Casa de cadillac</td></tr><tr><td>BR2380</td><td>Cass Motor Sales</td></tr><tr><td>BR6546</td><td>Lincoln Motors</td></tr><tr><td>BR9066</td><td>Perodua Motors</td></tr><tr><td>BR0045</td><td>Alpine Motors</td></tr><tr><td>BR1223</td><td>Mazzanti Motors</td></tr><tr><td>BR12666</td><td>Audi Motors</td></tr><tr><td>BR1364</td><td>Nash Motors</td></tr><tr><td>BR1601</td><td>Proton Motors</td></tr><tr><td>BR1878</td><td>Subaru Motors</td></tr><tr><td>BR2042</td><td>Volkswagen South Africa Motors</td></tr><tr><td>BR0473</td><td>De Tomaso Motors</td></tr><tr><td>BR1053</td><td>Lancia Motors</td></tr><tr><td>BR1244</td><td>Mercedes-Benz (including Maybach) Motors</td></tr><tr><td>BR1785</td><td>Simca Motors</td></tr><tr><td>BR2101</td><td>ZIL Motors</td></tr><tr><td>BR2165</td><td>Izh  Motors</td></tr><tr><td>BR7146</td><td>Mastretta Motors</td></tr><tr><td>BR0126</td><td>Aixam-Mega (including Arola) Motors</td></tr><tr><td>BR0359</td><td>Chrysler Europe Motors</td></tr><tr><td>BR0611</td><td>Ford Australia Motors</td></tr><tr><td>BR1104</td><td>Lotus Motors</td></tr><tr><td>BR1174</td><td>Maruti Motors</td></tr><tr><td>BR1277</td><td>Messerschmitt Motors</td></tr><tr><td>BR1419</td><td>NSU Motors</td></tr><tr><td>BR1510</td><td>Peel Motors</td></tr><tr><td>BR1653</td><td>Rivian Motors</td></tr><tr><td>BR1780</td><td>Shelby SuperCars Motors</td></tr><tr><td>BR2135</td><td>Horch Motors</td></tr><tr><td>BR2167</td><td>Izh  Motors</td></tr><tr><td>BR2371</td><td>Cass Motor Sales</td></tr><tr><td>BR3606</td><td>Ford America Motors</td></tr><tr><td>BR0143</td><td>Autobianchi Motors</td></tr><tr><td>BR1283</td><td>Mia Motors</td></tr><tr><td>BR1328</td><td>Monica Motors</td></tr><tr><td>BR1783</td><td>Simca Motors</td></tr><tr><td>BR0727</td><td>GMC Motors</td></tr><tr><td>BR0892</td><td>Innocenti Motors</td></tr><tr><td>BR1123</td><td>LuAZ Motors</td></tr><tr><td>BR12906</td><td>Maybach  Motors</td></tr><tr><td>BR1690</td><td>SAIC Motor Motors</td></tr><tr><td>BR1843</td><td>SsangYong Motors</td></tr><tr><td>BR2067</td><td>Westfield Motors</td></tr><tr><td>BR2099</td><td>ZAZ Motors</td></tr><tr><td>BR0057</td><td>Alvis Motors</td></tr><tr><td>BR0929</td><td>Iso Motors</td></tr><tr><td>BR1842</td><td>SsangYong Motors</td></tr><tr><td>BR0073</td><td>Anadol Motors</td></tr><tr><td>BR0492</td><td>Donkervoort Motors</td></tr><tr><td>BR0565</td><td>Fiat Motors</td></tr><tr><td>BR0851</td><td>Hummer Motors</td></tr><tr><td>BR1032</td><td>Lada Motors</td></tr><tr><td>BR1190</td><td>Maserati Motors</td></tr><tr><td>BR1410</td><td>Noble Motors</td></tr><tr><td>BR1678</td><td>Saab Motors</td></tr><tr><td>BR2082</td><td>Zastava Motors</td></tr><tr><td>BR2124</td><td>DKW Motors</td></tr><tr><td>BR2131</td><td>Horch Motors</td></tr><tr><td>BR2247</td><td>Talbot  Motors</td></tr><tr><td>BR2460</td><td>Jones Motor Company</td></tr><tr><td>BR3786</td><td>Ford Europe Motors</td></tr><tr><td>BR0080</td><td>Anadol Motors</td></tr><tr><td>BR0085</td><td>Ariel Motors</td></tr><tr><td>BR0220</td><td>Borgward (including Goliath and Lloyd) Motors</td></tr><tr><td>BR0342</td><td>Chrysler Motors</td></tr><tr><td>BR0624</td><td>Ford do Brasil Motors</td></tr><tr><td>BR0730</td><td>GMC Motors</td></tr><tr><td>BR0845</td><td>Humber Motors</td></tr><tr><td>BR0935</td><td>Isotta Fraschini Motors</td></tr><tr><td>BR1055</td><td>Lancia Motors</td></tr><tr><td>BR1326</td><td>Bristol Motors</td></tr><tr><td>BR1867</td><td>Studebaker Motors</td></tr><tr><td>BR1895</td><td>Suzuki Motors</td></tr><tr><td>BR2153</td><td>Maybach  Motors</td></tr><tr><td>BR2184</td><td>MG  Motors</td></tr><tr><td>BR2250</td><td>Talbot  Motors</td></tr><tr><td>BR2282</td><td>Herald Motors</td></tr><tr><td>BR6606</td><td>Lotus Motors</td></tr><tr><td>BR0152</td><td>Auto-Union Motors</td></tr><tr><td>BR0842</td><td>Humber Motors</td></tr><tr><td>BR1291</td><td>Micro Motors</td></tr><tr><td>BR2199</td><td>Morris  Motors</td></tr><tr><td>BR2451</td><td>Jones Motor Company</td></tr><tr><td>BR0029</td><td>Aixam-Mega (including Arola) Motors</td></tr><tr><td>BR0033</td><td>Alfa Romeo Motors</td></tr><tr><td>BR0229</td><td>Bristol Motors</td></tr><tr><td>BR0457</td><td>DeLorean Motors</td></tr><tr><td>BR0605</td><td>Ford America Motors</td></tr><tr><td>BR0950</td><td>Isuzu Motors</td></tr><tr><td>BR0990</td><td>Jensen Motors</td></tr><tr><td>BR1585</td><td>Porsche Motors</td></tr><tr><td>BR1672</td><td>Saab Motors</td></tr><tr><td>BR4026</td><td>GAZ Motors</td></tr><tr><td>BR0424</td><td>Daimler Motors</td></tr><tr><td>BR0971</td><td>Jeep Motors</td></tr><tr><td>BR1114</td><td>LTI Motors</td></tr><tr><td>BR1258</td><td>Mercury Motors</td></tr><tr><td>BR1488</td><td>Panoz Motors</td></tr><tr><td>BR1679</td><td>Saab Motors</td></tr><tr><td>BR2172</td><td>Lagonda  Motors</td></tr><tr><td>BR2462</td><td>Kindel Building</td></tr><tr><td>BR0094</td><td>ARO Motors</td></tr><tr><td>BR0357</td><td>Chrysler Europe Motors</td></tr><tr><td>BR0417</td><td>Daihatsu Motors</td></tr><tr><td>BR0854</td><td>Hummer Motors</td></tr><tr><td>BR1014</td><td>Koenigsegg Motors</td></tr><tr><td>BR1245</td><td>Mercedes-Benz (including Maybach) Motors</td></tr><tr><td>BR1295</td><td>Micro Motors</td></tr><tr><td>BR1625</td><td>Ranger Motors</td></tr><tr><td>BR1683</td><td>SAIC Motor Motors</td></tr><tr><td>BR1742</td><td>Saturn Motors</td></tr><tr><td>BR1827</td><td>Smart Motors</td></tr><tr><td>BR1975</td><td>Turner Motors</td></tr><tr><td>BR0120</td><td>Asia Motors Motors</td></tr><tr><td>BR0382</td><td>Dacia Motors</td></tr><tr><td>BR0470</td><td>DeSoto Motors</td></tr><tr><td>BR1034</td><td>Lada Motors</td></tr><tr><td>BR10626</td><td>Shelby SuperCars Motors</td></tr><tr><td>BR1099</td><td>Lincoln Motors</td></tr><tr><td>BR2351</td><td>Cadillac Automobile Company Building</td></tr><tr><td>BR2394</td><td>Clemens Automobile Company Building</td></tr><tr><td>BR0310</td><td>Caterham Motors</td></tr><tr><td>BR0602</td><td>Ford America Motors</td></tr><tr><td>BR0694</td><td>Gilbern Motors</td></tr><tr><td>BR1668</td><td>Rolls-Royce Motors</td></tr><tr><td>BR2148</td><td>Wanderer Motors</td></tr><tr><td>BR2309</td><td>Atlantic Motor Company</td></tr><tr><td>BR0546</td><td>ARO Motors</td></tr><tr><td>BR0678</td><td>GAZ Motors</td></tr><tr><td>BR1569</td><td>Polestar Motors</td></tr><tr><td>BR1570</td><td>Polestar Motors</td></tr><tr><td>BR1811</td><td>Skoda Motors</td></tr><tr><td>BR1882</td><td>Sunbeam Motors</td></tr><tr><td>BR1901</td><td>Tata Motors</td></tr><tr><td>BR1937</td><td>Tesla Motors</td></tr><tr><td>BR1988</td><td>TVR Motors</td></tr><tr><td>BR2034</td><td>Volkswagen do Brasil Motors</td></tr><tr><td>BR2334</td><td>Bohn Motor Company Automobile Dealership</td></tr><tr><td>BR0074</td><td>Anadol Motors</td></tr><tr><td>BR0103</td><td>Artega Motors</td></tr><tr><td>BR0338</td><td>Chevrolet India Motors</td></tr><tr><td>BR0418</td><td>Daihatsu Motors</td></tr><tr><td>BR0435</td><td>Datsun Motors</td></tr><tr><td>BR0533</td><td>Elva Motors</td></tr><tr><td>BR0879</td><td>IFA (including Trabant, Wartburg, Barkas) Motors</td></tr><tr><td>BR1512</td><td>Perodua Motors</td></tr><tr><td>BR2234</td><td>Standard  Motors</td></tr><tr><td>BR2245</td><td>Talbot  Motors</td></tr><tr><td>BR2283</td><td>Herald Motors</td></tr><tr><td>BR2438</td><td>Hupmobile Building</td></tr><tr><td>BR8466</td><td>NSU Motors</td></tr><tr><td>BR8766</td><td>Pagani Motors</td></tr><tr><td>BR0961</td><td>Jaguar Motors</td></tr><tr><td>BR1471</td><td>Panhard Motors</td></tr><tr><td>BR1603</td><td>Proton Motors</td></tr><tr><td>BR1879</td><td>Subaru Motors</td></tr><tr><td>BR2211</td><td>Riley  Motors</td></tr><tr><td>BR2320</td><td>2008 NRHP-listed</td></tr><tr><td>BR0020</td><td>Acura Motors</td></tr><tr><td>BR0339</td><td>Chevrolet India Motors</td></tr><tr><td>BR0375</td><td>Cizeta-Moroder Motors</td></tr><tr><td>BR0404</td><td>DAF Motors</td></tr><tr><td>BR0752</td><td>Healey Motors</td></tr><tr><td>BR1315</td><td>Mitsubishi Motors</td></tr><tr><td>BR1392</td><td>Nissan India Motors</td></tr><tr><td>BR1542</td><td>Piaggio Motors</td></tr><tr><td>BR2302</td><td>Atlantic Motor Company</td></tr><tr><td>BR0397</td><td>Daewoo, Saehan, Chevrolet Korea Motors</td></tr><tr><td>BR0675</td><td>GAZ Motors</td></tr><tr><td>BR11526</td><td>Tazzari Motors</td></tr><tr><td>BR1619</td><td>Puma Motors</td></tr><tr><td>BR1798</td><td>Simca do Brasil Motors</td></tr><tr><td>BR1994</td><td>UAZ Motors</td></tr><tr><td>BR2342</td><td>Buick Automobile Company Building</td></tr><tr><td>BR7506</td><td>Mercury Motors</td></tr><tr><td>BR0049</td><td>Alpine Motors</td></tr><tr><td>BR0640</td><td>Ford Europe Motors</td></tr><tr><td>BR0653</td><td>Freightliner Motors</td></tr><tr><td>BR0897</td><td>Innocenti Motors</td></tr><tr><td>BR1520</td><td>Perodua Motors</td></tr><tr><td>BR1621</td><td>Ranger Motors</td></tr><tr><td>BR2008</td><td>Vauxhall Motors</td></tr><tr><td>BR2170</td><td>Izh  Motors</td></tr><tr><td>BR2526</td><td>Daimler Motors</td></tr><tr><td>BR3006</td><td>Edsel Motors</td></tr><tr><td>BR8226</td><td>Naza Motors</td></tr><tr><td>BR0170</td><td>Auverland Motors</td></tr><tr><td>BR0843</td><td>Humber Motors</td></tr><tr><td>BR1249</td><td>Mercedes-Benz (including Maybach) Motors</td></tr><tr><td>BR1552</td><td>Plymouth Motors</td></tr><tr><td>BR2258</td><td>Das Motors</td></tr><tr><td>BR0084</td><td>Ariel Motors</td></tr><tr><td>BR0610</td><td>Ford America Motors</td></tr><tr><td>BR1077</td><td>Lexus Motors</td></tr><tr><td>BR1101</td><td>Lotus Motors</td></tr><tr><td>BR1107</td><td>Lotus Motors</td></tr><tr><td>BR1209</td><td>Matra (including Deutsch-Bonnet, René Bonnet) Motors</td></tr><tr><td>BR1235</td><td>McLaren Motors</td></tr><tr><td>BR1417</td><td>NSU Motors</td></tr><tr><td>BR1519</td><td>Perodua Motors</td></tr><tr><td>BR1524</td><td>Peugeot Motors</td></tr><tr><td>BR1640</td><td>Reliant Motors</td></tr><tr><td>BR2110</td><td>ZIL Motors</td></tr><tr><td>BR2307</td><td>Atlantic Motor Company</td></tr><tr><td>BR2457</td><td>Jones Motor Company</td></tr><tr><td>BR5106</td><td>Hummer Motors</td></tr><tr><td>BR6306</td><td>Lancia Motors</td></tr><tr><td>BR0108</td><td>Artega Motors</td></tr><tr><td>BR0380</td><td>Cizeta-Moroder Motors</td></tr><tr><td>BR0577</td><td>Fiat do Brasil Motors</td></tr><tr><td>BR0812</td><td>Honda Motors</td></tr><tr><td>BR0865</td><td>Hyundai Motors</td></tr><tr><td>BR1202</td><td>Matra (including Deutsch-Bonnet, René Bonnet) Motors</td></tr><tr><td>BR1504</td><td>Peel Motors</td></tr><tr><td>BR1833</td><td>Spyker Motors</td></tr><tr><td>BR2041</td><td>Volkswagen South Africa Motors</td></tr><tr><td>BR2313</td><td>2008 NRHP-listed</td></tr><tr><td>BR3726</td><td>Ford do Brasil Motors</td></tr><tr><td>BR7326</td><td>Mazzanti Motors</td></tr><tr><td>BR0334</td><td>Chevrolet India Motors</td></tr><tr><td>BR0364</td><td>Citroën Motors</td></tr><tr><td>BR0371</td><td>Cizeta-Moroder Motors</td></tr><tr><td>BR0485</td><td>Dodge Motors</td></tr><tr><td>BR0909</td><td>Invicta Motors</td></tr><tr><td>BR0921</td><td>Iso Motors</td></tr><tr><td>BR0267</td><td>Bugatti Motors</td></tr><tr><td>BR0410</td><td>DAF Motors</td></tr><tr><td>BR0469</td><td>DeSoto Motors</td></tr><tr><td>BR0654</td><td>Freightliner Motors</td></tr><tr><td>BR1528</td><td>Peugeot Motors</td></tr><tr><td>BR2183</td><td>MG  Motors</td></tr><tr><td>BR2264</td><td>Ramani Motors</td></tr><tr><td>BR0041</td><td>Alpine Motors</td></tr><tr><td>BR0122</td><td>Aston Martin Motors</td></tr><tr><td>BR0349</td><td>Chrysler Motors</td></tr><tr><td>BR0906</td><td>Auto-Union Motors</td></tr><tr><td>BR0973</td><td>Jeep Motors</td></tr><tr><td>BR1168</td><td>Marlin Motors</td></tr><tr><td>BR1231</td><td>McLaren Motors</td></tr><tr><td>BR1518</td><td>Perodua Motors</td></tr><tr><td>BR1639</td><td>Reliant Motors</td></tr><tr><td>BR2290</td><td>Herald Motors</td></tr><tr><td>BR0302</td><td>Caterham Motors</td></tr><tr><td>BR0468</td><td>DeSoto Motors</td></tr><tr><td>BR0477</td><td>De Tomaso Motors</td></tr><tr><td>BR0768</td><td>Heinkel Motors</td></tr><tr><td>BR0824</td><td>Honda India Motors</td></tr><tr><td>BR1008</td><td>Kia Motors</td></tr><tr><td>BR1674</td><td>Saab Motors</td></tr><tr><td>BR1697</td><td>Saleen Motors</td></tr><tr><td>BR1715</td><td>San Motors</td></tr><tr><td>BR1782</td><td>Simca Motors</td></tr><tr><td>BR1797</td><td>Simca do Brasil Motors</td></tr><tr><td>BR1924</td><td>Tazzari Motors</td></tr><tr><td>BR4686</td><td>Hillman Motors</td></tr><tr><td>BR8826</td><td>Panhard Motors</td></tr><tr><td>BR0322</td><td>Chevrolet Motors</td></tr><tr><td>BR0724</td><td>GMC Motors</td></tr><tr><td>BR0994</td><td>JPX Motors</td></tr><tr><td>BR1173</td><td>Maruti Motors</td></tr><tr><td>BR1692</td><td>Saleen Motors</td></tr><tr><td>BR1875</td><td>Subaru Motors</td></tr><tr><td>BR0004</td><td>AC Cars Motors</td></tr><tr><td>BR0067</td><td>AMC, Eagle Motors</td></tr><tr><td>BR0459</td><td>DeLorean Motors</td></tr><tr><td>BR0488</td><td>Dodge Motors</td></tr><tr><td>BR0663</td><td>FSO Motors</td></tr><tr><td>BR0711</td><td>Glas Motors</td></tr><tr><td>BR0747</td><td>Gumpert Motors</td></tr><tr><td>BR0894</td><td>Innocenti Motors</td></tr><tr><td>BR1039</td><td>Lada Motors</td></tr><tr><td>BR14046</td><td>Buick Automobile Company Building</td></tr><tr><td>BR1440</td><td>Oltcit Motors</td></tr><tr><td>BR1492</td><td>Panther Motors</td></tr><tr><td>BR1557</td><td>Plymouth Motors</td></tr><tr><td>BR2388</td><td>Claremore Auto Dealership</td></tr><tr><td>BR0224</td><td>Bristol Motors</td></tr><tr><td>BR1303</td><td>Mini Motors</td></tr><tr><td>BR1304</td><td>Mini Motors</td></tr><tr><td>BR13086</td><td>MG  Motors</td></tr><tr><td>BR1567</td><td>Polestar Motors</td></tr><tr><td>BR1659</td><td>Rivian Motors</td></tr><tr><td>BR1725</td><td>Santa Matilde Motors</td></tr><tr><td>BR2104</td><td>ZIL Motors</td></tr><tr><td>BR6426</td><td>Lexus Motors</td></tr><tr><td>BR0697</td><td>Gilbern Motors</td></tr><tr><td>BR0781</td><td>Hillman Motors</td></tr><tr><td>BR0931</td><td>Isotta Fraschini Motors</td></tr><tr><td>BR1070</td><td>Land Rover Motors</td></tr><tr><td>BR1130</td><td>LuAZ Motors</td></tr><tr><td>BR1397</td><td>Nissan India Motors</td></tr><tr><td>BR1595</td><td>Premier Motors</td></tr><tr><td>BR1985</td><td>TVR Motors</td></tr><tr><td>BR2011</td><td>Venturi Motors</td></tr><tr><td>BR2089</td><td>Zastava Motors</td></tr><tr><td>BR0484</td><td>Dodge Motors</td></tr><tr><td>BR0899</td><td>Innocenti Motors</td></tr><tr><td>BR1379</td><td>Naza Motors</td></tr><tr><td>BR1903</td><td>Tata Motors</td></tr><tr><td>BR0303</td><td>Caterham Motors</td></tr><tr><td>BR0523</td><td>Eicher Polaris Motors</td></tr><tr><td>BR0538</td><td>Elva Motors</td></tr><tr><td>BR1363</td><td>Nash Motors</td></tr><tr><td>BR1459</td><td>Packard Motors</td></tr><tr><td>BR1837</td><td>Spyker Motors</td></tr><tr><td>BR1918</td><td>Tatra Motors</td></tr><tr><td>BR2281</td><td>Herald Motors</td></tr><tr><td>BR0025</td><td>Aixam-Mega (including Arola) Motors</td></tr><tr><td>BR1068</td><td>Land Rover Motors</td></tr><tr><td>BR1135</td><td>Lynx Motors</td></tr><tr><td>BR1560</td><td>Plymouth Motors</td></tr><tr><td>BR1717</td><td>San Motors</td></tr><tr><td>BR1923</td><td>Tazzari Motors</td></tr><tr><td>BR1964</td><td>Toyota India Motors</td></tr><tr><td>BR4266</td><td>Glas Motors</td></tr><tr><td>BR0159</td><td>Auto-Union Motors</td></tr><tr><td>BR0331</td><td>Chevrolet India Motors</td></tr><tr><td>BR0681</td><td>Geo Motors</td></tr><tr><td>BR0703</td><td>Ginetta Motors</td></tr><tr><td>BR0832</td><td>Hudson Motors</td></tr><tr><td>BR0880</td><td>IFA (including Trabant, Wartburg, Barkas) Motors</td></tr><tr><td>BR0999</td><td>JPX Motors</td></tr><tr><td>BR1974</td><td>Turner Motors</td></tr><tr><td>BR2180</td><td>Lagonda  Motors</td></tr><tr><td>BR0923</td><td>Iso Motors</td></tr><tr><td>BR0953</td><td>Iveco Motors</td></tr><tr><td>BR1498</td><td>Panther Motors</td></tr><tr><td>BR1583</td><td>Porsche Motors</td></tr><tr><td>BR1709</td><td>Samsung Motors</td></tr><tr><td>BR1723</td><td>Santa Matilde Motors</td></tr><tr><td>BR1920</td><td>Tatra Motors</td></tr><tr><td>BR2222</td><td>Wolseley  Motors</td></tr><tr><td>BR2231</td><td>Standard  Motors</td></tr><tr><td>BR2273</td><td>Deccan Motors</td></tr><tr><td>BR2327</td><td>Blankinship Motor Company Building</td></tr><tr><td>BR0077</td><td>Anadol Motors</td></tr><tr><td>BR0344</td><td>Chrysler Motors</td></tr><tr><td>BR0774</td><td>Hennessey Motors</td></tr><tr><td>BR0901</td><td>Invicta Motors</td></tr><tr><td>BR1193</td><td>Mastretta Motors</td></tr><tr><td>BR1199</td><td>Mastretta Motors</td></tr><tr><td>BR1227</td><td>Mazzanti Motors</td></tr><tr><td>BR1317</td><td>Mitsubishi Motors</td></tr><tr><td>BR1428</td><td>Oldsmobile Motors</td></tr><tr><td>BR1589</td><td>Porsche Motors</td></tr><tr><td>BR1634</td><td>Reliant Motors</td></tr><tr><td>BR1894</td><td>Suzuki Motors</td></tr><tr><td>BR0387</td><td>Dacia Motors</td></tr><tr><td>BR0426</td><td>Anadol Motors</td></tr><tr><td>BR0573</td><td>Fiat do Brasil Motors</td></tr><tr><td>BR1234</td><td>McLaren Motors</td></tr><tr><td>BR1401</td><td>Noble Motors</td></tr><tr><td>BR1578</td><td>Pontiac, Asüna Motors</td></tr><tr><td>BR1788</td><td>Simca Motors</td></tr><tr><td>BR1805</td><td>Singer Motors</td></tr><tr><td>BR2144</td><td>Wanderer Motors</td></tr><tr><td>BR2243</td><td>Talbot  Motors</td></tr><tr><td>BR0154</td><td>Auto-Union Motors</td></tr><tr><td>BR0193</td><td>BMW Motors</td></tr><tr><td>BR0439</td><td>Datsun Motors</td></tr><tr><td>BR0910</td><td>Invicta Motors</td></tr><tr><td>BR1360</td><td>Moskwitch Motors</td></tr><tr><td>BR1649</td><td>Renault Motors</td></tr><tr><td>BR1804</td><td>Singer Motors</td></tr><tr><td>BR1963</td><td>Toyota India Motors</td></tr><tr><td>BR2019</td><td>Venturi Motors</td></tr><tr><td>BR0098</td><td>ARO Motors</td></tr><tr><td>BR0141</td><td>Autobianchi Motors</td></tr><tr><td>BR0442</td><td>Delahaye Motors</td></tr><tr><td>BR0590</td><td>Fiat India Motors</td></tr><tr><td>BR10086</td><td>SAIC Motor Motors</td></tr><tr><td>BR1043</td><td>Lamborghini Motors</td></tr><tr><td>BR1222</td><td>Mazzanti Motors</td></tr><tr><td>BR1393</td><td>Nissan India Motors</td></tr><tr><td>BR2031</td><td>Volkswagen do Brasil Motors</td></tr><tr><td>BR2187</td><td>MG  Motors</td></tr><tr><td>BR2207</td><td>Austin  Motors</td></tr><tr><td>BR2240</td><td>Standard  Motors</td></tr><tr><td>BR2361</td><td>Casa de cadillac</td></tr><tr><td>BR2392</td><td>Clemens Automobile Company Building</td></tr><tr><td>BR5946</td><td>JPX Motors</td></tr><tr><td>BR0208</td><td>Bond Motors</td></tr><tr><td>BR0260</td><td>Austin, Rover Motors</td></tr><tr><td>BR0309</td><td>Caterham Motors</td></tr><tr><td>BR1128</td><td>LuAZ Motors</td></tr><tr><td>BR1348</td><td>Morgan Motors</td></tr><tr><td>BR1667</td><td>Rolls-Royce Motors</td></tr><tr><td>BR2312</td><td>2008 NRHP-listed</td></tr><tr><td>BR2423</td><td>Howard Motor Company Building</td></tr><tr><td>BR4926</td><td>Honda India Motors</td></tr><tr><td>BR0391</td><td>Daewoo, Saehan, Chevrolet Korea Motors</td></tr><tr><td>BR0751</td><td>Healey Motors</td></tr><tr><td>BR0769</td><td>Heinkel Motors</td></tr><tr><td>BR0998</td><td>JPX Motors</td></tr><tr><td>BR1183</td><td>Maserati Motors</td></tr><tr><td>BR1313</td><td>Mitsubishi Motors</td></tr><tr><td>BR1455</td><td>Packard Motors</td></tr><tr><td>BR2463</td><td>Kindel Building</td></tr><tr><td>BR4566</td><td>Heinkel Motors</td></tr><tr><td>BR1108</td><td>Lotus Motors</td></tr><tr><td>BR1204</td><td>Matra (including Deutsch-Bonnet, René Bonnet) Motors</td></tr><tr><td>BR13326</td><td>Wolseley  Motors</td></tr><tr><td>BR1372</td><td>Naza Motors</td></tr><tr><td>BR1758</td><td>Scion Motors</td></tr><tr><td>BR1887</td><td>Sunbeam Motors</td></tr><tr><td>BR2214</td><td>Riley  Motors</td></tr><tr><td>BR7986</td><td>Monteverdi Motors</td></tr><tr><td>BR0515</td><td>e.GO Mobile Motors</td></tr><tr><td>BR0661</td><td>FSO Motors</td></tr><tr><td>BR1021</td><td>KTM Motors</td></tr><tr><td>BR1268</td><td>Merkur Motors</td></tr><tr><td>BR13266</td><td>Riley  Motors</td></tr><tr><td>BR2151</td><td>Maybach  Motors</td></tr><tr><td>BR2300</td><td>Zion Automobils</td></tr><tr><td>BR2382</td><td>Claremore Auto Dealership</td></tr><tr><td>BR0010</td><td>AC Cars Motors</td></tr><tr><td>BR0051</td><td>Alvis Motors</td></tr><tr><td>BR0341</td><td>Chrysler Motors</td></tr><tr><td>BR0384</td><td>Dacia Motors</td></tr><tr><td>BR0569</td><td>Fiat Motors</td></tr><tr><td>BR14646</td><td>Jennings Ford Automobile Dealership</td></tr><tr><td>BR1562</td><td>Polestar Motors</td></tr><tr><td>BR1872</td><td>Subaru Motors</td></tr><tr><td>BR2128</td><td>DKW Motors</td></tr><tr><td>BR2197</td><td>Morris  Motors</td></tr><tr><td>BR2253</td><td>Das Motors</td></tr><tr><td>BR2315</td><td>2008 NRHP-listed</td></tr><tr><td>BR0443</td><td>Delahaye Motors</td></tr><tr><td>BR0925</td><td>Iso Motors</td></tr><tr><td>BR1019</td><td>Koenigsegg Motors</td></tr><tr><td>BR1411</td><td>NSU Motors</td></tr><tr><td>BR1733</td><td>Santana Motors</td></tr><tr><td>BR1745</td><td>Saturn Motors</td></tr><tr><td>BR1962</td><td>Toyota India Motors</td></tr><tr><td>BR2251</td><td>Das Motors</td></tr><tr><td>BR0102</td><td>Artega Motors</td></tr><tr><td>BR0745</td><td>Gumpert Motors</td></tr><tr><td>BR0858</td><td>Hummer Motors</td></tr><tr><td>BR0917</td><td>Isdera Motors</td></tr><tr><td>BR1171</td><td>Maruti Motors</td></tr><tr><td>BR1247</td><td>Mercedes-Benz (including Maybach) Motors</td></tr><tr><td>BR1831</td><td>Spyker Motors</td></tr><tr><td>BR2448</td><td>Jennings Ford Automobile Dealership</td></tr><tr><td>BR0173</td><td>Bentley Motors</td></tr><tr><td>BR0249</td><td>Austin-Healey Motors</td></tr><tr><td>BR0619</td><td>Ford Australia Motors</td></tr><tr><td>BR1118</td><td>LTI Motors</td></tr><tr><td>BR1294</td><td>Micro Motors</td></tr><tr><td>BR1593</td><td>Premier Motors</td></tr><tr><td>BR1712</td><td>San Motors</td></tr><tr><td>BR1728</td><td>Santa Matilde Motors</td></tr><tr><td>BR2409</td><td>Colman Automotive Building</td></tr><tr><td>BR8586</td><td>Oltcit Motors</td></tr><tr><td>BR0402</td><td>DAF Motors</td></tr><tr><td>BR0542</td><td>Facel Vega Motors</td></tr><tr><td>BR11646</td><td>Tornado Motors</td></tr><tr><td>BR1467</td><td>Pagani Motors</td></tr><tr><td>BR2321</td><td>Blankinship Motor Company Building</td></tr><tr><td>BR7026</td><td>Maruti Motors</td></tr><tr><td>BR0295</td><td>Cadillac Motors</td></tr><tr><td>BR0641</td><td>Ford India Motors</td></tr><tr><td>BR0715</td><td>Glas Motors</td></tr><tr><td>BR0975</td><td>Jeep Motors</td></tr><tr><td>BR1004</td><td>Kia Motors</td></tr><tr><td>BR1610</td><td>Proton Motors</td></tr><tr><td>BR1741</td><td>Saturn Motors</td></tr><tr><td>BR2053</td><td>Volvo Motors</td></tr><tr><td>BR2340</td><td>Bohn Motor Company Automobile Dealership</td></tr><tr><td>BR0042</td><td>Alpine Motors</td></tr><tr><td>BR0311</td><td>Checker Motors</td></tr><tr><td>BR0482</td><td>Dodge Motors</td></tr><tr><td>BR0870</td><td>Hyundai Motors</td></tr><tr><td>BR1362</td><td>Nash Motors</td></tr><tr><td>BR1571</td><td>Pontiac, Asüna Motors</td></tr><tr><td>BR2370</td><td>Casa de cadillac</td></tr><tr><td>BR2389</td><td>Claremore Auto Dealership</td></tr><tr><td>BR3966</td><td>FSO Motors</td></tr><tr><td>BR6846</td><td>Mahindra Motors</td></tr><tr><td>BR7806</td><td>Mini Motors</td></tr><tr><td>BR0420</td><td>Daihatsu Motors</td></tr><tr><td>BR0667</td><td>FSO Motors</td></tr><tr><td>BR0742</td><td>Gumpert Motors</td></tr><tr><td>BR0822</td><td>Honda India Motors</td></tr><tr><td>BR0981</td><td>Jensen Motors</td></tr><tr><td>BR1052</td><td>Lancia Motors</td></tr><tr><td>BR1194</td><td>Mastretta Motors</td></tr><tr><td>BR1620</td><td>Puma Motors</td></tr><tr><td>BR1761</td><td>Seat Motors</td></tr><tr><td>BR1925</td><td>Tazzari Motors</td></tr><tr><td>BR1933</td><td>Tesla Motors</td></tr><tr><td>BR2045</td><td>Volkswagen South Africa Motors</td></tr><tr><td>BR2469</td><td>Kindel Building</td></tr><tr><td>BR8706</td><td>Packard Motors</td></tr><tr><td>BR9306</td><td>Plymouth Motors</td></tr><tr><td>BR0015</td><td>Acura Motors</td></tr><tr><td>BR0217</td><td>Borgward (including Goliath and Lloyd) Motors</td></tr><tr><td>BR0283</td><td>Bytom Motors</td></tr><tr><td>BR1274</td><td>Messerschmitt Motors</td></tr><tr><td>BR1431</td><td>Oltcit Motors</td></tr><tr><td>BR1451</td><td>Packard Motors</td></tr><tr><td>BR1554</td><td>Plymouth Motors</td></tr><tr><td>BR2049</td><td>Volkswagen South Africa Motors</td></tr><tr><td>BR2088</td><td>Zastava Motors</td></tr><tr><td>BR2107</td><td>ZIL Motors</td></tr><tr><td>BR2305</td><td>Atlantic Motor Company</td></tr><tr><td>BR5586</td><td>Isotta Fraschini Motors</td></tr><tr><td>BR0290</td><td>Bytom Motors</td></tr><tr><td>BR0474</td><td>De Tomaso Motors</td></tr><tr><td>BR0940</td><td>Isotta Fraschini Motors</td></tr><tr><td>BR2202</td><td>Austin  Motors</td></tr><tr><td>BR6246</td><td>Lamborghini Motors</td></tr><tr><td>BR0179</td><td>Bentley Motors</td></tr><tr><td>BR0797</td><td>Hindustan Motors</td></tr><tr><td>BR1261</td><td>Merkur Motors</td></tr><tr><td>BR1575</td><td>Pontiac, Asüna Motors</td></tr><tr><td>BR2114</td><td>Audi Motors</td></tr><tr><td>BR2208</td><td>Austin  Motors</td></tr><tr><td>BR0087</td><td>Ariel Motors</td></tr><tr><td>BR0117</td><td>Asia Motors Motors</td></tr><tr><td>BR0181</td><td>Bitter Motors</td></tr><tr><td>BR0183</td><td>Bitter Motors</td></tr><tr><td>BR0464</td><td>DeSoto Motors</td></tr><tr><td>BR0633</td><td>Ford Europe Motors</td></tr><tr><td>BR8946</td><td>Panther Motors</td></tr><tr><td>BR0643</td><td>Ford India Motors</td></tr><tr><td>BR1086</td><td>Bitter Motors</td></tr><tr><td>BR1465</td><td>Pagani Motors</td></tr><tr><td>BR1489</td><td>Panoz Motors</td></tr><tr><td>BR1643</td><td>Renault Motors</td></tr><tr><td>BR1765</td><td>Seat Motors</td></tr><tr><td>BR0090</td><td>Ariel Motors</td></tr><tr><td>BR0487</td><td>Dodge Motors</td></tr><tr><td>BR1020</td><td>Koenigsegg Motors</td></tr><tr><td>BR1073</td><td>Lexus Motors</td></tr><tr><td>BR1102</td><td>Lotus Motors</td></tr><tr><td>BR12306</td><td>Volvo Motors</td></tr><tr><td>BR1682</td><td>SAIC Motor Motors</td></tr><tr><td>BR1702</td><td>Samsung Motors</td></tr><tr><td>BR1938</td><td>Tesla Motors</td></tr><tr><td>BR1958</td><td>Toyota Motors</td></tr><tr><td>BR2173</td><td>Lagonda  Motors</td></tr><tr><td>BR0379</td><td>Cizeta-Moroder Motors</td></tr><tr><td>BR0687</td><td>Geo Motors</td></tr><tr><td>BR0767</td><td>Heinkel Motors</td></tr><tr><td>BR14106</td><td>Cadillac Automobile Company Building</td></tr><tr><td>BR1454</td><td>Packard Motors</td></tr><tr><td>BR1642</td><td>Renault Motors</td></tr><tr><td>BR1652</td><td>Rivian Motors</td></tr><tr><td>BR2052</td><td>Volvo Motors</td></tr><tr><td>BR2157</td><td>Maybach  Motors</td></tr><tr><td>BR2182</td><td>MG  Motors</td></tr><tr><td>BR3666</td><td>Ford Australia Motors</td></tr><tr><td>BR0668</td><td>FSO Motors</td></tr><tr><td>BR0719</td><td>Glas Motors</td></tr><tr><td>BR1079</td><td>Lexus Motors</td></tr><tr><td>BR1299</td><td>Micro Motors</td></tr><tr><td>BR1685</td><td>SAIC Motor Motors</td></tr><tr><td>BR1720</td><td>San Motors</td></tr><tr><td>BR1729</td><td>Santa Matilde Motors</td></tr><tr><td>BR2079</td><td>Wiesmann Motors</td></tr><tr><td>BR2163</td><td>Izh  Motors</td></tr><tr><td>BR2414</td><td>H Street Playhouse</td></tr><tr><td>BR6966</td><td>Marlin Motors</td></tr><tr><td>BR0819</td><td>Honda Motors</td></tr><tr><td>BR1214</td><td>Mazda Motors</td></tr><tr><td>BR1911</td><td>Tatra Motors</td></tr><tr><td>BR2166</td><td>Citroën Motors</td></tr><tr><td>BR2175</td><td>Lagonda  Motors</td></tr><tr><td>BR2198</td><td>Morris  Motors</td></tr><tr><td>BR6126</td><td>KTM Motors</td></tr><tr><td>BR0400</td><td>Daewoo, Saehan, Chevrolet Korea Motors</td></tr><tr><td>BR0527</td><td>Eicher Polaris Motors</td></tr><tr><td>BR1103</td><td>Lotus Motors</td></tr><tr><td>BR13686</td><td>Herald Motors</td></tr><tr><td>BR1815</td><td>Skoda Motors</td></tr><tr><td>BR0414</td><td>Daihatsu Motors</td></tr><tr><td>BR0444</td><td>Delahaye Motors</td></tr><tr><td>BR0959</td><td>Iveco Motors</td></tr><tr><td>BR1058</td><td>Lancia Motors</td></tr><tr><td>BR1338</td><td>Monteverdi Motors</td></tr><tr><td>BR1388</td><td>Nissan Motors</td></tr><tr><td>BR1854</td><td>Standard-Triumph Motors</td></tr><tr><td>BR2270</td><td>Ramani Motors</td></tr><tr><td>BR2278</td><td>Deccan Motors</td></tr><tr><td>BR2287</td><td>Herald Motors</td></tr><tr><td>BR2324</td><td>Blankinship Motor Company Building</td></tr><tr><td>BR0280</td><td>Buick Motors</td></tr><tr><td>BR0631</td><td>Ford Europe Motors</td></tr><tr><td>BR0702</td><td>Ginetta Motors</td></tr><tr><td>BR0942</td><td>Isuzu Motors</td></tr><tr><td>BR1151</td><td>Marcos Motors</td></tr><tr><td>BR2121</td><td>DKW Motors</td></tr><tr><td>BR2174</td><td>Lagonda  Motors</td></tr><tr><td>BR2886</td><td>Dodge Motors</td></tr><tr><td>BR0213</td><td>Borgward (including Goliath and Lloyd) Motors</td></tr><tr><td>BR0680</td><td>GAZ Motors</td></tr><tr><td>BR1075</td><td>Lexus Motors</td></tr><tr><td>BR1207</td><td>Matra (including Deutsch-Bonnet, René Bonnet) Motors</td></tr><tr><td>BR1507</td><td>Peel Motors</td></tr><tr><td>BR2080</td><td>Wiesmann Motors</td></tr><tr><td>BR0454</td><td>DeLorean Motors</td></tr><tr><td>BR0974</td><td>Jeep Motors</td></tr><tr><td>BR1026</td><td>Bentley Motors</td></tr><tr><td>BR13566</td><td>Ramani Motors</td></tr><tr><td>BR1457</td><td>Packard Motors</td></tr><tr><td>BR1684</td><td>SAIC Motor Motors</td></tr><tr><td>BR2301</td><td>Atlantic Motor Company</td></tr><tr><td>BR2310</td><td>Atlantic Motor Company</td></tr><tr><td>BR2384</td><td>Claremore Auto Dealership</td></tr><tr><td>BR2454</td><td>Jones Motor Company</td></tr><tr><td>BR0186</td><td>Alfa Romeo Motors</td></tr><tr><td>BR0834</td><td>Hudson Motors</td></tr><tr><td>BR0904</td><td>Invicta Motors</td></tr><tr><td>BR0907</td><td>Invicta Motors</td></tr><tr><td>BR1200</td><td>Mastretta Motors</td></tr><tr><td>BR1889</td><td>Sunbeam Motors</td></tr><tr><td>BR2140</td><td>Horch Motors</td></tr><tr><td>BR2177</td><td>Lagonda  Motors</td></tr><tr><td>BR0810</td><td>Holden Motors</td></tr><tr><td>BR1530</td><td>Peugeot Motors</td></tr><tr><td>BR1638</td><td>Reliant Motors</td></tr><tr><td>BR1779</td><td>Shelby SuperCars Motors</td></tr><tr><td>BR1928</td><td>Tazzari Motors</td></tr><tr><td>BR1954</td><td>Toyota Motors</td></tr><tr><td>BR1998</td><td>UAZ Motors</td></tr><tr><td>BR2355</td><td>Cadillac Automobile Company Building</td></tr><tr><td>BR2359</td><td>Cadillac Automobile Company Building</td></tr><tr><td>BR0012</td><td>Acura Motors</td></tr><tr><td>BR0578</td><td>Fiat do Brasil Motors</td></tr><tr><td>BR0748</td><td>Gumpert Motors</td></tr><tr><td>BR1386</td><td>British Leyland Motors</td></tr><tr><td>BR1868</td><td>Studebaker Motors</td></tr><tr><td>BR1930</td><td>Tazzari Motors</td></tr><tr><td>BR0427</td><td>Daimler Motors</td></tr><tr><td>BR0924</td><td>Iso Motors</td></tr><tr><td>BR0949</td><td>Isuzu Motors</td></tr><tr><td>BR1001</td><td>Kia Motors</td></tr><tr><td>BR1157</td><td>Marcos Motors</td></tr><tr><td>BR1165</td><td>Marlin Motors</td></tr><tr><td>BR1188</td><td>Maserati Motors</td></tr><tr><td>BR1513</td><td>Perodua Motors</td></tr><tr><td>BR1751</td><td>Scion Motors</td></tr><tr><td>BR2029</td><td>Volkswagen Motors</td></tr><tr><td>BR2060</td><td>Volvo Motors</td></tr><tr><td>BR2137</td><td>Horch Motors</td></tr><tr><td>BR0403</td><td>DAF Motors</td></tr><tr><td>BR0645</td><td>Ford India Motors</td></tr><tr><td>BR0893</td><td>Innocenti Motors</td></tr><tr><td>BR1170</td><td>Marlin Motors</td></tr><tr><td>BR1371</td><td>Naza Motors</td></tr><tr><td>BR1858</td><td>Standard-Triumph Motors</td></tr><tr><td>BR2419</td><td>H Street Playhouse</td></tr><tr><td>BR3066</td><td>e.GO Mobile Motors</td></tr><tr><td>BR0061</td><td>AMC, Eagle Motors</td></tr><tr><td>BR0323</td><td>Chevrolet Motors</td></tr><tr><td>BR1475</td><td>Panhard Motors</td></tr><tr><td>BR1908</td><td>Tata Motors</td></tr><tr><td>BR2220</td><td>Riley  Motors</td></tr><tr><td>BR2286</td><td>Dacia Motors</td></tr><tr><td>BR2431</td><td>Hupmobile Building</td></tr><tr><td>BR0332</td><td>Chevrolet India Motors</td></tr><tr><td>BR0551</td><td>Ferrari Motors</td></tr><tr><td>BR0969</td><td>Jaguar Motors</td></tr><tr><td>BR1172</td><td>Maruti Motors</td></tr><tr><td>BR1203</td><td>Matra (including Deutsch-Bonnet, René Bonnet) Motors</td></tr><tr><td>BR1543</td><td>Piaggio Motors</td></tr><tr><td>BR1588</td><td>Porsche Motors</td></tr><tr><td>BR1800</td><td>Simca do Brasil Motors</td></tr><tr><td>BR1839</td><td>Spyker Motors</td></tr><tr><td>BR0221</td><td>Bristol Motors</td></tr><tr><td>BR0422</td><td>Daimler Motors</td></tr><tr><td>BR0450</td><td>Delahaye Motors</td></tr><tr><td>BR0669</td><td>FSO Motors</td></tr><tr><td>BR0712</td><td>Glas Motors</td></tr><tr><td>BR0804</td><td>Holden Motors</td></tr><tr><td>BR0844</td><td>Humber Motors</td></tr><tr><td>BR0970</td><td>Jaguar Motors</td></tr><tr><td>BR1092</td><td>Lincoln Motors</td></tr><tr><td>BR1184</td><td>Maserati Motors</td></tr><tr><td>BR1251</td><td>Mercury Motors</td></tr><tr><td>BR1287</td><td>Mia Motors</td></tr><tr><td>BR1582</td><td>Porsche Motors</td></tr><tr><td>BR1787</td><td>Simca Motors</td></tr><tr><td>BR2395</td><td>Clemens Automobile Company Building</td></tr><tr><td>BR0265</td><td>Bugatti Motors</td></tr><tr><td>BR0305</td><td>Caterham Motors</td></tr><tr><td>BR0860</td><td>Hummer Motors</td></tr><tr><td>BR1023</td><td>KTM Motors</td></tr><tr><td>BR1037</td><td>Lada Motors</td></tr><tr><td>BR10446</td><td>Saturn Motors</td></tr><tr><td>BR4386</td><td>GTA Spano Motors</td></tr><tr><td>BR0060</td><td>Alvis Motors</td></tr><tr><td>BR0123</td><td>Aston Martin Motors</td></tr><tr><td>BR0239</td><td>British Leyland Motors</td></tr><tr><td>BR0306</td><td>Alvis Motors</td></tr><tr><td>BR10026</td><td>Saab Motors</td></tr><tr><td>BR1217</td><td>Mazda Motors</td></tr><tr><td>BR1914</td><td>Tatra Motors</td></tr><tr><td>BR2113</td><td>Audi Motors</td></tr><tr><td>BR4626</td><td>Hennessey Motors</td></tr><tr><td>BR0381</td><td>Dacia Motors</td></tr><tr><td>BR0629</td><td>Ford do Brasil Motors</td></tr><tr><td>BR1060</td><td>Lancia Motors</td></tr><tr><td>BR1145</td><td>Mahindra Motors</td></tr><tr><td>BR1229</td><td>Mazzanti Motors</td></tr><tr><td>BR1252</td><td>Mercury Motors</td></tr><tr><td>BR1602</td><td>Proton Motors</td></tr><tr><td>BR1793</td><td>Simca do Brasil Motors</td></tr><tr><td>BR2130</td><td>DKW Motors</td></tr><tr><td>BR2411</td><td>H Street Playhouse</td></tr><tr><td>BR0215</td><td>Borgward (including Goliath and Lloyd) Motors</td></tr><tr><td>BR0329</td><td>Chevrolet Motors</td></tr><tr><td>BR0441</td><td>Delahaye Motors</td></tr><tr><td>BR1059</td><td>Lancia Motors</td></tr><tr><td>BR13386</td><td>Standard  Motors</td></tr><tr><td>BR1590</td><td>Porsche Motors</td></tr><tr><td>BR1647</td><td>Renault Motors</td></tr><tr><td>BR1777</td><td>Shelby SuperCars Motors</td></tr><tr><td>BR2040</td><td>Volkswagen do Brasil Motors</td></tr><tr><td>BR2164</td><td>Izh  Motors</td></tr><tr><td>BR0483</td><td>Dodge Motors</td></tr><tr><td>BR0739</td><td>GTA Spano Motors</td></tr><tr><td>BR0987</td><td>Jensen Motors</td></tr><tr><td>BR1129</td><td>LuAZ Motors</td></tr><tr><td>BR12126</td><td>Volkswagen Motors</td></tr><tr><td>BR1275</td><td>Messerschmitt Motors</td></tr><tr><td>BR1495</td><td>Panther Motors</td></tr><tr><td>BR1657</td><td>Rivian Motors</td></tr><tr><td>BR1686</td><td>Bytom Motors</td></tr><tr><td>BR0228</td><td>Bristol Motors</td></tr><tr><td>BR0272</td><td>Buick Motors</td></tr><tr><td>BR10386</td><td>Santana Motors</td></tr><tr><td>BR1080</td><td>Lexus Motors</td></tr><tr><td>BR1148</td><td>Mahindra Motors</td></tr><tr><td>BR1150</td><td>Mahindra Motors</td></tr><tr><td>BR1370</td><td>Nash Motors</td></tr><tr><td>BR1673</td><td>Saab Motors</td></tr><tr><td>BR0324</td><td>Chevrolet Motors</td></tr><tr><td>BR0815</td><td>Honda Motors</td></tr><tr><td>BR0985</td><td>Jensen Motors</td></tr><tr><td>BR1127</td><td>LuAZ Motors</td></tr><tr><td>BR12606</td><td>ZIL Motors</td></tr><tr><td>BR1655</td><td>Rivian Motors</td></tr><tr><td>BR1841</td><td>SsangYong Motors</td></tr><tr><td>BR2118</td><td>Audi Motors</td></tr><tr><td>BR2368</td><td>Casa de cadillac</td></tr><tr><td>BR0277</td><td>Buick Motors</td></tr><tr><td>BR0827</td><td>Honda India Motors</td></tr><tr><td>BR1365</td><td>Nash Motors</td></tr><tr><td>BR1784</td><td>Simca Motors</td></tr><tr><td>BR2190</td><td>MG  Motors</td></tr><tr><td>BR5226</td><td>IFA (including Trabant, Wartburg, Barkas) Motors</td></tr><tr><td>BR0188</td><td>Bitter Motors</td></tr><tr><td>BR0432</td><td>Datsun Motors</td></tr><tr><td>BR1701</td><td>Samsung Motors</td></tr><tr><td>BR2009</td><td>Vauxhall Motors</td></tr><tr><td>BR2030</td><td>Volkswagen Motors</td></tr><tr><td>BR2058</td><td>Volvo Motors</td></tr><tr><td>BR2271</td><td>Deccan Motors</td></tr><tr><td>BR2303</td><td>Atlantic Motor Company</td></tr><tr><td>BR2357</td><td>Cadillac Automobile Company Building</td></tr><tr><td>BR0003</td><td>AC Cars Motors</td></tr><tr><td>BR0050</td><td>Alpine Motors</td></tr><tr><td>BR0227</td><td>Bristol Motors</td></tr><tr><td>BR0521</td><td>Eicher Polaris Motors</td></tr><tr><td>BR0620</td><td>Ford Australia Motors</td></tr><tr><td>BR0623</td><td>Ford do Brasil Motors</td></tr><tr><td>BR0807</td><td>Holden Motors</td></tr><tr><td>BR1450</td><td>Opel Motors</td></tr><tr><td>BR1971</td><td>Turner Motors</td></tr><tr><td>BR1987</td><td>TVR Motors</td></tr><tr><td>BR2119</td><td>Audi Motors</td></tr><tr><td>BR0072</td><td>Anadol Motors</td></tr><tr><td>BR0078</td><td>Anadol Motors</td></tr><tr><td>BR0081</td><td>Ariel Motors</td></tr><tr><td>BR0118</td><td>Asia Motors Motors</td></tr><tr><td>BR0180</td><td>Bentley Motors</td></tr><tr><td>BR0203</td><td>Bond Motors</td></tr><tr><td>BR1138</td><td>Lynx Motors</td></tr><tr><td>BR1238</td><td>McLaren Motors</td></tr><tr><td>BR2346</td><td>Daewoo, Saehan, Chevrolet Korea Motors</td></tr><tr><td>BR6006</td><td>Kia Motors</td></tr><tr><td>BR0047</td><td>Alpine Motors</td></tr><tr><td>BR0253</td><td>Austin, Rover Motors</td></tr><tr><td>BR0601</td><td>Ford America Motors</td></tr><tr><td>BR0833</td><td>Hudson Motors</td></tr><tr><td>BR10806</td><td>Singer Motors</td></tr><tr><td>BR1158</td><td>Marcos Motors</td></tr><tr><td>BR1502</td><td>Peel Motors</td></tr><tr><td>BR1555</td><td>Plymouth Motors</td></tr><tr><td>BR1611</td><td>Puma Motors</td></tr><tr><td>BR1635</td><td>Reliant Motors</td></tr><tr><td>BR1852</td><td>Standard-Triumph Motors</td></tr><tr><td>BR1980</td><td>Turner Motors</td></tr><tr><td>BR2028</td><td>Volkswagen Motors</td></tr><tr><td>BR2229</td><td>Wolseley  Motors</td></tr><tr><td>BR2338</td><td>Bohn Motor Company Automobile Dealership</td></tr><tr><td>BR8286</td><td>Nissan Motors</td></tr><tr><td>BR0043</td><td>Alpine Motors</td></tr><tr><td>BR0194</td><td>BMW Motors</td></tr><tr><td>BR0695</td><td>Gilbern Motors</td></tr><tr><td>BR1028</td><td>KTM Motors</td></tr><tr><td>BR1178</td><td>Maruti Motors</td></tr><tr><td>BR1669</td><td>Rolls-Royce Motors</td></tr><tr><td>BR2330</td><td>Blankinship Motor Company Building</td></tr><tr><td>BR2358</td><td>Cadillac Automobile Company Building</td></tr><tr><td>BR0704</td><td>Ginetta Motors</td></tr><tr><td>BR0721</td><td>GMC Motors</td></tr><tr><td>BR0838</td><td>Hudson Motors</td></tr><tr><td>BR10146</td><td>Saleen Motors</td></tr><tr><td>BR1087</td><td>Ligier Motors</td></tr><tr><td>BR1266</td><td>Borgward (including Goliath and Lloyd) Motors</td></tr><tr><td>BR2331</td><td>Bohn Motor Company Automobile Dealership</td></tr><tr><td>BR2345</td><td>Buick Automobile Company Building</td></tr><tr><td>BR2347</td><td>Buick Automobile Company Building</td></tr><tr><td>BR0205</td><td>Bond Motors</td></tr><tr><td>BR0278</td><td>Buick Motors</td></tr><tr><td>BR0333</td><td>Chevrolet India Motors</td></tr><tr><td>BR0412</td><td>Daihatsu Motors</td></tr><tr><td>BR0460</td><td>DeLorean Motors</td></tr><tr><td>BR0520</td><td>e.GO Mobile Motors</td></tr><tr><td>BR0726</td><td>Aston Martin Motors</td></tr><tr><td>BR0837</td><td>Hudson Motors</td></tr><tr><td>BR0908</td><td>Invicta Motors</td></tr><tr><td>BR11286</td><td>Sunbeam Motors</td></tr><tr><td>BR1480</td><td>Panhard Motors</td></tr><tr><td>BR0165</td><td>Auverland Motors</td></tr><tr><td>BR0600</td><td>Fisker, Karma Motors</td></tr><tr><td>BR0979</td><td>Jeep Motors</td></tr><tr><td>BR1035</td><td>Lada Motors</td></tr><tr><td>BR1210</td><td>Matra (including Deutsch-Bonnet, René Bonnet) Motors</td></tr><tr><td>BR1264</td><td>Merkur Motors</td></tr><tr><td>BR1559</td><td>Plymouth Motors</td></tr><tr><td>BR1573</td><td>Pontiac, Asüna Motors</td></tr><tr><td>BR2450</td><td>Jennings Ford Automobile Dealership</td></tr><tr><td>BR0083</td><td>Ariel Motors</td></tr><tr><td>BR0161</td><td>Auverland Motors</td></tr><tr><td>BR0197</td><td>BMW Motors</td></tr><tr><td>BR0481</td><td>Dodge Motors</td></tr><tr><td>BR0567</td><td>Fiat Motors</td></tr><tr><td>BR0945</td><td>Isuzu Motors</td></tr><tr><td>BR11406</td><td>Tata Motors</td></tr><tr><td>BR1521</td><td>Peugeot Motors</td></tr><tr><td>BR1814</td><td>Skoda Motors</td></tr><tr><td>BR2007</td><td>Vauxhall Motors</td></tr><tr><td>BR2405</td><td>Colman Automotive Building</td></tr><tr><td>BR0655</td><td>Freightliner Motors</td></tr><tr><td>BR0964</td><td>Jaguar Motors</td></tr><tr><td>BR1013</td><td>Koenigsegg Motors</td></tr><tr><td>BR1834</td><td>Spyker Motors</td></tr><tr><td>BR1835</td><td>Spyker Motors</td></tr><tr><td>BR0200</td><td>BMW Motors</td></tr><tr><td>BR0240</td><td>British Leyland Motors</td></tr><tr><td>BR0657</td><td>Freightliner Motors</td></tr><tr><td>BR0665</td><td>FSO Motors</td></tr><tr><td>BR0698</td><td>Gilbern Motors</td></tr><tr><td>BR0741</td><td>Gumpert Motors</td></tr><tr><td>BR1113</td><td>LTI Motors</td></tr><tr><td>BR1198</td><td>Mastretta Motors</td></tr><tr><td>BR1253</td><td>Mercury Motors</td></tr><tr><td>BR1807</td><td>Singer Motors</td></tr><tr><td>BR1897</td><td>Suzuki Motors</td></tr><tr><td>BR1905</td><td>Tata Motors</td></tr><tr><td>BR2000</td><td>UAZ Motors</td></tr><tr><td>BR6366</td><td>Land Rover Motors</td></tr><tr><td>BR0055</td><td>Alvis Motors</td></tr><tr><td>BR0902</td><td>Invicta Motors</td></tr><tr><td>BR1110</td><td>Lotus Motors</td></tr><tr><td>BR1511</td><td>Perodua Motors</td></tr><tr><td>BR2152</td><td>Maybach  Motors</td></tr><tr><td>BR2444</td><td>Jennings Ford Automobile Dealership</td></tr><tr><td>BR0066</td><td>Acura Motors</td></tr><tr><td>BR0294</td><td>Cadillac Motors</td></tr><tr><td>BR0814</td><td>Honda Motors</td></tr><tr><td>BR0839</td><td>Hudson Motors</td></tr><tr><td>BR0873</td><td>IFA (including Trabant, Wartburg, Barkas) Motors</td></tr><tr><td>BR11826</td><td>Turner Motors</td></tr><tr><td>BR1189</td><td>Maserati Motors</td></tr><tr><td>BR1259</td><td>Mercury Motors</td></tr><tr><td>BR1808</td><td>Singer Motors</td></tr><tr><td>BR2004</td><td>Vauxhall Motors</td></tr><tr><td>BR2027</td><td>Volkswagen Motors</td></tr><tr><td>BR0317</td><td>Checker Motors</td></tr><tr><td>BR1333</td><td>Monteverdi Motors</td></tr><tr><td>BR1651</td><td>Rivian Motors</td></tr><tr><td>BR1803</td><td>Singer Motors</td></tr><tr><td>BR2103</td><td>ZIL Motors</td></tr><tr><td>BR2132</td><td>Horch Motors</td></tr><tr><td>BR2260</td><td>Das Motors</td></tr><tr><td>BR2350</td><td>Buick Automobile Company Building</td></tr><tr><td>BR2421</td><td>Howard Motor Company Building</td></tr><tr><td>BR0071</td><td>Anadol Motors</td></tr><tr><td>BR0160</td><td>Auto-Union Motors</td></tr><tr><td>BR0175</td><td>Bentley Motors</td></tr><tr><td>BR0413</td><td>Daihatsu Motors</td></tr><tr><td>BR0635</td><td>Ford Europe Motors</td></tr><tr><td>BR0693</td><td>Gilbern Motors</td></tr><tr><td>BR0734</td><td>GTA Spano Motors</td></tr><tr><td>BR1663</td><td>Rolls-Royce Motors</td></tr><tr><td>BR1874</td><td>Subaru Motors</td></tr><tr><td>BR2122</td><td>DKW Motors</td></tr><tr><td>BR8886</td><td>Panoz Motors</td></tr><tr><td>BR0192</td><td>BMW Motors</td></tr><tr><td>BR0255</td><td>Austin, Rover Motors</td></tr><tr><td>BR0637</td><td>Ford Europe Motors</td></tr><tr><td>BR0757</td><td>Healey Motors</td></tr><tr><td>BR0965</td><td>Jaguar Motors</td></tr><tr><td>BR1078</td><td>Lexus Motors</td></tr><tr><td>BR1262</td><td>Merkur Motors</td></tr><tr><td>BR1352</td><td>Moskwitch Motors</td></tr><tr><td>BR1448</td><td>Opel Motors</td></tr><tr><td>BR1631</td><td>Reliant Motors</td></tr><tr><td>BR1633</td><td>Reliant Motors</td></tr><tr><td>BR1665</td><td>Rolls-Royce Motors</td></tr><tr><td>BR2169</td><td>Izh  Motors</td></tr><tr><td>BR2272</td><td>Deccan Motors</td></tr><tr><td>BR2318</td><td>2008 NRHP-listed</td></tr><tr><td>BR1224</td><td>Mazzanti Motors</td></tr><tr><td>BR1339</td><td>Monteverdi Motors</td></tr><tr><td>BR1699</td><td>Saleen Motors</td></tr><tr><td>BR1739</td><td>Santana Motors</td></tr><tr><td>BR1972</td><td>Turner Motors</td></tr><tr><td>BR2439</td><td>Hupmobile Building</td></tr><tr><td>BR0052</td><td>Alvis Motors</td></tr><tr><td>BR0119</td><td>Asia Motors Motors</td></tr><tr><td>BR0723</td><td>GMC Motors</td></tr><tr><td>BR1167</td><td>Marlin Motors</td></tr><tr><td>BR1545</td><td>Piaggio Motors</td></tr><tr><td>BR2401</td><td>Colman Automotive Building</td></tr><tr><td>BR2586</td><td>Datsun Motors</td></tr><tr><td>BR0419</td><td>Daihatsu Motors</td></tr><tr><td>BR0867</td><td>Hyundai Motors</td></tr><tr><td>BR1770</td><td>Seat Motors</td></tr><tr><td>BR1824</td><td>Smart Motors</td></tr><tr><td>BR2348</td><td>Buick Automobile Company Building</td></tr><tr><td>BR0185</td><td>Bitter Motors</td></tr><tr><td>BR0455</td><td>DeLorean Motors</td></tr><tr><td>BR0692</td><td>Gilbern Motors</td></tr><tr><td>BR0790</td><td>Hillman Motors</td></tr><tr><td>BR0955</td><td>Iveco Motors</td></tr><tr><td>BR0978</td><td>Jeep Motors</td></tr><tr><td>BR1420</td><td>NSU Motors</td></tr><tr><td>BR1522</td><td>Peugeot Motors</td></tr><tr><td>BR1719</td><td>San Motors</td></tr><tr><td>BR2335</td><td>Bohn Motor Company Automobile Dealership</td></tr><tr><td>BR1499</td><td>Panther Motors</td></tr><tr><td>BR3906</td><td>Freightliner Motors</td></tr><tr><td>BR6186</td><td>Lada Motors</td></tr><tr><td>BR0299</td><td>Cadillac Motors</td></tr><tr><td>BR0438</td><td>Datsun Motors</td></tr><tr><td>BR1629</td><td>Ranger Motors</td></tr><tr><td>BR1941</td><td>Tornado Motors</td></tr><tr><td>BR2032</td><td>Volkswagen do Brasil Motors</td></tr><tr><td>BR2057</td><td>Volvo Motors</td></tr><tr><td>BR2241</td><td>Talbot  Motors</td></tr><tr><td>BR0191</td><td>BMW Motors</td></tr><tr><td>BR0537</td><td>Elva Motors</td></tr><tr><td>BR1623</td><td>Ranger Motors</td></tr><tr><td>BR2284</td><td>Herald Motors</td></tr><tr><td>BR0035</td><td>Alfa Romeo Motors</td></tr><tr><td>BR0785</td><td>Hillman Motors</td></tr><tr><td>BR0818</td><td>Honda Motors</td></tr><tr><td>BR1137</td><td>Lynx Motors</td></tr><tr><td>BR1146</td><td>BMW Motors</td></tr><tr><td>BR1759</td><td>Scion Motors</td></tr><tr><td>BR2375</td><td>Cass Motor Sales</td></tr><tr><td>BR3426</td><td>Fiat do Brasil Motors</td></tr><tr><td>BR0613</td><td>Ford Australia Motors</td></tr><tr><td>BR1205</td><td>Matra (including Deutsch-Bonnet, René Bonnet) Motors</td></tr><tr><td>BR1515</td><td>Perodua Motors</td></tr><tr><td>BR1618</td><td>Puma Motors</td></tr><tr><td>BR2766</td><td>DeSoto Motors</td></tr><tr><td>BR0127</td><td>Aston Martin Motors</td></tr><tr><td>BR1447</td><td>Opel Motors</td></tr><tr><td>BR1823</td><td>Smart Motors</td></tr><tr><td>BR2259</td><td>Das Motors</td></tr><tr><td>BR0199</td><td>BMW Motors</td></tr><tr><td>BR0201</td><td>Bond Motors</td></tr><tr><td>BR0237</td><td>British Leyland Motors</td></tr><tr><td>BR0493</td><td>Donkervoort Motors</td></tr><tr><td>BR1041</td><td>Lamborghini Motors</td></tr><tr><td>BR1485</td><td>Panoz Motors</td></tr><tr><td>BR1527</td><td>Peugeot Motors</td></tr><tr><td>BR2417</td><td>H Street Playhouse</td></tr><tr><td>BR7266</td><td>Mazda Motors</td></tr><tr><td>BR0128</td><td>Aston Martin Motors</td></tr><tr><td>BR0234</td><td>British Leyland Motors</td></tr><tr><td>BR1029</td><td>KTM Motors</td></tr><tr><td>BR1125</td><td>LuAZ Motors</td></tr><tr><td>BR1219</td><td>Mazda Motors</td></tr><tr><td>BR1421</td><td>Oldsmobile Motors</td></tr><tr><td>BR1523</td><td>Peugeot Motors</td></tr><tr><td>BR1764</td><td>Seat Motors</td></tr><tr><td>BR2195</td><td>Morris  Motors</td></tr><tr><td>BR2200</td><td>Morris  Motors</td></tr><tr><td>BR2317</td><td>2008 NRHP-listed</td></tr><tr><td>BR0028</td><td>Aixam-Mega (including Arola) Motors</td></tr><tr><td>BR0038</td><td>Alfa Romeo Motors</td></tr><tr><td>BR0872</td><td>IFA (including Trabant, Wartburg, Barkas) Motors</td></tr><tr><td>BR0898</td><td>Innocenti Motors</td></tr><tr><td>BR0912</td><td>Isdera Motors</td></tr><tr><td>BR1005</td><td>Kia Motors</td></tr><tr><td>BR1147</td><td>Mahindra Motors</td></tr><tr><td>BR1999</td><td>UAZ Motors</td></tr><tr><td>BR2023</td><td>Volkswagen Motors</td></tr><tr><td>BR2108</td><td>ZIL Motors</td></tr><tr><td>BR2341</td><td>Buick Automobile Company Building</td></tr><tr><td>BR2344</td><td>Buick Automobile Company Building</td></tr><tr><td>BR0008</td><td>AC Cars Motors</td></tr><tr><td>BR0445</td><td>Delahaye Motors</td></tr><tr><td>BR1493</td><td>Panther Motors</td></tr><tr><td>BR1754</td><td>Scion Motors</td></tr><tr><td>BR2059</td><td>Volvo Motors</td></tr><tr><td>BR0024</td><td>Aixam-Mega (including Arola) Motors</td></tr><tr><td>BR0524</td><td>Eicher Polaris Motors</td></tr><tr><td>BR1218</td><td>Mazda Motors</td></tr><tr><td>BR1482</td><td>Panoz Motors</td></tr><tr><td>BR1687</td><td>SAIC Motor Motors</td></tr><tr><td>BR1838</td><td>Spyker Motors</td></tr><tr><td>BR1902</td><td>Tata Motors</td></tr><tr><td>BR1977</td><td>Turner Motors</td></tr><tr><td>BR2201</td><td>Austin  Motors</td></tr><tr><td>BR2374</td><td>Cass Motor Sales</td></tr><tr><td>BR1175</td><td>Maruti Motors</td></tr><tr><td>BR1544</td><td>Piaggio Motors</td></tr><tr><td>BR1641</td><td>Renault Motors</td></tr><tr><td>BR0214</td><td>Borgward (including Goliath and Lloyd) Motors</td></tr><tr><td>BR0588</td><td>Fiat India Motors</td></tr><tr><td>BR1049</td><td>Lamborghini Motors</td></tr><tr><td>BR1727</td><td>Santa Matilde Motors</td></tr><tr><td>BR2105</td><td>ZIL Motors</td></tr><tr><td>BR0369</td><td>Citroën Motors</td></tr><tr><td>BR0555</td><td>Ferrari Motors</td></tr><tr><td>BR0615</td><td>Ford Australia Motors</td></tr><tr><td>BR0840</td><td>Hudson Motors</td></tr><tr><td>BR1121</td><td>LuAZ Motors</td></tr><tr><td>BR1314</td><td>Mitsubishi Motors</td></tr><tr><td>BR1563</td><td>Polestar Motors</td></tr><tr><td>BR2239</td><td>Standard  Motors</td></tr><tr><td>BR2339</td><td>Bohn Motor Company Automobile Dealership</td></tr><tr><td>BR2393</td><td>Clemens Automobile Company Building</td></tr></tbody></table></div>"
      ]
     },
     "metadata": {
      "application/vnd.databricks.v1+output": {
       "addedWidgets": {},
       "aggData": [],
       "aggError": "",
       "aggOverflow": false,
       "aggSchema": [],
       "aggSeriesLimitReached": false,
       "aggType": "",
       "arguments": {},
       "columnCustomDisplayInfos": {},
       "data": [
        [
         "BR0131",
         "Audi Motors"
        ],
        [
         "BR0760",
         "Healey Motors"
        ],
        [
         "BR0789",
         "Hillman Motors"
        ],
        [
         "BR0938",
         "Isotta Fraschini Motors"
        ],
        [
         "BR1040",
         "Lada Motors"
        ],
        [
         "BR1693",
         "Saleen Motors"
        ],
        [
         "BR1792",
         "Simca do Brasil Motors"
        ],
        [
         "BR1799",
         "Simca do Brasil Motors"
        ],
        [
         "BR1955",
         "Toyota Motors"
        ],
        [
         "BR1978",
         "Turner Motors"
        ],
        [
         "BR2068",
         "Westfield Motors"
        ],
        [
         "BR2332",
         "Bohn Motor Company Automobile Dealership"
        ],
        [
         "BR0151",
         "Auto-Union Motors"
        ],
        [
         "BR0409",
         "DAF Motors"
        ],
        [
         "BR0434",
         "Datsun Motors"
        ],
        [
         "BR0599",
         "Fisker, Karma Motors"
        ],
        [
         "BR0753",
         "Healey Motors"
        ],
        [
         "BR1143",
         "Mahindra Motors"
        ],
        [
         "BR12246",
         "Volkswagen South Africa Motors"
        ],
        [
         "BR1233",
         "McLaren Motors"
        ],
        [
         "BR1558",
         "Plymouth Motors"
        ],
        [
         "BR1795",
         "Simca do Brasil Motors"
        ],
        [
         "BR1847",
         "SsangYong Motors"
        ],
        [
         "BR1943",
         "Tornado Motors"
        ],
        [
         "BR2054",
         "Volvo Motors"
        ],
        [
         "BR2063",
         "Westfield Motors"
        ],
        [
         "BR0019",
         "Acura Motors"
        ],
        [
         "BR0145",
         "Autobianchi Motors"
        ],
        [
         "BR0913",
         "Isdera Motors"
        ],
        [
         "BR1340",
         "Monteverdi Motors"
        ],
        [
         "BR1630",
         "Ranger Motors"
        ],
        [
         "BR1865",
         "Studebaker Motors"
        ],
        [
         "BR2139",
         "Horch Motors"
        ],
        [
         "BR0274",
         "Buick Motors"
        ],
        [
         "BR0308",
         "Caterham Motors"
        ],
        [
         "BR0399",
         "Daewoo, Saehan, Chevrolet Korea Motors"
        ],
        [
         "BR0471",
         "De Tomaso Motors"
        ],
        [
         "BR0731",
         "GTA Spano Motors"
        ],
        [
         "BR0759",
         "Healey Motors"
        ],
        [
         "BR1383",
         "Nissan Motors"
        ],
        [
         "BR1664",
         "Rolls-Royce Motors"
        ],
        [
         "BR1769",
         "Seat Motors"
        ],
        [
         "BR2262",
         "Ramani Motors"
        ],
        [
         "BR2352",
         "Cadillac Automobile Company Building"
        ],
        [
         "BR0114",
         "Asia Motors Motors"
        ],
        [
         "BR0462",
         "DeSoto Motors"
        ],
        [
         "BR0699",
         "Gilbern Motors"
        ],
        [
         "BR0793",
         "Hindustan Motors"
        ],
        [
         "BR1479",
         "Panhard Motors"
        ],
        [
         "BR2275",
         "Deccan Motors"
        ],
        [
         "BR0138",
         "Audi Motors"
        ],
        [
         "BR0202",
         "Bond Motors"
        ],
        [
         "BR0700",
         "Gilbern Motors"
        ],
        [
         "BR0988",
         "Jensen Motors"
        ],
        [
         "BR9246",
         "Piaggio Motors"
        ],
        [
         "BR0095",
         "ARO Motors"
        ],
        [
         "BR0351",
         "Chrysler Europe Motors"
        ],
        [
         "BR0368",
         "Citroën Motors"
        ],
        [
         "BR0614",
         "Ford Australia Motors"
        ],
        [
         "BR1248",
         "Mercedes-Benz (including Maybach) Motors"
        ],
        [
         "BR1884",
         "Sunbeam Motors"
        ],
        [
         "BR2035",
         "Volkswagen do Brasil Motors"
        ],
        [
         "BR0070",
         "AMC, Eagle Motors"
        ],
        [
         "BR0251",
         "Austin, Rover Motors"
        ],
        [
         "BR0262",
         "Bugatti Motors"
        ],
        [
         "BR1243",
         "Mercedes-Benz (including Maybach) Motors"
        ],
        [
         "BR1289",
         "Mia Motors"
        ],
        [
         "BR1405",
         "Noble Motors"
        ],
        [
         "BR2033",
         "Volkswagen do Brasil Motors"
        ],
        [
         "BR2329",
         "Blankinship Motor Company Building"
        ],
        [
         "BR2385",
         "Claremore Auto Dealership"
        ],
        [
         "BR0130",
         "Aston Martin Motors"
        ],
        [
         "BR0891",
         "Innocenti Motors"
        ],
        [
         "BR1177",
         "Maruti Motors"
        ],
        [
         "BR1321",
         "Monica Motors"
        ],
        [
         "BR13626",
         "Deccan Motors"
        ],
        [
         "BR0064",
         "AMC, Eagle Motors"
        ],
        [
         "BR0673",
         "GAZ Motors"
        ],
        [
         "BR0685",
         "Geo Motors"
        ],
        [
         "BR0718",
         "Glas Motors"
        ],
        [
         "BR1298",
         "Micro Motors"
        ],
        [
         "BR1300",
         "Micro Motors"
        ],
        [
         "BR1347",
         "Morgan Motors"
        ],
        [
         "BR1373",
         "Naza Motors"
        ],
        [
         "BR2337",
         "Bohn Motor Company Automobile Dealership"
        ],
        [
         "BR0231",
         "British Leyland Motors"
        ],
        [
         "BR0895",
         "Innocenti Motors"
        ],
        [
         "BR1228",
         "Mazzanti Motors"
        ],
        [
         "BR1617",
         "Puma Motors"
        ],
        [
         "BR1637",
         "Reliant Motors"
        ],
        [
         "BR1680",
         "Saab Motors"
        ],
        [
         "BR1821",
         "Smart Motors"
        ],
        [
         "BR1940",
         "Tesla Motors"
        ],
        [
         "BR2391",
         "Clemens Automobile Company Building"
        ],
        [
         "BR2467",
         "Kindel Building"
        ],
        [
         "BR3186",
         "Elva Motors"
        ],
        [
         "BR5466",
         "Isdera Motors"
        ],
        [
         "BR9126",
         "Peugeot Motors"
        ],
        [
         "BR0104",
         "Artega Motors"
        ],
        [
         "BR0354",
         "Chrysler Europe Motors"
        ],
        [
         "BR0494",
         "Donkervoort Motors"
        ],
        [
         "BR0528",
         "Eicher Polaris Motors"
        ],
        [
         "BR1074",
         "Lexus Motors"
        ],
        [
         "BR1503",
         "Peel Motors"
        ],
        [
         "BR1718",
         "San Motors"
        ],
        [
         "BR1864",
         "Studebaker Motors"
        ],
        [
         "BR1993",
         "UAZ Motors"
        ],
        [
         "BR2217",
         "Riley  Motors"
        ],
        [
         "BR0682",
         "Geo Motors"
        ],
        [
         "BR0905",
         "Invicta Motors"
        ],
        [
         "BR10686",
         "Simca Motors"
        ],
        [
         "BR1325",
         "Monica Motors"
        ],
        [
         "BR1568",
         "Polestar Motors"
        ],
        [
         "BR1822",
         "Smart Motors"
        ],
        [
         "BR2154",
         "Maybach  Motors"
        ],
        [
         "BR0011",
         "Acura Motors"
        ],
        [
         "BR0115",
         "Asia Motors Motors"
        ],
        [
         "BR0223",
         "Bristol Motors"
        ],
        [
         "BR0490",
         "Dodge Motors"
        ],
        [
         "BR0625",
         "Ford do Brasil Motors"
        ],
        [
         "BR1111",
         "LTI Motors"
        ],
        [
         "BR1829",
         "Smart Motors"
        ],
        [
         "BR2277",
         "Deccan Motors"
        ],
        [
         "BR2369",
         "Casa de cadillac"
        ],
        [
         "BR6066",
         "Koenigsegg Motors"
        ],
        [
         "BR0512",
         "e.GO Mobile Motors"
        ],
        [
         "BR0584",
         "Fiat India Motors"
        ],
        [
         "BR1691",
         "Saleen Motors"
        ],
        [
         "BR1845",
         "SsangYong Motors"
        ],
        [
         "BR1932",
         "Tesla Motors"
        ],
        [
         "BR0360",
         "Chrysler Europe Motors"
        ],
        [
         "BR0388",
         "Dacia Motors"
        ],
        [
         "BR0486",
         "Ariel Motors"
        ],
        [
         "BR0811",
         "Honda Motors"
        ],
        [
         "BR1105",
         "Lotus Motors"
        ],
        [
         "BR1762",
         "Seat Motors"
        ],
        [
         "BR1768",
         "Seat Motors"
        ],
        [
         "BR1960",
         "Toyota Motors"
        ],
        [
         "BR2322",
         "Blankinship Motor Company Building"
        ],
        [
         "BR2412",
         "H Street Playhouse"
        ],
        [
         "BR2440",
         "Hupmobile Building"
        ],
        [
         "BR0058",
         "Alvis Motors"
        ],
        [
         "BR0447",
         "Delahaye Motors"
        ],
        [
         "BR0479",
         "De Tomaso Motors"
        ],
        [
         "BR0501",
         "Edsel Motors"
        ],
        [
         "BR0919",
         "Isdera Motors"
        ],
        [
         "BR1152",
         "Marcos Motors"
        ],
        [
         "BR2289",
         "Herald Motors"
        ],
        [
         "BR9426",
         "Pontiac, Asüna Motors"
        ],
        [
         "BR0027",
         "Aixam-Mega (including Arola) Motors"
        ],
        [
         "BR0411",
         "Daihatsu Motors"
        ],
        [
         "BR1140",
         "Lynx Motors"
        ],
        [
         "BR2087",
         "Zastava Motors"
        ],
        [
         "BR2155",
         "Maybach  Motors"
        ],
        [
         "BR2233",
         "Standard  Motors"
        ],
        [
         "BR5406",
         "Invicta Motors"
        ],
        [
         "BR0463",
         "DeSoto Motors"
        ],
        [
         "BR0606",
         "Artega Motors"
        ],
        [
         "BR0662",
         "FSO Motors"
        ],
        [
         "BR1180",
         "Maruti Motors"
        ],
        [
         "BR1380",
         "Naza Motors"
        ],
        [
         "BR13986",
         "Bohn Motor Company Automobile Dealership"
        ],
        [
         "BR1553",
         "Plymouth Motors"
        ],
        [
         "BR1789",
         "Simca Motors"
        ],
        [
         "BR1957",
         "Toyota Motors"
        ],
        [
         "BR2025",
         "Volkswagen Motors"
        ],
        [
         "BR2100",
         "ZAZ Motors"
        ],
        [
         "BR2378",
         "Cass Motor Sales"
        ],
        [
         "BR0089",
         "Ariel Motors"
        ],
        [
         "BR0608",
         "Ford America Motors"
        ],
        [
         "BR0941",
         "Isuzu Motors"
        ],
        [
         "BR1273",
         "Messerschmitt Motors"
        ],
        [
         "BR1860",
         "Standard-Triumph Motors"
        ],
        [
         "BR1888",
         "Sunbeam Motors"
        ],
        [
         "BR2142",
         "Wanderer Motors"
        ],
        [
         "BR2319",
         "2008 NRHP-listed"
        ],
        [
         "BR0264",
         "Bugatti Motors"
        ],
        [
         "BR0498",
         "Donkervoort Motors"
        ],
        [
         "BR0829",
         "Honda India Motors"
        ],
        [
         "BR0890",
         "Infiniti Motors"
        ],
        [
         "BR1044",
         "Lamborghini Motors"
        ],
        [
         "BR13746",
         "Zion Automobils"
        ],
        [
         "BR1398",
         "Nissan India Motors"
        ],
        [
         "BR1877",
         "Subaru Motors"
        ],
        [
         "BR1927",
         "Tazzari Motors"
        ],
        [
         "BR2410",
         "Colman Automotive Building"
        ],
        [
         "BR0534",
         "Elva Motors"
        ],
        [
         "BR1442",
         "Opel Motors"
        ],
        [
         "BR1722",
         "Santa Matilde Motors"
        ],
        [
         "BR1990",
         "TVR Motors"
        ],
        [
         "BR2070",
         "Westfield Motors"
        ],
        [
         "BR2204",
         "Austin  Motors"
        ],
        [
         "BR0204",
         "Bond Motors"
        ],
        [
         "BR0717",
         "Glas Motors"
        ],
        [
         "BR0947",
         "Isuzu Motors"
        ],
        [
         "BR0983",
         "Jensen Motors"
        ],
        [
         "BR1003",
         "Kia Motors"
        ],
        [
         "BR11706",
         "Toyota Motors"
        ],
        [
         "BR1232",
         "McLaren Motors"
        ],
        [
         "BR1688",
         "SAIC Motor Motors"
        ],
        [
         "BR1809",
         "Singer Motors"
        ],
        [
         "BR1968",
         "Toyota India Motors"
        ],
        [
         "BR2018",
         "Venturi Motors"
        ],
        [
         "BR2022",
         "Volkswagen Motors"
        ],
        [
         "BR2226",
         "Cizeta-Moroder Motors"
        ],
        [
         "BR0235",
         "British Leyland Motors"
        ],
        [
         "BR0634",
         "Ford Europe Motors"
        ],
        [
         "BR0889",
         "Infiniti Motors"
        ],
        [
         "BR1318",
         "Mitsubishi Motors"
        ],
        [
         "BR1626",
         "Buick Motors"
        ],
        [
         "BR2267",
         "Ramani Motors"
        ],
        [
         "BR0591",
         "Fisker, Karma Motors"
        ],
        [
         "BR0642",
         "Ford India Motors"
        ],
        [
         "BR0930",
         "Iso Motors"
        ],
        [
         "BR1027",
         "KTM Motors"
        ],
        [
         "BR1065",
         "Land Rover Motors"
        ],
        [
         "BR1382",
         "Nissan Motors"
        ],
        [
         "BR1749",
         "Saturn Motors"
        ],
        [
         "BR2433",
         "Hupmobile Building"
        ],
        [
         "BR8406",
         "Noble Motors"
        ],
        [
         "BR0040",
         "Alfa Romeo Motors"
        ],
        [
         "BR0218",
         "Borgward (including Goliath and Lloyd) Motors"
        ],
        [
         "BR0337",
         "Chevrolet India Motors"
        ],
        [
         "BR1162",
         "Marlin Motors"
        ],
        [
         "BR0082",
         "Ariel Motors"
        ],
        [
         "BR0164",
         "Auverland Motors"
        ],
        [
         "BR0598",
         "Fisker, Karma Motors"
        ],
        [
         "BR0735",
         "GTA Spano Motors"
        ],
        [
         "BR1063",
         "Land Rover Motors"
        ],
        [
         "BR1579",
         "Pontiac, Asüna Motors"
        ],
        [
         "BR2149",
         "Wanderer Motors"
        ],
        [
         "BR2168",
         "Izh  Motors"
        ],
        [
         "BR0279",
         "Buick Motors"
        ],
        [
         "BR0884",
         "Infiniti Motors"
        ],
        [
         "BR1048",
         "Lamborghini Motors"
        ],
        [
         "BR1094",
         "Lincoln Motors"
        ],
        [
         "BR1292",
         "Micro Motors"
        ],
        [
         "BR1323",
         "Monica Motors"
        ],
        [
         "BR1395",
         "Nissan India Motors"
        ],
        [
         "BR1424",
         "Oldsmobile Motors"
        ],
        [
         "BR1477",
         "Panhard Motors"
        ],
        [
         "BR1670",
         "Rolls-Royce Motors"
        ],
        [
         "BR1708",
         "Samsung Motors"
        ],
        [
         "BR2039",
         "Volkswagen do Brasil Motors"
        ],
        [
         "BR2404",
         "Colman Automotive Building"
        ],
        [
         "BR0270",
         "Bugatti Motors"
        ],
        [
         "BR0275",
         "Buick Motors"
        ],
        [
         "BR0378",
         "Cizeta-Moroder Motors"
        ],
        [
         "BR0405",
         "DAF Motors"
        ],
        [
         "BR0592",
         "Fisker, Karma Motors"
        ],
        [
         "BR0881",
         "Infiniti Motors"
        ],
        [
         "BR0963",
         "Jaguar Motors"
        ],
        [
         "BR1320",
         "Mitsubishi Motors"
        ],
        [
         "BR1531",
         "PGO Motors"
        ],
        [
         "BR1612",
         "Puma Motors"
        ],
        [
         "BR1873",
         "Subaru Motors"
        ],
        [
         "BR2077",
         "Wiesmann Motors"
        ],
        [
         "BR2143",
         "Wanderer Motors"
        ],
        [
         "BR2223",
         "Wolseley  Motors"
        ],
        [
         "BR0509",
         "Edsel Motors"
        ],
        [
         "BR1267",
         "Merkur Motors"
        ],
        [
         "BR2225",
         "Wolseley  Motors"
        ],
        [
         "BR0168",
         "Auverland Motors"
        ],
        [
         "BR0318",
         "Checker Motors"
        ],
        [
         "BR0362",
         "Citroën Motors"
        ],
        [
         "BR0562",
         "Fiat Motors"
        ],
        [
         "BR0738",
         "GTA Spano Motors"
        ],
        [
         "BR0805",
         "Holden Motors"
        ],
        [
         "BR0934",
         "Isotta Fraschini Motors"
        ],
        [
         "BR1051",
         "Lancia Motors"
        ],
        [
         "BR11466",
         "Tatra Motors"
        ],
        [
         "BR1192",
         "Mastretta Motors"
        ],
        [
         "BR1746",
         "Cadillac Motors"
        ],
        [
         "BR1830",
         "Smart Motors"
        ],
        [
         "BR2297",
         "Zion Automobils"
        ],
        [
         "BR8046",
         "Morgan Motors"
        ],
        [
         "BR0037",
         "Alfa Romeo Motors"
        ],
        [
         "BR0268",
         "Bugatti Motors"
        ],
        [
         "BR0367",
         "Citroën Motors"
        ],
        [
         "BR1212",
         "Mazda Motors"
        ],
        [
         "BR13806",
         "Atlantic Motor Company"
        ],
        [
         "BR1491",
         "Panther Motors"
        ],
        [
         "BR1750",
         "Saturn Motors"
        ],
        [
         "BR1820",
         "Skoda Motors"
        ],
        [
         "BR2037",
         "Volkswagen do Brasil Motors"
        ],
        [
         "BR2248",
         "Talbot  Motors"
        ],
        [
         "BR2280",
         "Deccan Motors"
        ],
        [
         "BR7926",
         "Monica Motors"
        ],
        [
         "BR1149",
         "Mahindra Motors"
        ],
        [
         "BR1449",
         "Opel Motors"
        ],
        [
         "BR6786",
         "Lynx Motors"
        ],
        [
         "BR0059",
         "Alvis Motors"
        ],
        [
         "BR0497",
         "Donkervoort Motors"
        ],
        [
         "BR0561",
         "Fiat Motors"
        ],
        [
         "BR0933",
         "Isotta Fraschini Motors"
        ],
        [
         "BR1164",
         "Marlin Motors"
        ],
        [
         "BR11946",
         "UAZ Motors"
        ],
        [
         "BR1399",
         "Nissan India Motors"
        ],
        [
         "BR1414",
         "NSU Motors"
        ],
        [
         "BR1935",
         "Tesla Motors"
        ],
        [
         "BR2210",
         "Austin  Motors"
        ],
        [
         "BR3306",
         "Ferrari Motors"
        ],
        [
         "BR3546",
         "Fisker, Karma Motors"
        ],
        [
         "BR0075",
         "Anadol Motors"
        ],
        [
         "BR0135",
         "Audi Motors"
        ],
        [
         "BR0163",
         "Auverland Motors"
        ],
        [
         "BR0491",
         "Donkervoort Motors"
        ],
        [
         "BR0647",
         "Ford India Motors"
        ],
        [
         "BR0765",
         "Heinkel Motors"
        ],
        [
         "BR10206",
         "Samsung Motors"
        ],
        [
         "BR1353",
         "Moskwitch Motors"
        ],
        [
         "BR1561",
         "Polestar Motors"
        ],
        [
         "BR1828",
         "Smart Motors"
        ],
        [
         "BR2062",
         "Westfield Motors"
        ],
        [
         "BR2084",
         "Zastava Motors"
        ],
        [
         "BR2383",
         "Claremore Auto Dealership"
        ],
        [
         "BR0451",
         "DeLorean Motors"
        ],
        [
         "BR0701",
         "Ginetta Motors"
        ],
        [
         "BR0786",
         "Audi Motors"
        ],
        [
         "BR1293",
         "Micro Motors"
        ],
        [
         "BR2191",
         "Morris  Motors"
        ],
        [
         "BR4146",
         "Gilbern Motors"
        ],
        [
         "BR0285",
         "Bytom Motors"
        ],
        [
         "BR0525",
         "Eicher Polaris Motors"
        ],
        [
         "BR0714",
         "Glas Motors"
        ],
        [
         "BR1452",
         "Packard Motors"
        ],
        [
         "BR1660",
         "Rivian Motors"
        ],
        [
         "BR2244",
         "Talbot  Motors"
        ],
        [
         "BR5646",
         "Isuzu Motors"
        ],
        [
         "BR0575",
         "Fiat do Brasil Motors"
        ],
        [
         "BR0803",
         "Holden Motors"
        ],
        [
         "BR1195",
         "Mastretta Motors"
        ],
        [
         "BR1279",
         "Messerschmitt Motors"
        ],
        [
         "BR1844",
         "SsangYong Motors"
        ],
        [
         "BR2221",
         "Wolseley  Motors"
        ],
        [
         "BR0553",
         "Ferrari Motors"
        ],
        [
         "BR0579",
         "Fiat do Brasil Motors"
        ],
        [
         "BR0841",
         "Humber Motors"
        ],
        [
         "BR1045",
         "Lamborghini Motors"
        ],
        [
         "BR1112",
         "LTI Motors"
        ],
        [
         "BR12186",
         "Volkswagen do Brasil Motors"
        ],
        [
         "BR12366",
         "Westfield Motors"
        ],
        [
         "BR1460",
         "Packard Motors"
        ],
        [
         "BR1597",
         "Premier Motors"
        ],
        [
         "BR2192",
         "Morris  Motors"
        ],
        [
         "BR0158",
         "Auto-Union Motors"
        ],
        [
         "BR0243",
         "Austin-Healey Motors"
        ],
        [
         "BR0298",
         "Cadillac Motors"
        ],
        [
         "BR0771",
         "Hennessey Motors"
        ],
        [
         "BR0857",
         "Hummer Motors"
        ],
        [
         "BR1155",
         "Marcos Motors"
        ],
        [
         "BR12786",
         "Horch Motors"
        ],
        [
         "BR12966",
         "Izh  Motors"
        ],
        [
         "BR2185",
         "MG  Motors"
        ],
        [
         "BR7446",
         "Mercedes-Benz (including Maybach) Motors"
        ],
        [
         "BR0172",
         "Bentley Motors"
        ],
        [
         "BR0392",
         "Daewoo, Saehan, Chevrolet Korea Motors"
        ],
        [
         "BR0943",
         "Isuzu Motors"
        ],
        [
         "BR1047",
         "Lamborghini Motors"
        ],
        [
         "BR14706",
         "Jones Motor Company"
        ],
        [
         "BR1598",
         "Premier Motors"
        ],
        [
         "BR1755",
         "Scion Motors"
        ],
        [
         "BR2005",
         "Vauxhall Motors"
        ],
        [
         "BR2188",
         "MG  Motors"
        ],
        [
         "BR0017",
         "Acura Motors"
        ],
        [
         "BR0651",
         "Freightliner Motors"
        ],
        [
         "BR0900",
         "Innocenti Motors"
        ],
        [
         "BR1288",
         "Mia Motors"
        ],
        [
         "BR1330",
         "Monica Motors"
        ],
        [
         "BR1390",
         "Nissan Motors"
        ],
        [
         "BR1862",
         "Studebaker Motors"
        ],
        [
         "BR1871",
         "Subaru Motors"
        ],
        [
         "BR1939",
         "Tesla Motors"
        ],
        [
         "BR1951",
         "Toyota Motors"
        ],
        [
         "BR2083",
         "Zastava Motors"
        ],
        [
         "BR2415",
         "H Street Playhouse"
        ],
        [
         "BR4086",
         "Geo Motors"
        ],
        [
         "BR0708",
         "Ginetta Motors"
        ],
        [
         "BR0801",
         "Holden Motors"
        ],
        [
         "BR1220",
         "Mazda Motors"
        ],
        [
         "BR1369",
         "Nash Motors"
        ],
        [
         "BR1384",
         "Nissan Motors"
        ],
        [
         "BR1464",
         "Pagani Motors"
        ],
        [
         "BR1778",
         "Shelby SuperCars Motors"
        ],
        [
         "BR2097",
         "ZAZ Motors"
        ],
        [
         "BR1438",
         "Oltcit Motors"
        ],
        [
         "BR1461",
         "Pagani Motors"
        ],
        [
         "BR1771",
         "Shelby SuperCars Motors"
        ],
        [
         "BR2445",
         "Jennings Ford Automobile Dealership"
        ],
        [
         "BR2449",
         "Jennings Ford Automobile Dealership"
        ],
        [
         "BR2706",
         "DeLorean Motors"
        ],
        [
         "BR0347",
         "Chrysler Motors"
        ],
        [
         "BR0353",
         "Chrysler Europe Motors"
        ],
        [
         "BR0604",
         "Ford America Motors"
        ],
        [
         "BR0770",
         "Heinkel Motors"
        ],
        [
         "BR1632",
         "Reliant Motors"
        ],
        [
         "BR2420",
         "H Street Playhouse"
        ],
        [
         "BR4986",
         "Hudson Motors"
        ],
        [
         "BR0980",
         "Jeep Motors"
        ],
        [
         "BR1861",
         "Studebaker Motors"
        ],
        [
         "BR1991",
         "UAZ Motors"
        ],
        [
         "BR2308",
         "Atlantic Motor Company"
        ],
        [
         "BR2452",
         "Jones Motor Company"
        ],
        [
         "BR6486",
         "Ligier Motors"
        ],
        [
         "BR0225",
         "Bristol Motors"
        ],
        [
         "BR0269",
         "Bugatti Motors"
        ],
        [
         "BR0300",
         "Cadillac Motors"
        ],
        [
         "BR0415",
         "Daihatsu Motors"
        ],
        [
         "BR0732",
         "GTA Spano Motors"
        ],
        [
         "BR0927",
         "Iso Motors"
        ],
        [
         "BR1608",
         "Proton Motors"
        ],
        [
         "BR1913",
         "Tatra Motors"
        ],
        [
         "BR1917",
         "Tatra Motors"
        ],
        [
         "BR2047",
         "Volkswagen South Africa Motors"
        ],
        [
         "BR2179",
         "Lagonda  Motors"
        ],
        [
         "BR2237",
         "Standard  Motors"
        ],
        [
         "BR2946",
         "Donkervoort Motors"
        ],
        [
         "BR0001",
         "AC Cars Motors"
        ],
        [
         "BR0018",
         "Acura Motors"
        ],
        [
         "BR0304",
         "Caterham Motors"
        ],
        [
         "BR0407",
         "DAF Motors"
        ],
        [
         "BR0960",
         "Iveco Motors"
        ],
        [
         "BR0989",
         "Jensen Motors"
        ],
        [
         "BR10326",
         "Santa Matilde Motors"
        ],
        [
         "BR1418",
         "NSU Motors"
        ],
        [
         "BR1600",
         "Premier Motors"
        ],
        [
         "BR1757",
         "Scion Motors"
        ],
        [
         "BR1931",
         "Tesla Motors"
        ],
        [
         "BR2072",
         "Wiesmann Motors"
        ],
        [
         "BR2117",
         "Audi Motors"
        ],
        [
         "BR7746",
         "Micro Motors"
        ],
        [
         "BR0013",
         "Acura Motors"
        ],
        [
         "BR0182",
         "Bitter Motors"
        ],
        [
         "BR0219",
         "Borgward (including Goliath and Lloyd) Motors"
        ],
        [
         "BR0252",
         "Austin, Rover Motors"
        ],
        [
         "BR0363",
         "Citroën Motors"
        ],
        [
         "BR0792",
         "Hindustan Motors"
        ],
        [
         "BR0877",
         "IFA (including Trabant, Wartburg, Barkas) Motors"
        ],
        [
         "BR0888",
         "Infiniti Motors"
        ],
        [
         "BR0972",
         "Jeep Motors"
        ],
        [
         "BR12006",
         "Vauxhall Motors"
        ],
        [
         "BR1547",
         "Piaggio Motors"
        ],
        [
         "BR2061",
         "Westfield Motors"
        ],
        [
         "BR2158",
         "Maybach  Motors"
        ],
        [
         "BR2252",
         "Das Motors"
        ],
        [
         "BR2377",
         "Cass Motor Sales"
        ],
        [
         "BR0505",
         "Edsel Motors"
        ],
        [
         "BR10986",
         "Spyker Motors"
        ],
        [
         "BR1351",
         "Moskwitch Motors"
        ],
        [
         "BR1549",
         "Piaggio Motors"
        ],
        [
         "BR1604",
         "Proton Motors"
        ],
        [
         "BR1677",
         "Saab Motors"
        ],
        [
         "BR1840",
         "Spyker Motors"
        ],
        [
         "BR1863",
         "Studebaker Motors"
        ],
        [
         "BR1919",
         "Tatra Motors"
        ],
        [
         "BR2147",
         "Wanderer Motors"
        ],
        [
         "BR2160",
         "Maybach  Motors"
        ],
        [
         "BR2293",
         "Zion Automobils"
        ],
        [
         "BR2406",
         "DAF Motors"
        ],
        [
         "BR8106",
         "Moskwitch Motors"
        ],
        [
         "BR0531",
         "Elva Motors"
        ],
        [
         "BR0691",
         "Gilbern Motors"
        ],
        [
         "BR0828",
         "Honda India Motors"
        ],
        [
         "BR10566",
         "Seat Motors"
        ],
        [
         "BR1067",
         "Land Rover Motors"
        ],
        [
         "BR1812",
         "Skoda Motors"
        ],
        [
         "BR1910",
         "Tata Motors"
        ],
        [
         "BR2291",
         "Zion Automobils"
        ],
        [
         "BR7866",
         "Mitsubishi Motors"
        ],
        [
         "BR1270",
         "Merkur Motors"
        ],
        [
         "BR13926",
         "Blankinship Motor Company Building"
        ],
        [
         "BR1984",
         "TVR Motors"
        ],
        [
         "BR2050",
         "Volkswagen South Africa Motors"
        ],
        [
         "BR2213",
         "Riley  Motors"
        ],
        [
         "BR2360",
         "Cadillac Automobile Company Building"
        ],
        [
         "BR2646",
         "Delahaye Motors"
        ],
        [
         "BR5046",
         "Humber Motors"
        ],
        [
         "BR0065",
         "AMC, Eagle Motors"
        ],
        [
         "BR0313",
         "Checker Motors"
        ],
        [
         "BR0393",
         "Daewoo, Saehan, Chevrolet Korea Motors"
        ],
        [
         "BR0802",
         "Holden Motors"
        ],
        [
         "BR1413",
         "NSU Motors"
        ],
        [
         "BR1681",
         "SAIC Motor Motors"
        ],
        [
         "BR1735",
         "Santana Motors"
        ],
        [
         "BR1752",
         "Scion Motors"
        ],
        [
         "BR2064",
         "Westfield Motors"
        ],
        [
         "BR2125",
         "DKW Motors"
        ],
        [
         "BR0189",
         "Bitter Motors"
        ],
        [
         "BR0513",
         "e.GO Mobile Motors"
        ],
        [
         "BR0544",
         "Facel Vega Motors"
        ],
        [
         "BR0775",
         "Hennessey Motors"
        ],
        [
         "BR1445",
         "Opel Motors"
        ],
        [
         "BR1654",
         "Rivian Motors"
        ],
        [
         "BR1743",
         "Saturn Motors"
        ],
        [
         "BR2046",
         "Chrysler Motors"
        ],
        [
         "BR2138",
         "Horch Motors"
        ],
        [
         "BR0006",
         "AC Cars Motors"
        ],
        [
         "BR0139",
         "Audi Motors"
        ],
        [
         "BR0649",
         "Ford India Motors"
        ],
        [
         "BR1050",
         "Lamborghini Motors"
        ],
        [
         "BR1071",
         "Lexus Motors"
        ],
        [
         "BR12486",
         "Zastava Motors"
        ],
        [
         "BR1307",
         "Mini Motors"
        ],
        [
         "BR1661",
         "Rolls-Royce Motors"
        ],
        [
         "BR1832",
         "Spyker Motors"
        ],
        [
         "BR1934",
         "Tesla Motors"
        ],
        [
         "BR2065",
         "Westfield Motors"
        ],
        [
         "BR2129",
         "DKW Motors"
        ],
        [
         "BR2441",
         "Jennings Ford Automobile Dealership"
        ],
        [
         "BR0153",
         "Auto-Union Motors"
        ],
        [
         "BR0968",
         "Jaguar Motors"
        ],
        [
         "BR11586",
         "Tesla Motors"
        ],
        [
         "BR1255",
         "Mercury Motors"
        ],
        [
         "BR1402",
         "Noble Motors"
        ],
        [
         "BR1965",
         "Toyota India Motors"
        ],
        [
         "BR1969",
         "Toyota India Motors"
        ],
        [
         "BR2085",
         "Zastava Motors"
        ],
        [
         "BR2288",
         "Herald Motors"
        ],
        [
         "BR5706",
         "Iveco Motors"
        ],
        [
         "BR0461",
         "DeSoto Motors"
        ],
        [
         "BR0568",
         "Fiat Motors"
        ],
        [
         "BR0666",
         "Asia Motors Motors"
        ],
        [
         "BR0773",
         "Hennessey Motors"
        ],
        [
         "BR0852",
         "Hummer Motors"
        ],
        [
         "BR1322",
         "Monica Motors"
        ],
        [
         "BR0032",
         "Alfa Romeo Motors"
        ],
        [
         "BR0212",
         "Borgward (including Goliath and Lloyd) Motors"
        ],
        [
         "BR0728",
         "GMC Motors"
        ],
        [
         "BR0861",
         "Hyundai Motors"
        ],
        [
         "BR0868",
         "Hyundai Motors"
        ],
        [
         "BR0966",
         "Auverland Motors"
        ],
        [
         "BR1182",
         "Maserati Motors"
        ],
        [
         "BR0762",
         "Heinkel Motors"
        ],
        [
         "BR13506",
         "Das Motors"
        ],
        [
         "BR14586",
         "Hupmobile Building"
        ],
        [
         "BR1628",
         "Ranger Motors"
        ],
        [
         "BR1658",
         "Rivian Motors"
        ],
        [
         "BR1711",
         "San Motors"
        ],
        [
         "BR1763",
         "Seat Motors"
        ],
        [
         "BR1989",
         "TVR Motors"
        ],
        [
         "BR2468",
         "Kindel Building"
        ],
        [
         "BR0031",
         "Alfa Romeo Motors"
        ],
        [
         "BR0121",
         "Aston Martin Motors"
        ],
        [
         "BR0171",
         "Bentley Motors"
        ],
        [
         "BR0500",
         "Donkervoort Motors"
        ],
        [
         "BR0638",
         "Ford Europe Motors"
        ],
        [
         "BR0650",
         "Ford India Motors"
        ],
        [
         "BR1017",
         "Koenigsegg Motors"
        ],
        [
         "BR10746",
         "Simca do Brasil Motors"
        ],
        [
         "BR1263",
         "Merkur Motors"
        ],
        [
         "BR1403",
         "Noble Motors"
        ],
        [
         "BR1947",
         "Tornado Motors"
        ],
        [
         "BR2447",
         "Jennings Ford Automobile Dealership"
        ],
        [
         "BR3246",
         "Facel Vega Motors"
        ],
        [
         "BR0169",
         "Auverland Motors"
        ],
        [
         "BR0517",
         "e.GO Mobile Motors"
        ],
        [
         "BR0911",
         "Isdera Motors"
        ],
        [
         "BR1197",
         "Mastretta Motors"
        ],
        [
         "BR1525",
         "Peugeot Motors"
        ],
        [
         "BR1529",
         "Peugeot Motors"
        ],
        [
         "BR1564",
         "Polestar Motors"
        ],
        [
         "BR1577",
         "Pontiac, Asüna Motors"
        ],
        [
         "BR1592",
         "Premier Motors"
        ],
        [
         "BR1855",
         "Standard-Triumph Motors"
        ],
        [
         "BR2150",
         "Wanderer Motors"
        ],
        [
         "BR0315",
         "Checker Motors"
        ],
        [
         "BR0408",
         "DAF Motors"
        ],
        [
         "BR0502",
         "Edsel Motors"
        ],
        [
         "BR0504",
         "Edsel Motors"
        ],
        [
         "BR0572",
         "Fiat do Brasil Motors"
        ],
        [
         "BR0617",
         "Ford Australia Motors"
        ],
        [
         "BR0794",
         "Hindustan Motors"
        ],
        [
         "BR0849",
         "Humber Motors"
        ],
        [
         "BR0958",
         "Iveco Motors"
        ],
        [
         "BR0995",
         "JPX Motors"
        ],
        [
         "BR13026",
         "Lagonda  Motors"
        ],
        [
         "BR1574",
         "Pontiac, Asüna Motors"
        ],
        [
         "BR1594",
         "Premier Motors"
        ],
        [
         "BR1731",
         "Santana Motors"
        ],
        [
         "BR1944",
         "Tornado Motors"
        ],
        [
         "BR2115",
         "Audi Motors"
        ],
        [
         "BR0125",
         "Aston Martin Motors"
        ],
        [
         "BR0297",
         "Cadillac Motors"
        ],
        [
         "BR0372",
         "Cizeta-Moroder Motors"
        ],
        [
         "BR0798",
         "Hindustan Motors"
        ],
        [
         "BR0939",
         "Isotta Fraschini Motors"
        ],
        [
         "BR1302",
         "Mini Motors"
        ],
        [
         "BR1377",
         "Naza Motors"
        ],
        [
         "BR14226",
         "Cass Motor Sales"
        ],
        [
         "BR14526",
         "Howard Motor Company Building"
        ],
        [
         "BR1463",
         "Pagani Motors"
        ],
        [
         "BR1473",
         "Panhard Motors"
        ],
        [
         "BR1952",
         "Toyota Motors"
        ],
        [
         "BR2021",
         "Volkswagen Motors"
        ],
        [
         "BR5886",
         "Jensen Motors"
        ],
        [
         "BR0053",
         "Alvis Motors"
        ],
        [
         "BR0054",
         "Alvis Motors"
        ],
        [
         "BR0514",
         "e.GO Mobile Motors"
        ],
        [
         "BR0744",
         "Gumpert Motors"
        ],
        [
         "BR1012",
         "Koenigsegg Motors"
        ],
        [
         "BR1159",
         "Marcos Motors"
        ],
        [
         "BR1444",
         "Opel Motors"
        ],
        [
         "BR1721",
         "Santa Matilde Motors"
        ],
        [
         "BR1753",
         "Scion Motors"
        ],
        [
         "BR2090",
         "Zastava Motors"
        ],
        [
         "BR2399",
         "Clemens Automobile Company Building"
        ],
        [
         "BR0140",
         "Audi Motors"
        ],
        [
         "BR0690",
         "Geo Motors"
        ],
        [
         "BR0922",
         "Iso Motors"
        ],
        [
         "BR1349",
         "Morgan Motors"
        ],
        [
         "BR1737",
         "Santana Motors"
        ],
        [
         "BR1949",
         "Tornado Motors"
        ],
        [
         "BR4806",
         "Holden Motors"
        ],
        [
         "BR5826",
         "Jeep Motors"
        ],
        [
         "BR8646",
         "Opel Motors"
        ],
        [
         "BR0352",
         "Chrysler Europe Motors"
        ],
        [
         "BR0458",
         "DeLorean Motors"
        ],
        [
         "BR0784",
         "Hillman Motors"
        ],
        [
         "BR1230",
         "Mazzanti Motors"
        ],
        [
         "BR1425",
         "Oldsmobile Motors"
        ],
        [
         "BR1967",
         "Toyota India Motors"
        ],
        [
         "BR2091",
         "ZAZ Motors"
        ],
        [
         "BR2429",
         "Howard Motor Company Building"
        ],
        [
         "BR5346",
         "Innocenti Motors"
        ],
        [
         "BR0144",
         "Autobianchi Motors"
        ],
        [
         "BR1098",
         "Lincoln Motors"
        ],
        [
         "BR1239",
         "McLaren Motors"
        ],
        [
         "BR1747",
         "Saturn Motors"
        ],
        [
         "BR1849",
         "SsangYong Motors"
        ],
        [
         "BR2464",
         "Kindel Building"
        ],
        [
         "BR9186",
         "PGO Motors"
        ],
        [
         "BR0068",
         "AMC, Eagle Motors"
        ],
        [
         "BR0291",
         "Cadillac Motors"
        ],
        [
         "BR0452",
         "DeLorean Motors"
        ],
        [
         "BR0672",
         "GAZ Motors"
        ],
        [
         "BR0688",
         "Geo Motors"
        ],
        [
         "BR0778",
         "Hennessey Motors"
        ],
        [
         "BR10506",
         "Scion Motors"
        ],
        [
         "BR1208",
         "Matra (including Deutsch-Bonnet, René Bonnet) Motors"
        ],
        [
         "BR1290",
         "Mia Motors"
        ],
        [
         "BR1343",
         "Morgan Motors"
        ],
        [
         "BR1541",
         "Piaggio Motors"
        ],
        [
         "BR1915",
         "Tatra Motors"
        ],
        [
         "BR2048",
         "Volkswagen South Africa Motors"
        ],
        [
         "BR2455",
         "Jones Motor Company"
        ],
        [
         "BR2470",
         "Kindel Building"
        ],
        [
         "BR0092",
         "ARO Motors"
        ],
        [
         "BR0111",
         "Asia Motors Motors"
        ],
        [
         "BR0383",
         "Dacia Motors"
        ],
        [
         "BR0423",
         "Daimler Motors"
        ],
        [
         "BR0713",
         "Glas Motors"
        ],
        [
         "BR0817",
         "Honda Motors"
        ],
        [
         "BR0928",
         "Iso Motors"
        ],
        [
         "BR0993",
         "JPX Motors"
        ],
        [
         "BR1061",
         "Land Rover Motors"
        ],
        [
         "BR1301",
         "Mini Motors"
        ],
        [
         "BR1605",
         "Proton Motors"
        ],
        [
         "BR2075",
         "Wiesmann Motors"
        ],
        [
         "BR2161",
         "Izh  Motors"
        ],
        [
         "BR2178",
         "Lagonda  Motors"
        ],
        [
         "BR0014",
         "Acura Motors"
        ],
        [
         "BR0232",
         "British Leyland Motors"
        ],
        [
         "BR0271",
         "Buick Motors"
        ],
        [
         "BR0559",
         "Ferrari Motors"
        ],
        [
         "BR0707",
         "Ginetta Motors"
        ],
        [
         "BR0722",
         "GMC Motors"
        ],
        [
         "BR0918",
         "Isdera Motors"
        ],
        [
         "BR1163",
         "Marlin Motors"
        ],
        [
         "BR1615",
         "Puma Motors"
        ],
        [
         "BR2123",
         "DKW Motors"
        ],
        [
         "BR2437",
         "Hupmobile Building"
        ],
        [
         "BR2443",
         "Jennings Ford Automobile Dealership"
        ],
        [
         "BR0101",
         "Artega Motors"
        ],
        [
         "BR0112",
         "Asia Motors Motors"
        ],
        [
         "BR0222",
         "Bristol Motors"
        ],
        [
         "BR0230",
         "Bristol Motors"
        ],
        [
         "BR1015",
         "Koenigsegg Motors"
        ],
        [
         "BR1141",
         "Mahindra Motors"
        ],
        [
         "BR1358",
         "Moskwitch Motors"
        ],
        [
         "BR1922",
         "Tazzari Motors"
        ],
        [
         "BR2402",
         "Colman Automotive Building"
        ],
        [
         "BR0552",
         "Ferrari Motors"
        ],
        [
         "BR0658",
         "Freightliner Motors"
        ],
        [
         "BR0859",
         "Hummer Motors"
        ],
        [
         "BR1310",
         "Mini Motors"
        ],
        [
         "BR1391",
         "Nissan India Motors"
        ],
        [
         "BR1714",
         "San Motors"
        ],
        [
         "BR1945",
         "Tornado Motors"
        ],
        [
         "BR2263",
         "Ramani Motors"
        ],
        [
         "BR0069",
         "AMC, Eagle Motors"
        ],
        [
         "BR0198",
         "BMW Motors"
        ],
        [
         "BR0621",
         "Ford do Brasil Motors"
        ],
        [
         "BR0997",
         "JPX Motors"
        ],
        [
         "BR1215",
         "Mazda Motors"
        ],
        [
         "BR1407",
         "Noble Motors"
        ],
        [
         "BR2024",
         "Volkswagen Motors"
        ],
        [
         "BR0863",
         "Hyundai Motors"
        ],
        [
         "BR0967",
         "Jaguar Motors"
        ],
        [
         "BR1412",
         "NSU Motors"
        ],
        [
         "BR1435",
         "Oltcit Motors"
        ],
        [
         "BR1710",
         "Samsung Motors"
        ],
        [
         "BR1929",
         "Tazzari Motors"
        ],
        [
         "BR2134",
         "Horch Motors"
        ],
        [
         "BR2230",
         "Wolseley  Motors"
        ],
        [
         "BR2295",
         "Zion Automobils"
        ],
        [
         "BR4446",
         "Gumpert Motors"
        ],
        [
         "BR0519",
         "e.GO Mobile Motors"
        ],
        [
         "BR0660",
         "Freightliner Motors"
        ],
        [
         "BR11106",
         "Standard-Triumph Motors"
        ],
        [
         "BR1404",
         "Noble Motors"
        ],
        [
         "BR1869",
         "Studebaker Motors"
        ],
        [
         "BR1880",
         "Subaru Motors"
        ],
        [
         "BR2071",
         "Wiesmann Motors"
        ],
        [
         "BR2232",
         "Standard  Motors"
        ],
        [
         "BR2427",
         "Howard Motor Company Building"
        ],
        [
         "BR4746",
         "Hindustan Motors"
        ],
        [
         "BR0044",
         "Alpine Motors"
        ],
        [
         "BR0539",
         "Elva Motors"
        ],
        [
         "BR1093",
         "Lincoln Motors"
        ],
        [
         "BR1241",
         "Mercedes-Benz (including Maybach) Motors"
        ],
        [
         "BR1408",
         "Noble Motors"
        ],
        [
         "BR14766",
         "Kindel Building"
        ],
        [
         "BR1689",
         "SAIC Motor Motors"
        ],
        [
         "BR1700",
         "Saleen Motors"
        ],
        [
         "BR2372",
         "Cass Motor Sales"
        ],
        [
         "BR0129",
         "Aston Martin Motors"
        ],
        [
         "BR0211",
         "Borgward (including Goliath and Lloyd) Motors"
        ],
        [
         "BR0321",
         "Chevrolet Motors"
        ],
        [
         "BR0433",
         "Datsun Motors"
        ],
        [
         "BR0607",
         "Ford America Motors"
        ],
        [
         "BR0764",
         "Heinkel Motors"
        ],
        [
         "BR0984",
         "Jensen Motors"
        ],
        [
         "BR2159",
         "Maybach  Motors"
        ],
        [
         "BR0009",
         "AC Cars Motors"
        ],
        [
         "BR0783",
         "Hillman Motors"
        ],
        [
         "BR0878",
         "IFA (including Trabant, Wartburg, Barkas) Motors"
        ],
        [
         "BR1483",
         "Panoz Motors"
        ],
        [
         "BR2171",
         "Lagonda  Motors"
        ],
        [
         "BR2323",
         "Blankinship Motor Company Building"
        ],
        [
         "BR2362",
         "Casa de cadillac"
        ],
        [
         "BR0254",
         "Austin, Rover Motors"
        ],
        [
         "BR0823",
         "Honda India Motors"
        ],
        [
         "BR14166",
         "Casa de cadillac"
        ],
        [
         "BR1540",
         "PGO Motors"
        ],
        [
         "BR1613",
         "Puma Motors"
        ],
        [
         "BR1892",
         "Suzuki Motors"
        ],
        [
         "BR1948",
         "Tornado Motors"
        ],
        [
         "BR1959",
         "Toyota Motors"
        ],
        [
         "BR2106",
         "Chrysler Europe Motors"
        ],
        [
         "BR7386",
         "McLaren Motors"
        ],
        [
         "BR0021",
         "Aixam-Mega (including Arola) Motors"
        ],
        [
         "BR0385",
         "Dacia Motors"
        ],
        [
         "BR1083",
         "Ligier Motors"
        ],
        [
         "BR1179",
         "Maruti Motors"
        ],
        [
         "BR1240",
         "McLaren Motors"
        ],
        [
         "BR14406",
         "Colman Automotive Building"
        ],
        [
         "BR2017",
         "Venturi Motors"
        ],
        [
         "BR2428",
         "Howard Motor Company Building"
        ],
        [
         "BR0195",
         "BMW Motors"
        ],
        [
         "BR0247",
         "Austin-Healey Motors"
        ],
        [
         "BR0709",
         "Ginetta Motors"
        ],
        [
         "BR0710",
         "Ginetta Motors"
        ],
        [
         "BR1671",
         "Saab Motors"
        ],
        [
         "BR2407",
         "Colman Automotive Building"
        ],
        [
         "BR0328",
         "Chevrolet Motors"
        ],
        [
         "BR0350",
         "Chrysler Motors"
        ],
        [
         "BR0395",
         "Daewoo, Saehan, Chevrolet Korea Motors"
        ],
        [
         "BR0581",
         "Fiat India Motors"
        ],
        [
         "BR0627",
         "Ford do Brasil Motors"
        ],
        [
         "BR0755",
         "Healey Motors"
        ],
        [
         "BR1117",
         "LTI Motors"
        ],
        [
         "BR1305",
         "Mini Motors"
        ],
        [
         "BR1332",
         "Monteverdi Motors"
        ],
        [
         "BR1378",
         "Naza Motors"
        ],
        [
         "BR2285",
         "Herald Motors"
        ],
        [
         "BR2353",
         "Cadillac Automobile Company Building"
        ],
        [
         "BR7686",
         "Mia Motors"
        ],
        [
         "BR0048",
         "Alpine Motors"
        ],
        [
         "BR0293",
         "Cadillac Motors"
        ],
        [
         "BR0301",
         "Caterham Motors"
        ],
        [
         "BR0429",
         "Daimler Motors"
        ],
        [
         "BR0585",
         "Fiat India Motors"
        ],
        [
         "BR0720",
         "Glas Motors"
        ],
        [
         "BR0787",
         "Hillman Motors"
        ],
        [
         "BR0871",
         "IFA (including Trabant, Wartburg, Barkas) Motors"
        ],
        [
         "BR1025",
         "KTM Motors"
        ],
        [
         "BR2095",
         "ZAZ Motors"
        ],
        [
         "BR2133",
         "Horch Motors"
        ],
        [
         "BR0005",
         "AC Cars Motors"
        ],
        [
         "BR0791",
         "Hindustan Motors"
        ],
        [
         "BR0846",
         "Autobianchi Motors"
        ],
        [
         "BR0883",
         "Infiniti Motors"
        ],
        [
         "BR1088",
         "Ligier Motors"
        ],
        [
         "BR1181",
         "Maserati Motors"
        ],
        [
         "BR1565",
         "Polestar Motors"
        ],
        [
         "BR2367",
         "Casa de cadillac"
        ],
        [
         "BR2380",
         "Cass Motor Sales"
        ],
        [
         "BR6546",
         "Lincoln Motors"
        ],
        [
         "BR9066",
         "Perodua Motors"
        ],
        [
         "BR0045",
         "Alpine Motors"
        ],
        [
         "BR1223",
         "Mazzanti Motors"
        ],
        [
         "BR12666",
         "Audi Motors"
        ],
        [
         "BR1364",
         "Nash Motors"
        ],
        [
         "BR1601",
         "Proton Motors"
        ],
        [
         "BR1878",
         "Subaru Motors"
        ],
        [
         "BR2042",
         "Volkswagen South Africa Motors"
        ],
        [
         "BR0473",
         "De Tomaso Motors"
        ],
        [
         "BR1053",
         "Lancia Motors"
        ],
        [
         "BR1244",
         "Mercedes-Benz (including Maybach) Motors"
        ],
        [
         "BR1785",
         "Simca Motors"
        ],
        [
         "BR2101",
         "ZIL Motors"
        ],
        [
         "BR2165",
         "Izh  Motors"
        ],
        [
         "BR7146",
         "Mastretta Motors"
        ],
        [
         "BR0126",
         "Aixam-Mega (including Arola) Motors"
        ],
        [
         "BR0359",
         "Chrysler Europe Motors"
        ],
        [
         "BR0611",
         "Ford Australia Motors"
        ],
        [
         "BR1104",
         "Lotus Motors"
        ],
        [
         "BR1174",
         "Maruti Motors"
        ],
        [
         "BR1277",
         "Messerschmitt Motors"
        ],
        [
         "BR1419",
         "NSU Motors"
        ],
        [
         "BR1510",
         "Peel Motors"
        ],
        [
         "BR1653",
         "Rivian Motors"
        ],
        [
         "BR1780",
         "Shelby SuperCars Motors"
        ],
        [
         "BR2135",
         "Horch Motors"
        ],
        [
         "BR2167",
         "Izh  Motors"
        ],
        [
         "BR2371",
         "Cass Motor Sales"
        ],
        [
         "BR3606",
         "Ford America Motors"
        ],
        [
         "BR0143",
         "Autobianchi Motors"
        ],
        [
         "BR1283",
         "Mia Motors"
        ],
        [
         "BR1328",
         "Monica Motors"
        ],
        [
         "BR1783",
         "Simca Motors"
        ],
        [
         "BR0727",
         "GMC Motors"
        ],
        [
         "BR0892",
         "Innocenti Motors"
        ],
        [
         "BR1123",
         "LuAZ Motors"
        ],
        [
         "BR12906",
         "Maybach  Motors"
        ],
        [
         "BR1690",
         "SAIC Motor Motors"
        ],
        [
         "BR1843",
         "SsangYong Motors"
        ],
        [
         "BR2067",
         "Westfield Motors"
        ],
        [
         "BR2099",
         "ZAZ Motors"
        ],
        [
         "BR0057",
         "Alvis Motors"
        ],
        [
         "BR0929",
         "Iso Motors"
        ],
        [
         "BR1842",
         "SsangYong Motors"
        ],
        [
         "BR0073",
         "Anadol Motors"
        ],
        [
         "BR0492",
         "Donkervoort Motors"
        ],
        [
         "BR0565",
         "Fiat Motors"
        ],
        [
         "BR0851",
         "Hummer Motors"
        ],
        [
         "BR1032",
         "Lada Motors"
        ],
        [
         "BR1190",
         "Maserati Motors"
        ],
        [
         "BR1410",
         "Noble Motors"
        ],
        [
         "BR1678",
         "Saab Motors"
        ],
        [
         "BR2082",
         "Zastava Motors"
        ],
        [
         "BR2124",
         "DKW Motors"
        ],
        [
         "BR2131",
         "Horch Motors"
        ],
        [
         "BR2247",
         "Talbot  Motors"
        ],
        [
         "BR2460",
         "Jones Motor Company"
        ],
        [
         "BR3786",
         "Ford Europe Motors"
        ],
        [
         "BR0080",
         "Anadol Motors"
        ],
        [
         "BR0085",
         "Ariel Motors"
        ],
        [
         "BR0220",
         "Borgward (including Goliath and Lloyd) Motors"
        ],
        [
         "BR0342",
         "Chrysler Motors"
        ],
        [
         "BR0624",
         "Ford do Brasil Motors"
        ],
        [
         "BR0730",
         "GMC Motors"
        ],
        [
         "BR0845",
         "Humber Motors"
        ],
        [
         "BR0935",
         "Isotta Fraschini Motors"
        ],
        [
         "BR1055",
         "Lancia Motors"
        ],
        [
         "BR1326",
         "Bristol Motors"
        ],
        [
         "BR1867",
         "Studebaker Motors"
        ],
        [
         "BR1895",
         "Suzuki Motors"
        ],
        [
         "BR2153",
         "Maybach  Motors"
        ],
        [
         "BR2184",
         "MG  Motors"
        ],
        [
         "BR2250",
         "Talbot  Motors"
        ],
        [
         "BR2282",
         "Herald Motors"
        ],
        [
         "BR6606",
         "Lotus Motors"
        ],
        [
         "BR0152",
         "Auto-Union Motors"
        ],
        [
         "BR0842",
         "Humber Motors"
        ],
        [
         "BR1291",
         "Micro Motors"
        ],
        [
         "BR2199",
         "Morris  Motors"
        ],
        [
         "BR2451",
         "Jones Motor Company"
        ],
        [
         "BR0029",
         "Aixam-Mega (including Arola) Motors"
        ],
        [
         "BR0033",
         "Alfa Romeo Motors"
        ],
        [
         "BR0229",
         "Bristol Motors"
        ],
        [
         "BR0457",
         "DeLorean Motors"
        ],
        [
         "BR0605",
         "Ford America Motors"
        ],
        [
         "BR0950",
         "Isuzu Motors"
        ],
        [
         "BR0990",
         "Jensen Motors"
        ],
        [
         "BR1585",
         "Porsche Motors"
        ],
        [
         "BR1672",
         "Saab Motors"
        ],
        [
         "BR4026",
         "GAZ Motors"
        ],
        [
         "BR0424",
         "Daimler Motors"
        ],
        [
         "BR0971",
         "Jeep Motors"
        ],
        [
         "BR1114",
         "LTI Motors"
        ],
        [
         "BR1258",
         "Mercury Motors"
        ],
        [
         "BR1488",
         "Panoz Motors"
        ],
        [
         "BR1679",
         "Saab Motors"
        ],
        [
         "BR2172",
         "Lagonda  Motors"
        ],
        [
         "BR2462",
         "Kindel Building"
        ],
        [
         "BR0094",
         "ARO Motors"
        ],
        [
         "BR0357",
         "Chrysler Europe Motors"
        ],
        [
         "BR0417",
         "Daihatsu Motors"
        ],
        [
         "BR0854",
         "Hummer Motors"
        ],
        [
         "BR1014",
         "Koenigsegg Motors"
        ],
        [
         "BR1245",
         "Mercedes-Benz (including Maybach) Motors"
        ],
        [
         "BR1295",
         "Micro Motors"
        ],
        [
         "BR1625",
         "Ranger Motors"
        ],
        [
         "BR1683",
         "SAIC Motor Motors"
        ],
        [
         "BR1742",
         "Saturn Motors"
        ],
        [
         "BR1827",
         "Smart Motors"
        ],
        [
         "BR1975",
         "Turner Motors"
        ],
        [
         "BR0120",
         "Asia Motors Motors"
        ],
        [
         "BR0382",
         "Dacia Motors"
        ],
        [
         "BR0470",
         "DeSoto Motors"
        ],
        [
         "BR1034",
         "Lada Motors"
        ],
        [
         "BR10626",
         "Shelby SuperCars Motors"
        ],
        [
         "BR1099",
         "Lincoln Motors"
        ],
        [
         "BR2351",
         "Cadillac Automobile Company Building"
        ],
        [
         "BR2394",
         "Clemens Automobile Company Building"
        ],
        [
         "BR0310",
         "Caterham Motors"
        ],
        [
         "BR0602",
         "Ford America Motors"
        ],
        [
         "BR0694",
         "Gilbern Motors"
        ],
        [
         "BR1668",
         "Rolls-Royce Motors"
        ],
        [
         "BR2148",
         "Wanderer Motors"
        ],
        [
         "BR2309",
         "Atlantic Motor Company"
        ],
        [
         "BR0546",
         "ARO Motors"
        ],
        [
         "BR0678",
         "GAZ Motors"
        ],
        [
         "BR1569",
         "Polestar Motors"
        ],
        [
         "BR1570",
         "Polestar Motors"
        ],
        [
         "BR1811",
         "Skoda Motors"
        ],
        [
         "BR1882",
         "Sunbeam Motors"
        ],
        [
         "BR1901",
         "Tata Motors"
        ],
        [
         "BR1937",
         "Tesla Motors"
        ],
        [
         "BR1988",
         "TVR Motors"
        ],
        [
         "BR2034",
         "Volkswagen do Brasil Motors"
        ],
        [
         "BR2334",
         "Bohn Motor Company Automobile Dealership"
        ],
        [
         "BR0074",
         "Anadol Motors"
        ],
        [
         "BR0103",
         "Artega Motors"
        ],
        [
         "BR0338",
         "Chevrolet India Motors"
        ],
        [
         "BR0418",
         "Daihatsu Motors"
        ],
        [
         "BR0435",
         "Datsun Motors"
        ],
        [
         "BR0533",
         "Elva Motors"
        ],
        [
         "BR0879",
         "IFA (including Trabant, Wartburg, Barkas) Motors"
        ],
        [
         "BR1512",
         "Perodua Motors"
        ],
        [
         "BR2234",
         "Standard  Motors"
        ],
        [
         "BR2245",
         "Talbot  Motors"
        ],
        [
         "BR2283",
         "Herald Motors"
        ],
        [
         "BR2438",
         "Hupmobile Building"
        ],
        [
         "BR8466",
         "NSU Motors"
        ],
        [
         "BR8766",
         "Pagani Motors"
        ],
        [
         "BR0961",
         "Jaguar Motors"
        ],
        [
         "BR1471",
         "Panhard Motors"
        ],
        [
         "BR1603",
         "Proton Motors"
        ],
        [
         "BR1879",
         "Subaru Motors"
        ],
        [
         "BR2211",
         "Riley  Motors"
        ],
        [
         "BR2320",
         "2008 NRHP-listed"
        ],
        [
         "BR0020",
         "Acura Motors"
        ],
        [
         "BR0339",
         "Chevrolet India Motors"
        ],
        [
         "BR0375",
         "Cizeta-Moroder Motors"
        ],
        [
         "BR0404",
         "DAF Motors"
        ],
        [
         "BR0752",
         "Healey Motors"
        ],
        [
         "BR1315",
         "Mitsubishi Motors"
        ],
        [
         "BR1392",
         "Nissan India Motors"
        ],
        [
         "BR1542",
         "Piaggio Motors"
        ],
        [
         "BR2302",
         "Atlantic Motor Company"
        ],
        [
         "BR0397",
         "Daewoo, Saehan, Chevrolet Korea Motors"
        ],
        [
         "BR0675",
         "GAZ Motors"
        ],
        [
         "BR11526",
         "Tazzari Motors"
        ],
        [
         "BR1619",
         "Puma Motors"
        ],
        [
         "BR1798",
         "Simca do Brasil Motors"
        ],
        [
         "BR1994",
         "UAZ Motors"
        ],
        [
         "BR2342",
         "Buick Automobile Company Building"
        ],
        [
         "BR7506",
         "Mercury Motors"
        ],
        [
         "BR0049",
         "Alpine Motors"
        ],
        [
         "BR0640",
         "Ford Europe Motors"
        ],
        [
         "BR0653",
         "Freightliner Motors"
        ],
        [
         "BR0897",
         "Innocenti Motors"
        ],
        [
         "BR1520",
         "Perodua Motors"
        ],
        [
         "BR1621",
         "Ranger Motors"
        ],
        [
         "BR2008",
         "Vauxhall Motors"
        ],
        [
         "BR2170",
         "Izh  Motors"
        ],
        [
         "BR2526",
         "Daimler Motors"
        ],
        [
         "BR3006",
         "Edsel Motors"
        ],
        [
         "BR8226",
         "Naza Motors"
        ],
        [
         "BR0170",
         "Auverland Motors"
        ],
        [
         "BR0843",
         "Humber Motors"
        ],
        [
         "BR1249",
         "Mercedes-Benz (including Maybach) Motors"
        ],
        [
         "BR1552",
         "Plymouth Motors"
        ],
        [
         "BR2258",
         "Das Motors"
        ],
        [
         "BR0084",
         "Ariel Motors"
        ],
        [
         "BR0610",
         "Ford America Motors"
        ],
        [
         "BR1077",
         "Lexus Motors"
        ],
        [
         "BR1101",
         "Lotus Motors"
        ],
        [
         "BR1107",
         "Lotus Motors"
        ],
        [
         "BR1209",
         "Matra (including Deutsch-Bonnet, René Bonnet) Motors"
        ],
        [
         "BR1235",
         "McLaren Motors"
        ],
        [
         "BR1417",
         "NSU Motors"
        ],
        [
         "BR1519",
         "Perodua Motors"
        ],
        [
         "BR1524",
         "Peugeot Motors"
        ],
        [
         "BR1640",
         "Reliant Motors"
        ],
        [
         "BR2110",
         "ZIL Motors"
        ],
        [
         "BR2307",
         "Atlantic Motor Company"
        ],
        [
         "BR2457",
         "Jones Motor Company"
        ],
        [
         "BR5106",
         "Hummer Motors"
        ],
        [
         "BR6306",
         "Lancia Motors"
        ],
        [
         "BR0108",
         "Artega Motors"
        ],
        [
         "BR0380",
         "Cizeta-Moroder Motors"
        ],
        [
         "BR0577",
         "Fiat do Brasil Motors"
        ],
        [
         "BR0812",
         "Honda Motors"
        ],
        [
         "BR0865",
         "Hyundai Motors"
        ],
        [
         "BR1202",
         "Matra (including Deutsch-Bonnet, René Bonnet) Motors"
        ],
        [
         "BR1504",
         "Peel Motors"
        ],
        [
         "BR1833",
         "Spyker Motors"
        ],
        [
         "BR2041",
         "Volkswagen South Africa Motors"
        ],
        [
         "BR2313",
         "2008 NRHP-listed"
        ],
        [
         "BR3726",
         "Ford do Brasil Motors"
        ],
        [
         "BR7326",
         "Mazzanti Motors"
        ],
        [
         "BR0334",
         "Chevrolet India Motors"
        ],
        [
         "BR0364",
         "Citroën Motors"
        ],
        [
         "BR0371",
         "Cizeta-Moroder Motors"
        ],
        [
         "BR0485",
         "Dodge Motors"
        ],
        [
         "BR0909",
         "Invicta Motors"
        ],
        [
         "BR0921",
         "Iso Motors"
        ],
        [
         "BR0267",
         "Bugatti Motors"
        ],
        [
         "BR0410",
         "DAF Motors"
        ],
        [
         "BR0469",
         "DeSoto Motors"
        ],
        [
         "BR0654",
         "Freightliner Motors"
        ],
        [
         "BR1528",
         "Peugeot Motors"
        ],
        [
         "BR2183",
         "MG  Motors"
        ],
        [
         "BR2264",
         "Ramani Motors"
        ],
        [
         "BR0041",
         "Alpine Motors"
        ],
        [
         "BR0122",
         "Aston Martin Motors"
        ],
        [
         "BR0349",
         "Chrysler Motors"
        ],
        [
         "BR0906",
         "Auto-Union Motors"
        ],
        [
         "BR0973",
         "Jeep Motors"
        ],
        [
         "BR1168",
         "Marlin Motors"
        ],
        [
         "BR1231",
         "McLaren Motors"
        ],
        [
         "BR1518",
         "Perodua Motors"
        ],
        [
         "BR1639",
         "Reliant Motors"
        ],
        [
         "BR2290",
         "Herald Motors"
        ],
        [
         "BR0302",
         "Caterham Motors"
        ],
        [
         "BR0468",
         "DeSoto Motors"
        ],
        [
         "BR0477",
         "De Tomaso Motors"
        ],
        [
         "BR0768",
         "Heinkel Motors"
        ],
        [
         "BR0824",
         "Honda India Motors"
        ],
        [
         "BR1008",
         "Kia Motors"
        ],
        [
         "BR1674",
         "Saab Motors"
        ],
        [
         "BR1697",
         "Saleen Motors"
        ],
        [
         "BR1715",
         "San Motors"
        ],
        [
         "BR1782",
         "Simca Motors"
        ],
        [
         "BR1797",
         "Simca do Brasil Motors"
        ],
        [
         "BR1924",
         "Tazzari Motors"
        ],
        [
         "BR4686",
         "Hillman Motors"
        ],
        [
         "BR8826",
         "Panhard Motors"
        ],
        [
         "BR0322",
         "Chevrolet Motors"
        ],
        [
         "BR0724",
         "GMC Motors"
        ],
        [
         "BR0994",
         "JPX Motors"
        ],
        [
         "BR1173",
         "Maruti Motors"
        ],
        [
         "BR1692",
         "Saleen Motors"
        ],
        [
         "BR1875",
         "Subaru Motors"
        ],
        [
         "BR0004",
         "AC Cars Motors"
        ],
        [
         "BR0067",
         "AMC, Eagle Motors"
        ],
        [
         "BR0459",
         "DeLorean Motors"
        ],
        [
         "BR0488",
         "Dodge Motors"
        ],
        [
         "BR0663",
         "FSO Motors"
        ],
        [
         "BR0711",
         "Glas Motors"
        ],
        [
         "BR0747",
         "Gumpert Motors"
        ],
        [
         "BR0894",
         "Innocenti Motors"
        ],
        [
         "BR1039",
         "Lada Motors"
        ],
        [
         "BR14046",
         "Buick Automobile Company Building"
        ],
        [
         "BR1440",
         "Oltcit Motors"
        ],
        [
         "BR1492",
         "Panther Motors"
        ],
        [
         "BR1557",
         "Plymouth Motors"
        ],
        [
         "BR2388",
         "Claremore Auto Dealership"
        ],
        [
         "BR0224",
         "Bristol Motors"
        ],
        [
         "BR1303",
         "Mini Motors"
        ],
        [
         "BR1304",
         "Mini Motors"
        ],
        [
         "BR13086",
         "MG  Motors"
        ],
        [
         "BR1567",
         "Polestar Motors"
        ],
        [
         "BR1659",
         "Rivian Motors"
        ],
        [
         "BR1725",
         "Santa Matilde Motors"
        ],
        [
         "BR2104",
         "ZIL Motors"
        ],
        [
         "BR6426",
         "Lexus Motors"
        ],
        [
         "BR0697",
         "Gilbern Motors"
        ],
        [
         "BR0781",
         "Hillman Motors"
        ],
        [
         "BR0931",
         "Isotta Fraschini Motors"
        ],
        [
         "BR1070",
         "Land Rover Motors"
        ],
        [
         "BR1130",
         "LuAZ Motors"
        ],
        [
         "BR1397",
         "Nissan India Motors"
        ],
        [
         "BR1595",
         "Premier Motors"
        ],
        [
         "BR1985",
         "TVR Motors"
        ],
        [
         "BR2011",
         "Venturi Motors"
        ],
        [
         "BR2089",
         "Zastava Motors"
        ],
        [
         "BR0484",
         "Dodge Motors"
        ],
        [
         "BR0899",
         "Innocenti Motors"
        ],
        [
         "BR1379",
         "Naza Motors"
        ],
        [
         "BR1903",
         "Tata Motors"
        ],
        [
         "BR0303",
         "Caterham Motors"
        ],
        [
         "BR0523",
         "Eicher Polaris Motors"
        ],
        [
         "BR0538",
         "Elva Motors"
        ],
        [
         "BR1363",
         "Nash Motors"
        ],
        [
         "BR1459",
         "Packard Motors"
        ],
        [
         "BR1837",
         "Spyker Motors"
        ],
        [
         "BR1918",
         "Tatra Motors"
        ],
        [
         "BR2281",
         "Herald Motors"
        ],
        [
         "BR0025",
         "Aixam-Mega (including Arola) Motors"
        ],
        [
         "BR1068",
         "Land Rover Motors"
        ],
        [
         "BR1135",
         "Lynx Motors"
        ],
        [
         "BR1560",
         "Plymouth Motors"
        ],
        [
         "BR1717",
         "San Motors"
        ],
        [
         "BR1923",
         "Tazzari Motors"
        ],
        [
         "BR1964",
         "Toyota India Motors"
        ],
        [
         "BR4266",
         "Glas Motors"
        ],
        [
         "BR0159",
         "Auto-Union Motors"
        ],
        [
         "BR0331",
         "Chevrolet India Motors"
        ],
        [
         "BR0681",
         "Geo Motors"
        ],
        [
         "BR0703",
         "Ginetta Motors"
        ],
        [
         "BR0832",
         "Hudson Motors"
        ],
        [
         "BR0880",
         "IFA (including Trabant, Wartburg, Barkas) Motors"
        ],
        [
         "BR0999",
         "JPX Motors"
        ],
        [
         "BR1974",
         "Turner Motors"
        ],
        [
         "BR2180",
         "Lagonda  Motors"
        ],
        [
         "BR0923",
         "Iso Motors"
        ],
        [
         "BR0953",
         "Iveco Motors"
        ],
        [
         "BR1498",
         "Panther Motors"
        ],
        [
         "BR1583",
         "Porsche Motors"
        ],
        [
         "BR1709",
         "Samsung Motors"
        ],
        [
         "BR1723",
         "Santa Matilde Motors"
        ],
        [
         "BR1920",
         "Tatra Motors"
        ],
        [
         "BR2222",
         "Wolseley  Motors"
        ],
        [
         "BR2231",
         "Standard  Motors"
        ],
        [
         "BR2273",
         "Deccan Motors"
        ],
        [
         "BR2327",
         "Blankinship Motor Company Building"
        ],
        [
         "BR0077",
         "Anadol Motors"
        ],
        [
         "BR0344",
         "Chrysler Motors"
        ],
        [
         "BR0774",
         "Hennessey Motors"
        ],
        [
         "BR0901",
         "Invicta Motors"
        ],
        [
         "BR1193",
         "Mastretta Motors"
        ],
        [
         "BR1199",
         "Mastretta Motors"
        ],
        [
         "BR1227",
         "Mazzanti Motors"
        ],
        [
         "BR1317",
         "Mitsubishi Motors"
        ],
        [
         "BR1428",
         "Oldsmobile Motors"
        ],
        [
         "BR1589",
         "Porsche Motors"
        ],
        [
         "BR1634",
         "Reliant Motors"
        ],
        [
         "BR1894",
         "Suzuki Motors"
        ],
        [
         "BR0387",
         "Dacia Motors"
        ],
        [
         "BR0426",
         "Anadol Motors"
        ],
        [
         "BR0573",
         "Fiat do Brasil Motors"
        ],
        [
         "BR1234",
         "McLaren Motors"
        ],
        [
         "BR1401",
         "Noble Motors"
        ],
        [
         "BR1578",
         "Pontiac, Asüna Motors"
        ],
        [
         "BR1788",
         "Simca Motors"
        ],
        [
         "BR1805",
         "Singer Motors"
        ],
        [
         "BR2144",
         "Wanderer Motors"
        ],
        [
         "BR2243",
         "Talbot  Motors"
        ],
        [
         "BR0154",
         "Auto-Union Motors"
        ],
        [
         "BR0193",
         "BMW Motors"
        ],
        [
         "BR0439",
         "Datsun Motors"
        ],
        [
         "BR0910",
         "Invicta Motors"
        ],
        [
         "BR1360",
         "Moskwitch Motors"
        ],
        [
         "BR1649",
         "Renault Motors"
        ],
        [
         "BR1804",
         "Singer Motors"
        ],
        [
         "BR1963",
         "Toyota India Motors"
        ],
        [
         "BR2019",
         "Venturi Motors"
        ],
        [
         "BR0098",
         "ARO Motors"
        ],
        [
         "BR0141",
         "Autobianchi Motors"
        ],
        [
         "BR0442",
         "Delahaye Motors"
        ],
        [
         "BR0590",
         "Fiat India Motors"
        ],
        [
         "BR10086",
         "SAIC Motor Motors"
        ],
        [
         "BR1043",
         "Lamborghini Motors"
        ],
        [
         "BR1222",
         "Mazzanti Motors"
        ],
        [
         "BR1393",
         "Nissan India Motors"
        ],
        [
         "BR2031",
         "Volkswagen do Brasil Motors"
        ],
        [
         "BR2187",
         "MG  Motors"
        ],
        [
         "BR2207",
         "Austin  Motors"
        ],
        [
         "BR2240",
         "Standard  Motors"
        ],
        [
         "BR2361",
         "Casa de cadillac"
        ],
        [
         "BR2392",
         "Clemens Automobile Company Building"
        ],
        [
         "BR5946",
         "JPX Motors"
        ],
        [
         "BR0208",
         "Bond Motors"
        ],
        [
         "BR0260",
         "Austin, Rover Motors"
        ],
        [
         "BR0309",
         "Caterham Motors"
        ],
        [
         "BR1128",
         "LuAZ Motors"
        ],
        [
         "BR1348",
         "Morgan Motors"
        ],
        [
         "BR1667",
         "Rolls-Royce Motors"
        ],
        [
         "BR2312",
         "2008 NRHP-listed"
        ],
        [
         "BR2423",
         "Howard Motor Company Building"
        ],
        [
         "BR4926",
         "Honda India Motors"
        ],
        [
         "BR0391",
         "Daewoo, Saehan, Chevrolet Korea Motors"
        ],
        [
         "BR0751",
         "Healey Motors"
        ],
        [
         "BR0769",
         "Heinkel Motors"
        ],
        [
         "BR0998",
         "JPX Motors"
        ],
        [
         "BR1183",
         "Maserati Motors"
        ],
        [
         "BR1313",
         "Mitsubishi Motors"
        ],
        [
         "BR1455",
         "Packard Motors"
        ],
        [
         "BR2463",
         "Kindel Building"
        ],
        [
         "BR4566",
         "Heinkel Motors"
        ],
        [
         "BR1108",
         "Lotus Motors"
        ],
        [
         "BR1204",
         "Matra (including Deutsch-Bonnet, René Bonnet) Motors"
        ],
        [
         "BR13326",
         "Wolseley  Motors"
        ],
        [
         "BR1372",
         "Naza Motors"
        ],
        [
         "BR1758",
         "Scion Motors"
        ],
        [
         "BR1887",
         "Sunbeam Motors"
        ],
        [
         "BR2214",
         "Riley  Motors"
        ],
        [
         "BR7986",
         "Monteverdi Motors"
        ],
        [
         "BR0515",
         "e.GO Mobile Motors"
        ],
        [
         "BR0661",
         "FSO Motors"
        ],
        [
         "BR1021",
         "KTM Motors"
        ],
        [
         "BR1268",
         "Merkur Motors"
        ],
        [
         "BR13266",
         "Riley  Motors"
        ],
        [
         "BR2151",
         "Maybach  Motors"
        ],
        [
         "BR2300",
         "Zion Automobils"
        ],
        [
         "BR2382",
         "Claremore Auto Dealership"
        ],
        [
         "BR0010",
         "AC Cars Motors"
        ],
        [
         "BR0051",
         "Alvis Motors"
        ],
        [
         "BR0341",
         "Chrysler Motors"
        ],
        [
         "BR0384",
         "Dacia Motors"
        ],
        [
         "BR0569",
         "Fiat Motors"
        ],
        [
         "BR14646",
         "Jennings Ford Automobile Dealership"
        ],
        [
         "BR1562",
         "Polestar Motors"
        ],
        [
         "BR1872",
         "Subaru Motors"
        ],
        [
         "BR2128",
         "DKW Motors"
        ],
        [
         "BR2197",
         "Morris  Motors"
        ],
        [
         "BR2253",
         "Das Motors"
        ],
        [
         "BR2315",
         "2008 NRHP-listed"
        ],
        [
         "BR0443",
         "Delahaye Motors"
        ],
        [
         "BR0925",
         "Iso Motors"
        ],
        [
         "BR1019",
         "Koenigsegg Motors"
        ],
        [
         "BR1411",
         "NSU Motors"
        ],
        [
         "BR1733",
         "Santana Motors"
        ],
        [
         "BR1745",
         "Saturn Motors"
        ],
        [
         "BR1962",
         "Toyota India Motors"
        ],
        [
         "BR2251",
         "Das Motors"
        ],
        [
         "BR0102",
         "Artega Motors"
        ],
        [
         "BR0745",
         "Gumpert Motors"
        ],
        [
         "BR0858",
         "Hummer Motors"
        ],
        [
         "BR0917",
         "Isdera Motors"
        ],
        [
         "BR1171",
         "Maruti Motors"
        ],
        [
         "BR1247",
         "Mercedes-Benz (including Maybach) Motors"
        ],
        [
         "BR1831",
         "Spyker Motors"
        ],
        [
         "BR2448",
         "Jennings Ford Automobile Dealership"
        ],
        [
         "BR0173",
         "Bentley Motors"
        ],
        [
         "BR0249",
         "Austin-Healey Motors"
        ],
        [
         "BR0619",
         "Ford Australia Motors"
        ],
        [
         "BR1118",
         "LTI Motors"
        ],
        [
         "BR1294",
         "Micro Motors"
        ],
        [
         "BR1593",
         "Premier Motors"
        ],
        [
         "BR1712",
         "San Motors"
        ],
        [
         "BR1728",
         "Santa Matilde Motors"
        ],
        [
         "BR2409",
         "Colman Automotive Building"
        ],
        [
         "BR8586",
         "Oltcit Motors"
        ],
        [
         "BR0402",
         "DAF Motors"
        ],
        [
         "BR0542",
         "Facel Vega Motors"
        ],
        [
         "BR11646",
         "Tornado Motors"
        ],
        [
         "BR1467",
         "Pagani Motors"
        ],
        [
         "BR2321",
         "Blankinship Motor Company Building"
        ],
        [
         "BR7026",
         "Maruti Motors"
        ],
        [
         "BR0295",
         "Cadillac Motors"
        ],
        [
         "BR0641",
         "Ford India Motors"
        ],
        [
         "BR0715",
         "Glas Motors"
        ],
        [
         "BR0975",
         "Jeep Motors"
        ],
        [
         "BR1004",
         "Kia Motors"
        ],
        [
         "BR1610",
         "Proton Motors"
        ],
        [
         "BR1741",
         "Saturn Motors"
        ],
        [
         "BR2053",
         "Volvo Motors"
        ],
        [
         "BR2340",
         "Bohn Motor Company Automobile Dealership"
        ],
        [
         "BR0042",
         "Alpine Motors"
        ],
        [
         "BR0311",
         "Checker Motors"
        ],
        [
         "BR0482",
         "Dodge Motors"
        ],
        [
         "BR0870",
         "Hyundai Motors"
        ],
        [
         "BR1362",
         "Nash Motors"
        ],
        [
         "BR1571",
         "Pontiac, Asüna Motors"
        ],
        [
         "BR2370",
         "Casa de cadillac"
        ],
        [
         "BR2389",
         "Claremore Auto Dealership"
        ],
        [
         "BR3966",
         "FSO Motors"
        ],
        [
         "BR6846",
         "Mahindra Motors"
        ],
        [
         "BR7806",
         "Mini Motors"
        ],
        [
         "BR0420",
         "Daihatsu Motors"
        ],
        [
         "BR0667",
         "FSO Motors"
        ],
        [
         "BR0742",
         "Gumpert Motors"
        ],
        [
         "BR0822",
         "Honda India Motors"
        ],
        [
         "BR0981",
         "Jensen Motors"
        ],
        [
         "BR1052",
         "Lancia Motors"
        ],
        [
         "BR1194",
         "Mastretta Motors"
        ],
        [
         "BR1620",
         "Puma Motors"
        ],
        [
         "BR1761",
         "Seat Motors"
        ],
        [
         "BR1925",
         "Tazzari Motors"
        ],
        [
         "BR1933",
         "Tesla Motors"
        ],
        [
         "BR2045",
         "Volkswagen South Africa Motors"
        ],
        [
         "BR2469",
         "Kindel Building"
        ],
        [
         "BR8706",
         "Packard Motors"
        ],
        [
         "BR9306",
         "Plymouth Motors"
        ],
        [
         "BR0015",
         "Acura Motors"
        ],
        [
         "BR0217",
         "Borgward (including Goliath and Lloyd) Motors"
        ],
        [
         "BR0283",
         "Bytom Motors"
        ],
        [
         "BR1274",
         "Messerschmitt Motors"
        ],
        [
         "BR1431",
         "Oltcit Motors"
        ],
        [
         "BR1451",
         "Packard Motors"
        ],
        [
         "BR1554",
         "Plymouth Motors"
        ],
        [
         "BR2049",
         "Volkswagen South Africa Motors"
        ],
        [
         "BR2088",
         "Zastava Motors"
        ],
        [
         "BR2107",
         "ZIL Motors"
        ],
        [
         "BR2305",
         "Atlantic Motor Company"
        ],
        [
         "BR5586",
         "Isotta Fraschini Motors"
        ],
        [
         "BR0290",
         "Bytom Motors"
        ],
        [
         "BR0474",
         "De Tomaso Motors"
        ],
        [
         "BR0940",
         "Isotta Fraschini Motors"
        ],
        [
         "BR2202",
         "Austin  Motors"
        ],
        [
         "BR6246",
         "Lamborghini Motors"
        ],
        [
         "BR0179",
         "Bentley Motors"
        ],
        [
         "BR0797",
         "Hindustan Motors"
        ],
        [
         "BR1261",
         "Merkur Motors"
        ],
        [
         "BR1575",
         "Pontiac, Asüna Motors"
        ],
        [
         "BR2114",
         "Audi Motors"
        ],
        [
         "BR2208",
         "Austin  Motors"
        ],
        [
         "BR0087",
         "Ariel Motors"
        ],
        [
         "BR0117",
         "Asia Motors Motors"
        ],
        [
         "BR0181",
         "Bitter Motors"
        ],
        [
         "BR0183",
         "Bitter Motors"
        ],
        [
         "BR0464",
         "DeSoto Motors"
        ],
        [
         "BR0633",
         "Ford Europe Motors"
        ],
        [
         "BR8946",
         "Panther Motors"
        ],
        [
         "BR0643",
         "Ford India Motors"
        ],
        [
         "BR1086",
         "Bitter Motors"
        ],
        [
         "BR1465",
         "Pagani Motors"
        ],
        [
         "BR1489",
         "Panoz Motors"
        ],
        [
         "BR1643",
         "Renault Motors"
        ],
        [
         "BR1765",
         "Seat Motors"
        ],
        [
         "BR0090",
         "Ariel Motors"
        ],
        [
         "BR0487",
         "Dodge Motors"
        ],
        [
         "BR1020",
         "Koenigsegg Motors"
        ],
        [
         "BR1073",
         "Lexus Motors"
        ],
        [
         "BR1102",
         "Lotus Motors"
        ],
        [
         "BR12306",
         "Volvo Motors"
        ],
        [
         "BR1682",
         "SAIC Motor Motors"
        ],
        [
         "BR1702",
         "Samsung Motors"
        ],
        [
         "BR1938",
         "Tesla Motors"
        ],
        [
         "BR1958",
         "Toyota Motors"
        ],
        [
         "BR2173",
         "Lagonda  Motors"
        ],
        [
         "BR0379",
         "Cizeta-Moroder Motors"
        ],
        [
         "BR0687",
         "Geo Motors"
        ],
        [
         "BR0767",
         "Heinkel Motors"
        ],
        [
         "BR14106",
         "Cadillac Automobile Company Building"
        ],
        [
         "BR1454",
         "Packard Motors"
        ],
        [
         "BR1642",
         "Renault Motors"
        ],
        [
         "BR1652",
         "Rivian Motors"
        ],
        [
         "BR2052",
         "Volvo Motors"
        ],
        [
         "BR2157",
         "Maybach  Motors"
        ],
        [
         "BR2182",
         "MG  Motors"
        ],
        [
         "BR3666",
         "Ford Australia Motors"
        ],
        [
         "BR0668",
         "FSO Motors"
        ],
        [
         "BR0719",
         "Glas Motors"
        ],
        [
         "BR1079",
         "Lexus Motors"
        ],
        [
         "BR1299",
         "Micro Motors"
        ],
        [
         "BR1685",
         "SAIC Motor Motors"
        ],
        [
         "BR1720",
         "San Motors"
        ],
        [
         "BR1729",
         "Santa Matilde Motors"
        ],
        [
         "BR2079",
         "Wiesmann Motors"
        ],
        [
         "BR2163",
         "Izh  Motors"
        ],
        [
         "BR2414",
         "H Street Playhouse"
        ],
        [
         "BR6966",
         "Marlin Motors"
        ],
        [
         "BR0819",
         "Honda Motors"
        ],
        [
         "BR1214",
         "Mazda Motors"
        ],
        [
         "BR1911",
         "Tatra Motors"
        ],
        [
         "BR2166",
         "Citroën Motors"
        ],
        [
         "BR2175",
         "Lagonda  Motors"
        ],
        [
         "BR2198",
         "Morris  Motors"
        ],
        [
         "BR6126",
         "KTM Motors"
        ],
        [
         "BR0400",
         "Daewoo, Saehan, Chevrolet Korea Motors"
        ],
        [
         "BR0527",
         "Eicher Polaris Motors"
        ],
        [
         "BR1103",
         "Lotus Motors"
        ],
        [
         "BR13686",
         "Herald Motors"
        ],
        [
         "BR1815",
         "Skoda Motors"
        ],
        [
         "BR0414",
         "Daihatsu Motors"
        ],
        [
         "BR0444",
         "Delahaye Motors"
        ],
        [
         "BR0959",
         "Iveco Motors"
        ],
        [
         "BR1058",
         "Lancia Motors"
        ],
        [
         "BR1338",
         "Monteverdi Motors"
        ],
        [
         "BR1388",
         "Nissan Motors"
        ],
        [
         "BR1854",
         "Standard-Triumph Motors"
        ],
        [
         "BR2270",
         "Ramani Motors"
        ],
        [
         "BR2278",
         "Deccan Motors"
        ],
        [
         "BR2287",
         "Herald Motors"
        ],
        [
         "BR2324",
         "Blankinship Motor Company Building"
        ],
        [
         "BR0280",
         "Buick Motors"
        ],
        [
         "BR0631",
         "Ford Europe Motors"
        ],
        [
         "BR0702",
         "Ginetta Motors"
        ],
        [
         "BR0942",
         "Isuzu Motors"
        ],
        [
         "BR1151",
         "Marcos Motors"
        ],
        [
         "BR2121",
         "DKW Motors"
        ],
        [
         "BR2174",
         "Lagonda  Motors"
        ],
        [
         "BR2886",
         "Dodge Motors"
        ],
        [
         "BR0213",
         "Borgward (including Goliath and Lloyd) Motors"
        ],
        [
         "BR0680",
         "GAZ Motors"
        ],
        [
         "BR1075",
         "Lexus Motors"
        ],
        [
         "BR1207",
         "Matra (including Deutsch-Bonnet, René Bonnet) Motors"
        ],
        [
         "BR1507",
         "Peel Motors"
        ],
        [
         "BR2080",
         "Wiesmann Motors"
        ],
        [
         "BR0454",
         "DeLorean Motors"
        ],
        [
         "BR0974",
         "Jeep Motors"
        ],
        [
         "BR1026",
         "Bentley Motors"
        ],
        [
         "BR13566",
         "Ramani Motors"
        ],
        [
         "BR1457",
         "Packard Motors"
        ],
        [
         "BR1684",
         "SAIC Motor Motors"
        ],
        [
         "BR2301",
         "Atlantic Motor Company"
        ],
        [
         "BR2310",
         "Atlantic Motor Company"
        ],
        [
         "BR2384",
         "Claremore Auto Dealership"
        ],
        [
         "BR2454",
         "Jones Motor Company"
        ],
        [
         "BR0186",
         "Alfa Romeo Motors"
        ],
        [
         "BR0834",
         "Hudson Motors"
        ],
        [
         "BR0904",
         "Invicta Motors"
        ],
        [
         "BR0907",
         "Invicta Motors"
        ],
        [
         "BR1200",
         "Mastretta Motors"
        ],
        [
         "BR1889",
         "Sunbeam Motors"
        ],
        [
         "BR2140",
         "Horch Motors"
        ],
        [
         "BR2177",
         "Lagonda  Motors"
        ],
        [
         "BR0810",
         "Holden Motors"
        ],
        [
         "BR1530",
         "Peugeot Motors"
        ],
        [
         "BR1638",
         "Reliant Motors"
        ],
        [
         "BR1779",
         "Shelby SuperCars Motors"
        ],
        [
         "BR1928",
         "Tazzari Motors"
        ],
        [
         "BR1954",
         "Toyota Motors"
        ],
        [
         "BR1998",
         "UAZ Motors"
        ],
        [
         "BR2355",
         "Cadillac Automobile Company Building"
        ],
        [
         "BR2359",
         "Cadillac Automobile Company Building"
        ],
        [
         "BR0012",
         "Acura Motors"
        ],
        [
         "BR0578",
         "Fiat do Brasil Motors"
        ],
        [
         "BR0748",
         "Gumpert Motors"
        ],
        [
         "BR1386",
         "British Leyland Motors"
        ],
        [
         "BR1868",
         "Studebaker Motors"
        ],
        [
         "BR1930",
         "Tazzari Motors"
        ],
        [
         "BR0427",
         "Daimler Motors"
        ],
        [
         "BR0924",
         "Iso Motors"
        ],
        [
         "BR0949",
         "Isuzu Motors"
        ],
        [
         "BR1001",
         "Kia Motors"
        ],
        [
         "BR1157",
         "Marcos Motors"
        ],
        [
         "BR1165",
         "Marlin Motors"
        ],
        [
         "BR1188",
         "Maserati Motors"
        ],
        [
         "BR1513",
         "Perodua Motors"
        ],
        [
         "BR1751",
         "Scion Motors"
        ],
        [
         "BR2029",
         "Volkswagen Motors"
        ],
        [
         "BR2060",
         "Volvo Motors"
        ],
        [
         "BR2137",
         "Horch Motors"
        ],
        [
         "BR0403",
         "DAF Motors"
        ],
        [
         "BR0645",
         "Ford India Motors"
        ],
        [
         "BR0893",
         "Innocenti Motors"
        ],
        [
         "BR1170",
         "Marlin Motors"
        ],
        [
         "BR1371",
         "Naza Motors"
        ],
        [
         "BR1858",
         "Standard-Triumph Motors"
        ],
        [
         "BR2419",
         "H Street Playhouse"
        ],
        [
         "BR3066",
         "e.GO Mobile Motors"
        ],
        [
         "BR0061",
         "AMC, Eagle Motors"
        ],
        [
         "BR0323",
         "Chevrolet Motors"
        ],
        [
         "BR1475",
         "Panhard Motors"
        ],
        [
         "BR1908",
         "Tata Motors"
        ],
        [
         "BR2220",
         "Riley  Motors"
        ],
        [
         "BR2286",
         "Dacia Motors"
        ],
        [
         "BR2431",
         "Hupmobile Building"
        ],
        [
         "BR0332",
         "Chevrolet India Motors"
        ],
        [
         "BR0551",
         "Ferrari Motors"
        ],
        [
         "BR0969",
         "Jaguar Motors"
        ],
        [
         "BR1172",
         "Maruti Motors"
        ],
        [
         "BR1203",
         "Matra (including Deutsch-Bonnet, René Bonnet) Motors"
        ],
        [
         "BR1543",
         "Piaggio Motors"
        ],
        [
         "BR1588",
         "Porsche Motors"
        ],
        [
         "BR1800",
         "Simca do Brasil Motors"
        ],
        [
         "BR1839",
         "Spyker Motors"
        ],
        [
         "BR0221",
         "Bristol Motors"
        ],
        [
         "BR0422",
         "Daimler Motors"
        ],
        [
         "BR0450",
         "Delahaye Motors"
        ],
        [
         "BR0669",
         "FSO Motors"
        ],
        [
         "BR0712",
         "Glas Motors"
        ],
        [
         "BR0804",
         "Holden Motors"
        ],
        [
         "BR0844",
         "Humber Motors"
        ],
        [
         "BR0970",
         "Jaguar Motors"
        ],
        [
         "BR1092",
         "Lincoln Motors"
        ],
        [
         "BR1184",
         "Maserati Motors"
        ],
        [
         "BR1251",
         "Mercury Motors"
        ],
        [
         "BR1287",
         "Mia Motors"
        ],
        [
         "BR1582",
         "Porsche Motors"
        ],
        [
         "BR1787",
         "Simca Motors"
        ],
        [
         "BR2395",
         "Clemens Automobile Company Building"
        ],
        [
         "BR0265",
         "Bugatti Motors"
        ],
        [
         "BR0305",
         "Caterham Motors"
        ],
        [
         "BR0860",
         "Hummer Motors"
        ],
        [
         "BR1023",
         "KTM Motors"
        ],
        [
         "BR1037",
         "Lada Motors"
        ],
        [
         "BR10446",
         "Saturn Motors"
        ],
        [
         "BR4386",
         "GTA Spano Motors"
        ],
        [
         "BR0060",
         "Alvis Motors"
        ],
        [
         "BR0123",
         "Aston Martin Motors"
        ],
        [
         "BR0239",
         "British Leyland Motors"
        ],
        [
         "BR0306",
         "Alvis Motors"
        ],
        [
         "BR10026",
         "Saab Motors"
        ],
        [
         "BR1217",
         "Mazda Motors"
        ],
        [
         "BR1914",
         "Tatra Motors"
        ],
        [
         "BR2113",
         "Audi Motors"
        ],
        [
         "BR4626",
         "Hennessey Motors"
        ],
        [
         "BR0381",
         "Dacia Motors"
        ],
        [
         "BR0629",
         "Ford do Brasil Motors"
        ],
        [
         "BR1060",
         "Lancia Motors"
        ],
        [
         "BR1145",
         "Mahindra Motors"
        ],
        [
         "BR1229",
         "Mazzanti Motors"
        ],
        [
         "BR1252",
         "Mercury Motors"
        ],
        [
         "BR1602",
         "Proton Motors"
        ],
        [
         "BR1793",
         "Simca do Brasil Motors"
        ],
        [
         "BR2130",
         "DKW Motors"
        ],
        [
         "BR2411",
         "H Street Playhouse"
        ],
        [
         "BR0215",
         "Borgward (including Goliath and Lloyd) Motors"
        ],
        [
         "BR0329",
         "Chevrolet Motors"
        ],
        [
         "BR0441",
         "Delahaye Motors"
        ],
        [
         "BR1059",
         "Lancia Motors"
        ],
        [
         "BR13386",
         "Standard  Motors"
        ],
        [
         "BR1590",
         "Porsche Motors"
        ],
        [
         "BR1647",
         "Renault Motors"
        ],
        [
         "BR1777",
         "Shelby SuperCars Motors"
        ],
        [
         "BR2040",
         "Volkswagen do Brasil Motors"
        ],
        [
         "BR2164",
         "Izh  Motors"
        ],
        [
         "BR0483",
         "Dodge Motors"
        ],
        [
         "BR0739",
         "GTA Spano Motors"
        ],
        [
         "BR0987",
         "Jensen Motors"
        ],
        [
         "BR1129",
         "LuAZ Motors"
        ],
        [
         "BR12126",
         "Volkswagen Motors"
        ],
        [
         "BR1275",
         "Messerschmitt Motors"
        ],
        [
         "BR1495",
         "Panther Motors"
        ],
        [
         "BR1657",
         "Rivian Motors"
        ],
        [
         "BR1686",
         "Bytom Motors"
        ],
        [
         "BR0228",
         "Bristol Motors"
        ],
        [
         "BR0272",
         "Buick Motors"
        ],
        [
         "BR10386",
         "Santana Motors"
        ],
        [
         "BR1080",
         "Lexus Motors"
        ],
        [
         "BR1148",
         "Mahindra Motors"
        ],
        [
         "BR1150",
         "Mahindra Motors"
        ],
        [
         "BR1370",
         "Nash Motors"
        ],
        [
         "BR1673",
         "Saab Motors"
        ],
        [
         "BR0324",
         "Chevrolet Motors"
        ],
        [
         "BR0815",
         "Honda Motors"
        ],
        [
         "BR0985",
         "Jensen Motors"
        ],
        [
         "BR1127",
         "LuAZ Motors"
        ],
        [
         "BR12606",
         "ZIL Motors"
        ],
        [
         "BR1655",
         "Rivian Motors"
        ],
        [
         "BR1841",
         "SsangYong Motors"
        ],
        [
         "BR2118",
         "Audi Motors"
        ],
        [
         "BR2368",
         "Casa de cadillac"
        ],
        [
         "BR0277",
         "Buick Motors"
        ],
        [
         "BR0827",
         "Honda India Motors"
        ],
        [
         "BR1365",
         "Nash Motors"
        ],
        [
         "BR1784",
         "Simca Motors"
        ],
        [
         "BR2190",
         "MG  Motors"
        ],
        [
         "BR5226",
         "IFA (including Trabant, Wartburg, Barkas) Motors"
        ],
        [
         "BR0188",
         "Bitter Motors"
        ],
        [
         "BR0432",
         "Datsun Motors"
        ],
        [
         "BR1701",
         "Samsung Motors"
        ],
        [
         "BR2009",
         "Vauxhall Motors"
        ],
        [
         "BR2030",
         "Volkswagen Motors"
        ],
        [
         "BR2058",
         "Volvo Motors"
        ],
        [
         "BR2271",
         "Deccan Motors"
        ],
        [
         "BR2303",
         "Atlantic Motor Company"
        ],
        [
         "BR2357",
         "Cadillac Automobile Company Building"
        ],
        [
         "BR0003",
         "AC Cars Motors"
        ],
        [
         "BR0050",
         "Alpine Motors"
        ],
        [
         "BR0227",
         "Bristol Motors"
        ],
        [
         "BR0521",
         "Eicher Polaris Motors"
        ],
        [
         "BR0620",
         "Ford Australia Motors"
        ],
        [
         "BR0623",
         "Ford do Brasil Motors"
        ],
        [
         "BR0807",
         "Holden Motors"
        ],
        [
         "BR1450",
         "Opel Motors"
        ],
        [
         "BR1971",
         "Turner Motors"
        ],
        [
         "BR1987",
         "TVR Motors"
        ],
        [
         "BR2119",
         "Audi Motors"
        ],
        [
         "BR0072",
         "Anadol Motors"
        ],
        [
         "BR0078",
         "Anadol Motors"
        ],
        [
         "BR0081",
         "Ariel Motors"
        ],
        [
         "BR0118",
         "Asia Motors Motors"
        ],
        [
         "BR0180",
         "Bentley Motors"
        ],
        [
         "BR0203",
         "Bond Motors"
        ],
        [
         "BR1138",
         "Lynx Motors"
        ],
        [
         "BR1238",
         "McLaren Motors"
        ],
        [
         "BR2346",
         "Daewoo, Saehan, Chevrolet Korea Motors"
        ],
        [
         "BR6006",
         "Kia Motors"
        ],
        [
         "BR0047",
         "Alpine Motors"
        ],
        [
         "BR0253",
         "Austin, Rover Motors"
        ],
        [
         "BR0601",
         "Ford America Motors"
        ],
        [
         "BR0833",
         "Hudson Motors"
        ],
        [
         "BR10806",
         "Singer Motors"
        ],
        [
         "BR1158",
         "Marcos Motors"
        ],
        [
         "BR1502",
         "Peel Motors"
        ],
        [
         "BR1555",
         "Plymouth Motors"
        ],
        [
         "BR1611",
         "Puma Motors"
        ],
        [
         "BR1635",
         "Reliant Motors"
        ],
        [
         "BR1852",
         "Standard-Triumph Motors"
        ],
        [
         "BR1980",
         "Turner Motors"
        ],
        [
         "BR2028",
         "Volkswagen Motors"
        ],
        [
         "BR2229",
         "Wolseley  Motors"
        ],
        [
         "BR2338",
         "Bohn Motor Company Automobile Dealership"
        ],
        [
         "BR8286",
         "Nissan Motors"
        ],
        [
         "BR0043",
         "Alpine Motors"
        ],
        [
         "BR0194",
         "BMW Motors"
        ],
        [
         "BR0695",
         "Gilbern Motors"
        ],
        [
         "BR1028",
         "KTM Motors"
        ],
        [
         "BR1178",
         "Maruti Motors"
        ],
        [
         "BR1669",
         "Rolls-Royce Motors"
        ],
        [
         "BR2330",
         "Blankinship Motor Company Building"
        ],
        [
         "BR2358",
         "Cadillac Automobile Company Building"
        ],
        [
         "BR0704",
         "Ginetta Motors"
        ],
        [
         "BR0721",
         "GMC Motors"
        ],
        [
         "BR0838",
         "Hudson Motors"
        ],
        [
         "BR10146",
         "Saleen Motors"
        ],
        [
         "BR1087",
         "Ligier Motors"
        ],
        [
         "BR1266",
         "Borgward (including Goliath and Lloyd) Motors"
        ],
        [
         "BR2331",
         "Bohn Motor Company Automobile Dealership"
        ],
        [
         "BR2345",
         "Buick Automobile Company Building"
        ],
        [
         "BR2347",
         "Buick Automobile Company Building"
        ],
        [
         "BR0205",
         "Bond Motors"
        ],
        [
         "BR0278",
         "Buick Motors"
        ],
        [
         "BR0333",
         "Chevrolet India Motors"
        ],
        [
         "BR0412",
         "Daihatsu Motors"
        ],
        [
         "BR0460",
         "DeLorean Motors"
        ],
        [
         "BR0520",
         "e.GO Mobile Motors"
        ],
        [
         "BR0726",
         "Aston Martin Motors"
        ],
        [
         "BR0837",
         "Hudson Motors"
        ],
        [
         "BR0908",
         "Invicta Motors"
        ],
        [
         "BR11286",
         "Sunbeam Motors"
        ],
        [
         "BR1480",
         "Panhard Motors"
        ],
        [
         "BR0165",
         "Auverland Motors"
        ],
        [
         "BR0600",
         "Fisker, Karma Motors"
        ],
        [
         "BR0979",
         "Jeep Motors"
        ],
        [
         "BR1035",
         "Lada Motors"
        ],
        [
         "BR1210",
         "Matra (including Deutsch-Bonnet, René Bonnet) Motors"
        ],
        [
         "BR1264",
         "Merkur Motors"
        ],
        [
         "BR1559",
         "Plymouth Motors"
        ],
        [
         "BR1573",
         "Pontiac, Asüna Motors"
        ],
        [
         "BR2450",
         "Jennings Ford Automobile Dealership"
        ],
        [
         "BR0083",
         "Ariel Motors"
        ],
        [
         "BR0161",
         "Auverland Motors"
        ],
        [
         "BR0197",
         "BMW Motors"
        ],
        [
         "BR0481",
         "Dodge Motors"
        ],
        [
         "BR0567",
         "Fiat Motors"
        ],
        [
         "BR0945",
         "Isuzu Motors"
        ],
        [
         "BR11406",
         "Tata Motors"
        ],
        [
         "BR1521",
         "Peugeot Motors"
        ],
        [
         "BR1814",
         "Skoda Motors"
        ],
        [
         "BR2007",
         "Vauxhall Motors"
        ],
        [
         "BR2405",
         "Colman Automotive Building"
        ],
        [
         "BR0655",
         "Freightliner Motors"
        ],
        [
         "BR0964",
         "Jaguar Motors"
        ],
        [
         "BR1013",
         "Koenigsegg Motors"
        ],
        [
         "BR1834",
         "Spyker Motors"
        ],
        [
         "BR1835",
         "Spyker Motors"
        ],
        [
         "BR0200",
         "BMW Motors"
        ],
        [
         "BR0240",
         "British Leyland Motors"
        ],
        [
         "BR0657",
         "Freightliner Motors"
        ],
        [
         "BR0665",
         "FSO Motors"
        ],
        [
         "BR0698",
         "Gilbern Motors"
        ],
        [
         "BR0741",
         "Gumpert Motors"
        ],
        [
         "BR1113",
         "LTI Motors"
        ],
        [
         "BR1198",
         "Mastretta Motors"
        ],
        [
         "BR1253",
         "Mercury Motors"
        ],
        [
         "BR1807",
         "Singer Motors"
        ],
        [
         "BR1897",
         "Suzuki Motors"
        ],
        [
         "BR1905",
         "Tata Motors"
        ],
        [
         "BR2000",
         "UAZ Motors"
        ],
        [
         "BR6366",
         "Land Rover Motors"
        ],
        [
         "BR0055",
         "Alvis Motors"
        ],
        [
         "BR0902",
         "Invicta Motors"
        ],
        [
         "BR1110",
         "Lotus Motors"
        ],
        [
         "BR1511",
         "Perodua Motors"
        ],
        [
         "BR2152",
         "Maybach  Motors"
        ],
        [
         "BR2444",
         "Jennings Ford Automobile Dealership"
        ],
        [
         "BR0066",
         "Acura Motors"
        ],
        [
         "BR0294",
         "Cadillac Motors"
        ],
        [
         "BR0814",
         "Honda Motors"
        ],
        [
         "BR0839",
         "Hudson Motors"
        ],
        [
         "BR0873",
         "IFA (including Trabant, Wartburg, Barkas) Motors"
        ],
        [
         "BR11826",
         "Turner Motors"
        ],
        [
         "BR1189",
         "Maserati Motors"
        ],
        [
         "BR1259",
         "Mercury Motors"
        ],
        [
         "BR1808",
         "Singer Motors"
        ],
        [
         "BR2004",
         "Vauxhall Motors"
        ],
        [
         "BR2027",
         "Volkswagen Motors"
        ],
        [
         "BR0317",
         "Checker Motors"
        ],
        [
         "BR1333",
         "Monteverdi Motors"
        ],
        [
         "BR1651",
         "Rivian Motors"
        ],
        [
         "BR1803",
         "Singer Motors"
        ],
        [
         "BR2103",
         "ZIL Motors"
        ],
        [
         "BR2132",
         "Horch Motors"
        ],
        [
         "BR2260",
         "Das Motors"
        ],
        [
         "BR2350",
         "Buick Automobile Company Building"
        ],
        [
         "BR2421",
         "Howard Motor Company Building"
        ],
        [
         "BR0071",
         "Anadol Motors"
        ],
        [
         "BR0160",
         "Auto-Union Motors"
        ],
        [
         "BR0175",
         "Bentley Motors"
        ],
        [
         "BR0413",
         "Daihatsu Motors"
        ],
        [
         "BR0635",
         "Ford Europe Motors"
        ],
        [
         "BR0693",
         "Gilbern Motors"
        ],
        [
         "BR0734",
         "GTA Spano Motors"
        ],
        [
         "BR1663",
         "Rolls-Royce Motors"
        ],
        [
         "BR1874",
         "Subaru Motors"
        ],
        [
         "BR2122",
         "DKW Motors"
        ],
        [
         "BR8886",
         "Panoz Motors"
        ],
        [
         "BR0192",
         "BMW Motors"
        ],
        [
         "BR0255",
         "Austin, Rover Motors"
        ],
        [
         "BR0637",
         "Ford Europe Motors"
        ],
        [
         "BR0757",
         "Healey Motors"
        ],
        [
         "BR0965",
         "Jaguar Motors"
        ],
        [
         "BR1078",
         "Lexus Motors"
        ],
        [
         "BR1262",
         "Merkur Motors"
        ],
        [
         "BR1352",
         "Moskwitch Motors"
        ],
        [
         "BR1448",
         "Opel Motors"
        ],
        [
         "BR1631",
         "Reliant Motors"
        ],
        [
         "BR1633",
         "Reliant Motors"
        ],
        [
         "BR1665",
         "Rolls-Royce Motors"
        ],
        [
         "BR2169",
         "Izh  Motors"
        ],
        [
         "BR2272",
         "Deccan Motors"
        ],
        [
         "BR2318",
         "2008 NRHP-listed"
        ],
        [
         "BR1224",
         "Mazzanti Motors"
        ],
        [
         "BR1339",
         "Monteverdi Motors"
        ],
        [
         "BR1699",
         "Saleen Motors"
        ],
        [
         "BR1739",
         "Santana Motors"
        ],
        [
         "BR1972",
         "Turner Motors"
        ],
        [
         "BR2439",
         "Hupmobile Building"
        ],
        [
         "BR0052",
         "Alvis Motors"
        ],
        [
         "BR0119",
         "Asia Motors Motors"
        ],
        [
         "BR0723",
         "GMC Motors"
        ],
        [
         "BR1167",
         "Marlin Motors"
        ],
        [
         "BR1545",
         "Piaggio Motors"
        ],
        [
         "BR2401",
         "Colman Automotive Building"
        ],
        [
         "BR2586",
         "Datsun Motors"
        ],
        [
         "BR0419",
         "Daihatsu Motors"
        ],
        [
         "BR0867",
         "Hyundai Motors"
        ],
        [
         "BR1770",
         "Seat Motors"
        ],
        [
         "BR1824",
         "Smart Motors"
        ],
        [
         "BR2348",
         "Buick Automobile Company Building"
        ],
        [
         "BR0185",
         "Bitter Motors"
        ],
        [
         "BR0455",
         "DeLorean Motors"
        ],
        [
         "BR0692",
         "Gilbern Motors"
        ],
        [
         "BR0790",
         "Hillman Motors"
        ],
        [
         "BR0955",
         "Iveco Motors"
        ],
        [
         "BR0978",
         "Jeep Motors"
        ],
        [
         "BR1420",
         "NSU Motors"
        ],
        [
         "BR1522",
         "Peugeot Motors"
        ],
        [
         "BR1719",
         "San Motors"
        ],
        [
         "BR2335",
         "Bohn Motor Company Automobile Dealership"
        ],
        [
         "BR1499",
         "Panther Motors"
        ],
        [
         "BR3906",
         "Freightliner Motors"
        ],
        [
         "BR6186",
         "Lada Motors"
        ],
        [
         "BR0299",
         "Cadillac Motors"
        ],
        [
         "BR0438",
         "Datsun Motors"
        ],
        [
         "BR1629",
         "Ranger Motors"
        ],
        [
         "BR1941",
         "Tornado Motors"
        ],
        [
         "BR2032",
         "Volkswagen do Brasil Motors"
        ],
        [
         "BR2057",
         "Volvo Motors"
        ],
        [
         "BR2241",
         "Talbot  Motors"
        ],
        [
         "BR0191",
         "BMW Motors"
        ],
        [
         "BR0537",
         "Elva Motors"
        ],
        [
         "BR1623",
         "Ranger Motors"
        ],
        [
         "BR2284",
         "Herald Motors"
        ],
        [
         "BR0035",
         "Alfa Romeo Motors"
        ],
        [
         "BR0785",
         "Hillman Motors"
        ],
        [
         "BR0818",
         "Honda Motors"
        ],
        [
         "BR1137",
         "Lynx Motors"
        ],
        [
         "BR1146",
         "BMW Motors"
        ],
        [
         "BR1759",
         "Scion Motors"
        ],
        [
         "BR2375",
         "Cass Motor Sales"
        ],
        [
         "BR3426",
         "Fiat do Brasil Motors"
        ],
        [
         "BR0613",
         "Ford Australia Motors"
        ],
        [
         "BR1205",
         "Matra (including Deutsch-Bonnet, René Bonnet) Motors"
        ],
        [
         "BR1515",
         "Perodua Motors"
        ],
        [
         "BR1618",
         "Puma Motors"
        ],
        [
         "BR2766",
         "DeSoto Motors"
        ],
        [
         "BR0127",
         "Aston Martin Motors"
        ],
        [
         "BR1447",
         "Opel Motors"
        ],
        [
         "BR1823",
         "Smart Motors"
        ],
        [
         "BR2259",
         "Das Motors"
        ],
        [
         "BR0199",
         "BMW Motors"
        ],
        [
         "BR0201",
         "Bond Motors"
        ],
        [
         "BR0237",
         "British Leyland Motors"
        ],
        [
         "BR0493",
         "Donkervoort Motors"
        ],
        [
         "BR1041",
         "Lamborghini Motors"
        ],
        [
         "BR1485",
         "Panoz Motors"
        ],
        [
         "BR1527",
         "Peugeot Motors"
        ],
        [
         "BR2417",
         "H Street Playhouse"
        ],
        [
         "BR7266",
         "Mazda Motors"
        ],
        [
         "BR0128",
         "Aston Martin Motors"
        ],
        [
         "BR0234",
         "British Leyland Motors"
        ],
        [
         "BR1029",
         "KTM Motors"
        ],
        [
         "BR1125",
         "LuAZ Motors"
        ],
        [
         "BR1219",
         "Mazda Motors"
        ],
        [
         "BR1421",
         "Oldsmobile Motors"
        ],
        [
         "BR1523",
         "Peugeot Motors"
        ],
        [
         "BR1764",
         "Seat Motors"
        ],
        [
         "BR2195",
         "Morris  Motors"
        ],
        [
         "BR2200",
         "Morris  Motors"
        ],
        [
         "BR2317",
         "2008 NRHP-listed"
        ],
        [
         "BR0028",
         "Aixam-Mega (including Arola) Motors"
        ],
        [
         "BR0038",
         "Alfa Romeo Motors"
        ],
        [
         "BR0872",
         "IFA (including Trabant, Wartburg, Barkas) Motors"
        ],
        [
         "BR0898",
         "Innocenti Motors"
        ],
        [
         "BR0912",
         "Isdera Motors"
        ],
        [
         "BR1005",
         "Kia Motors"
        ],
        [
         "BR1147",
         "Mahindra Motors"
        ],
        [
         "BR1999",
         "UAZ Motors"
        ],
        [
         "BR2023",
         "Volkswagen Motors"
        ],
        [
         "BR2108",
         "ZIL Motors"
        ],
        [
         "BR2341",
         "Buick Automobile Company Building"
        ],
        [
         "BR2344",
         "Buick Automobile Company Building"
        ],
        [
         "BR0008",
         "AC Cars Motors"
        ],
        [
         "BR0445",
         "Delahaye Motors"
        ],
        [
         "BR1493",
         "Panther Motors"
        ],
        [
         "BR1754",
         "Scion Motors"
        ],
        [
         "BR2059",
         "Volvo Motors"
        ],
        [
         "BR0024",
         "Aixam-Mega (including Arola) Motors"
        ],
        [
         "BR0524",
         "Eicher Polaris Motors"
        ],
        [
         "BR1218",
         "Mazda Motors"
        ],
        [
         "BR1482",
         "Panoz Motors"
        ],
        [
         "BR1687",
         "SAIC Motor Motors"
        ],
        [
         "BR1838",
         "Spyker Motors"
        ],
        [
         "BR1902",
         "Tata Motors"
        ],
        [
         "BR1977",
         "Turner Motors"
        ],
        [
         "BR2201",
         "Austin  Motors"
        ],
        [
         "BR2374",
         "Cass Motor Sales"
        ],
        [
         "BR1175",
         "Maruti Motors"
        ],
        [
         "BR1544",
         "Piaggio Motors"
        ],
        [
         "BR1641",
         "Renault Motors"
        ],
        [
         "BR0214",
         "Borgward (including Goliath and Lloyd) Motors"
        ],
        [
         "BR0588",
         "Fiat India Motors"
        ],
        [
         "BR1049",
         "Lamborghini Motors"
        ],
        [
         "BR1727",
         "Santa Matilde Motors"
        ],
        [
         "BR2105",
         "ZIL Motors"
        ],
        [
         "BR0369",
         "Citroën Motors"
        ],
        [
         "BR0555",
         "Ferrari Motors"
        ],
        [
         "BR0615",
         "Ford Australia Motors"
        ],
        [
         "BR0840",
         "Hudson Motors"
        ],
        [
         "BR1121",
         "LuAZ Motors"
        ],
        [
         "BR1314",
         "Mitsubishi Motors"
        ],
        [
         "BR1563",
         "Polestar Motors"
        ],
        [
         "BR2239",
         "Standard  Motors"
        ],
        [
         "BR2339",
         "Bohn Motor Company Automobile Dealership"
        ],
        [
         "BR2393",
         "Clemens Automobile Company Building"
        ]
       ],
       "datasetInfos": [],
       "dbfsResultPath": null,
       "isJsonSchema": true,
       "metadata": {},
       "overflow": false,
       "plotOptions": {
        "customPlotOptions": {},
        "displayType": "table",
        "pivotAggregation": null,
        "pivotColumns": null,
        "xColumns": null,
        "yColumns": null
       },
       "removedWidgets": [],
       "schema": [
        {
         "metadata": "{}",
         "name": "Branch_ID",
         "type": "\"string\""
        },
        {
         "metadata": "{}",
         "name": "BranchName",
         "type": "\"string\""
        }
       ],
       "type": "table"
      }
     },
     "output_type": "display_data"
    }
   ],
   "source": [
    "display(df_src)"
   ]
  },
  {
   "cell_type": "code",
   "execution_count": 0,
   "metadata": {
    "application/vnd.databricks.v1+cell": {
     "cellMetadata": {},
     "inputWidgets": {},
     "nuid": "9fda430e-e522-4ba5-aba6-77a79df975a1",
     "showTitle": false,
     "tableResultSettingsMap": {},
     "title": ""
    }
   },
   "outputs": [],
   "source": []
  }
 ],
 "metadata": {
  "application/vnd.databricks.v1+notebook": {
   "computePreferences": null,
   "dashboards": [],
   "environmentMetadata": {
    "base_environment": "",
    "client": "1"
   },
   "language": "python",
   "notebookMetadata": {
    "mostRecentlyExecutedCommandWithImplicitDF": {
     "commandId": 496459268318877,
     "dataframes": [
      "_sqldf"
     ]
    },
    "pythonIndentUnit": 4
   },
   "notebookName": "gold_layer_dim_date",
   "widgets": {}
  },
  "language_info": {
   "name": "python"
  }
 },
 "nbformat": 4,
 "nbformat_minor": 0
}
